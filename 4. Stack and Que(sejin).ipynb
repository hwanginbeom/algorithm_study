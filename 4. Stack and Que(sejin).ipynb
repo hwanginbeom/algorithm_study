{
 "cells": [
  {
   "cell_type": "markdown",
   "metadata": {},
   "source": [
    "## 스택과 큐\n",
    "<br>\n",
    "- 스택\n",
    "<br>\n",
    "- 2020.10.29 (목)"
   ]
  },
  {
   "cell_type": "code",
   "execution_count": 137,
   "metadata": {},
   "outputs": [
    {
     "name": "stdout",
     "output_type": "stream",
     "text": [
      "7\n",
      "pop\n",
      "-1\n",
      "top\n",
      "-1\n",
      "push 123\n",
      "top\n",
      "123\n",
      "pop\n",
      "123\n",
      "top\n",
      "-1\n",
      "pop\n",
      "-1\n"
     ]
    }
   ],
   "source": [
    "stack = []\n",
    "\n",
    "n = int(input())\n",
    "\n",
    "for _ in range(n) :\n",
    "    m = input().split()\n",
    "\n",
    "    if m[0] == 'push' :\n",
    "        stack.append(int(m[1]))\n",
    "        continue\n",
    "    \n",
    "    if m == ['pop'] :\n",
    "        if len(stack) == 0 :\n",
    "            result = -1\n",
    "        else : \n",
    "            result = stack[::-1][0]\n",
    "            stack.pop()\n",
    "    \n",
    "    if m == ['size'] :\n",
    "        result = len(stack)\n",
    "\n",
    "    if m == ['empty'] :\n",
    "        if len(stack) == 0 :\n",
    "            result = 1\n",
    "        else :\n",
    "            result = 0\n",
    "        \n",
    "    if m == ['top'] :\n",
    "        if len(stack) == 0 :\n",
    "            result = -1\n",
    "        else :\n",
    "            result = stack[::-1][0]\n",
    "    \n",
    "    print(result)"
   ]
  },
  {
   "cell_type": "markdown",
   "metadata": {},
   "source": [
    "## 스택과 큐\n",
    "<br>\n",
    "- 큐\n",
    "<br>\n",
    "- 2020.10.29 (목)"
   ]
  },
  {
   "cell_type": "code",
   "execution_count": 138,
   "metadata": {},
   "outputs": [
    {
     "name": "stdout",
     "output_type": "stream",
     "text": [
      "15\n",
      "push 1\n",
      "push 2\n",
      "front\n",
      "1\n",
      "back\n",
      "2\n",
      "size\n",
      "2\n",
      "empty\n",
      "0\n",
      "pop\n",
      "1\n",
      "pop\n",
      "2\n",
      "pop\n",
      "-1\n",
      "size\n",
      "0\n",
      "empty\n",
      "1\n",
      "pop\n",
      "-1\n",
      "push 3\n",
      "empty\n",
      "0\n",
      "front\n",
      "3\n"
     ]
    }
   ],
   "source": [
    "from collections import deque\n",
    "\n",
    "queue = deque()\n",
    "\n",
    "n = int(input())\n",
    "\n",
    "for _ in range(n) :\n",
    "    m = input().split()\n",
    "    \n",
    "    if m[0] == 'push' :\n",
    "        queue.append(int(m[1]))\n",
    "        continue\n",
    "    \n",
    "    if m == ['pop'] :\n",
    "        if len(queue) == 0 :\n",
    "            result = -1\n",
    "        else : \n",
    "            result = queue[0]\n",
    "            queue.popleft()\n",
    "    \n",
    "    if m == ['size'] :\n",
    "        result = len(queue)\n",
    "\n",
    "    if m == ['empty'] :\n",
    "        if len(queue) == 0 :\n",
    "            result = 1\n",
    "        else :\n",
    "            result = 0\n",
    "    \n",
    "    if m == ['front'] :\n",
    "        if len(queue) == 0 :\n",
    "            result = -1\n",
    "        else :\n",
    "            result = queue[0]\n",
    "        \n",
    "    if m == ['back'] :\n",
    "        if len(queue) == 0 :\n",
    "            result = -1\n",
    "        else :\n",
    "            queue.reverse()\n",
    "            result = queue[0]\n",
    "            queue.reverse()\n",
    "    \n",
    "    print(result)"
   ]
  }
 ],
 "metadata": {
  "kernelspec": {
   "display_name": "Python 3",
   "language": "python",
   "name": "python3"
  },
  "language_info": {
   "codemirror_mode": {
    "name": "ipython",
    "version": 3
   },
   "file_extension": ".py",
   "mimetype": "text/x-python",
   "name": "python",
   "nbconvert_exporter": "python",
   "pygments_lexer": "ipython3",
   "version": "3.6.5"
  }
 },
 "nbformat": 4,
 "nbformat_minor": 4
}
