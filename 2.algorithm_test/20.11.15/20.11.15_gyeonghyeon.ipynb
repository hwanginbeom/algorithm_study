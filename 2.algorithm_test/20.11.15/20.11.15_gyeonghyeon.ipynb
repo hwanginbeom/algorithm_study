{
 "cells": [
  {
   "cell_type": "markdown",
   "metadata": {},
   "source": [
    "### 가장 큰 수\n",
    "- 저번에 본 코드 이후로 또 충격\n",
    "- 어떻게 이런 생각을 할 수 있지...\n",
    "- 내 코드는 초라해서 차마//....."
   ]
  },
  {
   "cell_type": "code",
   "execution_count": 32,
   "metadata": {},
   "outputs": [
    {
     "data": {
      "text/plain": [
       "'6210'"
      ]
     },
     "execution_count": 32,
     "metadata": {},
     "output_type": "execute_result"
    }
   ],
   "source": [
    "def solution(numbers): \n",
    "    numbers = list(map(str, numbers)) \n",
    "    numbers.sort(key=lambda x: x*3, reverse=True) \n",
    "    return str(int(''.join(numbers)))\n",
    "\n",
    "numbers = [6, 10, 2]\n",
    "solution(numbers)"
   ]
  },
  {
   "cell_type": "markdown",
   "metadata": {},
   "source": [
    "### H-INDEX\n",
    "- 풀면서 문제를 이해했습니다.\n",
    "- 역시 어떻게 이러한 알고리즘을 짜는지..."
   ]
  },
  {
   "cell_type": "code",
   "execution_count": 40,
   "metadata": {},
   "outputs": [
    {
     "name": "stdout",
     "output_type": "stream",
     "text": [
      "[[0, 6], [2, 5], [3, 4], [4, 3], [5, 2], [5, 2]]\n",
      "[4, 3]\n"
     ]
    },
    {
     "data": {
      "text/plain": [
       "4"
      ]
     },
     "execution_count": 40,
     "metadata": {},
     "output_type": "execute_result"
    }
   ],
   "source": [
    "def solution(citations):\n",
    "    citations.sort(reverse=True)\n",
    "    answer = max(map(min, enumerate(citations, start=1)))\n",
    "    return answer \n",
    "\n",
    "citations = [3, 0, 6, 1, 5]\n",
    "solution(citations)"
   ]
  },
  {
   "cell_type": "markdown",
   "metadata": {},
   "source": [
    "### 입국심사\n",
    "- 이분탐색도 갈길이 멀었구만..."
   ]
  },
  {
   "cell_type": "code",
   "execution_count": 29,
   "metadata": {},
   "outputs": [
    {
     "data": {
      "text/plain": [
       "28"
      ]
     },
     "execution_count": 29,
     "metadata": {},
     "output_type": "execute_result"
    }
   ],
   "source": [
    "n = 6\n",
    "times = [7,10]\n",
    "def solution(n, times): \n",
    "    right = min(times) * n \n",
    "    left = 1 \n",
    "    answer = 0 \n",
    "    while(left <= right):\n",
    "        mid = (right + left) // 2 \n",
    "        temp = n \n",
    "        for i in times: \n",
    "            temp -= mid//i \n",
    "            if temp <= 0: \n",
    "                answer = mid \n",
    "                right = mid - 1 \n",
    "                break \n",
    "        if temp>0: \n",
    "            left = mid + 1 \n",
    "    return answer\n",
    "\n",
    "\n",
    "solution(n, times)"
   ]
  }
 ],
 "metadata": {
  "kernelspec": {
   "display_name": "Python 3",
   "language": "python",
   "name": "python3"
  },
  "language_info": {
   "codemirror_mode": {
    "name": "ipython",
    "version": 3
   },
   "file_extension": ".py",
   "mimetype": "text/x-python",
   "name": "python",
   "nbconvert_exporter": "python",
   "pygments_lexer": "ipython3",
   "version": "3.6.5"
  }
 },
 "nbformat": 4,
 "nbformat_minor": 2
}
