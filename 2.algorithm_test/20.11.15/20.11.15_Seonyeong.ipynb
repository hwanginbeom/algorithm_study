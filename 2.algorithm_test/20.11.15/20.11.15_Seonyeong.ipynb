{
 "cells": [
  {
   "cell_type": "markdown",
   "metadata": {},
   "source": [
    "### 가장 큰 수"
   ]
  },
  {
   "cell_type": "code",
   "execution_count": 17,
   "metadata": {},
   "outputs": [
    {
     "data": {
      "text/plain": [
       "'6210'"
      ]
     },
     "execution_count": 17,
     "metadata": {},
     "output_type": "execute_result"
    }
   ],
   "source": [
    "# took more than 1 hour\n",
    "\n",
    "numbers = [6, 10, 2]\n",
    "\n",
    "def solution(numbers):\n",
    "    new_nums = []\n",
    "    for number in numbers:\n",
    "        number = str(number)*4\n",
    "        new_nums.append(number[:4])\n",
    "\n",
    "\n",
    "    new_nums_index = [i[0] for i in sorted(enumerate(new_nums), key=lambda x:x[1])]\n",
    "\n",
    "    answer = ''\n",
    "    for i in new_nums_index[::-1]:\n",
    "        answer = answer + str(numbers[i])\n",
    "    answer = int(answer)\n",
    "    answer = str(answer)\n",
    "    return answer\n",
    "\n",
    "                \n",
    "    return(new_nums)\n",
    "\n",
    "solution(numbers)"
   ]
  },
  {
   "cell_type": "markdown",
   "metadata": {},
   "source": [
    "### H-index"
   ]
  },
  {
   "cell_type": "code",
   "execution_count": null,
   "metadata": {},
   "outputs": [],
   "source": [
    "def solution(citations):\n",
    "    citations.sort()\n",
    "    max_value = 0\n",
    "    for i in range(len(citations)):\n",
    "        if citations[i] >= len(citations[i:]):\n",
    "            max_value = len(citations[i:])\n",
    "            break\n",
    "        answer = max_value\n",
    "        return answer"
   ]
  },
  {
   "cell_type": "markdown",
   "metadata": {},
   "source": [
    "### 입국심사"
   ]
  },
  {
   "cell_type": "code",
   "execution_count": null,
   "metadata": {},
   "outputs": [],
   "source": [
    "def solution(n, times):\n",
    "    answer = 0\n",
    "    \n",
    "    left = 1\n",
    "    right = min(times) * n\n",
    "    \n",
    "    while (left <= right):\n",
    "        mid = (left + right) // 2\n",
    "        temp = n\n",
    "        for i in times:\n",
    "            temp -= mid//i\n",
    "            if temp <= 0:\n",
    "                answer = mid\n",
    "                right = mid - 1\n",
    "                break\n",
    "        if temp > 0:\n",
    "            left = mid + 1\n",
    "            \n",
    "    return answer\n",
    "        \n",
    "        "
   ]
  }
 ],
 "metadata": {
  "kernelspec": {
   "display_name": "Python 3",
   "language": "python",
   "name": "python3"
  },
  "language_info": {
   "codemirror_mode": {
    "name": "ipython",
    "version": 3
   },
   "file_extension": ".py",
   "mimetype": "text/x-python",
   "name": "python",
   "nbconvert_exporter": "python",
   "pygments_lexer": "ipython3",
   "version": "3.7.6"
  }
 },
 "nbformat": 4,
 "nbformat_minor": 4
}
