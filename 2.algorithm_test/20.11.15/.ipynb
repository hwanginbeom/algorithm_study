{
 "cells": [
  {
   "cell_type": "markdown",
   "metadata": {},
   "source": [
    "### 가장 큰 수"
   ]
  },
  {
   "cell_type": "code",
   "execution_count": 29,
   "metadata": {},
   "outputs": [
    {
     "data": {
      "text/plain": [
       "'9534330'"
      ]
     },
     "execution_count": 29,
     "metadata": {},
     "output_type": "execute_result"
    }
   ],
   "source": [
    "def solution(numbers) :\n",
    "    numbers = list(map(str, numbers))\n",
    "    numbers.sort(key = lambda x : x*5, reverse = True)\n",
    "    answer = ''.join(numbers)\n",
    "    \n",
    "    answer = int(answer)\n",
    "    answer = str(answer)\n",
    "    return answer\n",
    "\n",
    "numbers = [3,30,34,5,9]\n",
    "solution(numbers)"
   ]
  },
  {
   "cell_type": "markdown",
   "metadata": {},
   "source": [
    "### H - index"
   ]
  },
  {
   "cell_type": "code",
   "execution_count": 34,
   "metadata": {},
   "outputs": [
    {
     "data": {
      "text/plain": [
       "3"
      ]
     },
     "execution_count": 34,
     "metadata": {},
     "output_type": "execute_result"
    }
   ],
   "source": [
    "def solution(citations):\n",
    "    citations.sort()\n",
    "    \n",
    "    for i in range(len(citations)) :\n",
    "        if citations[i] >= len(citations)-i :\n",
    "            return len(citations)-i\n",
    "\n",
    "\n",
    "data = [3,0,6,1,5]\n",
    "solution(data)"
   ]
  },
  {
   "cell_type": "markdown",
   "metadata": {},
   "source": [
    "### 입국심사"
   ]
  },
  {
   "cell_type": "code",
   "execution_count": 39,
   "metadata": {},
   "outputs": [
    {
     "data": {
      "text/plain": [
       "28"
      ]
     },
     "execution_count": 39,
     "metadata": {},
     "output_type": "execute_result"
    }
   ],
   "source": [
    "def solution(n, time) :\n",
    "    left, right = 1, max(time) * n\n",
    "    \n",
    "    answer = 0\n",
    "    while left <= right :\n",
    "        mid = (left + right) // 2\n",
    "        people = 0\n",
    "        \n",
    "        for i in time :\n",
    "            people += mid // i\n",
    "            if people >= n:\n",
    "                break\n",
    "        \n",
    "        if people >= n :\n",
    "            answer = mid\n",
    "            right = mid - 1\n",
    "            \n",
    "        elif people < n :\n",
    "            left = mid + 1\n",
    "    \n",
    "    return answer\n",
    "\n",
    "solution(6,[7,10])"
   ]
  }
 ],
 "metadata": {
  "kernelspec": {
   "display_name": "Python 3",
   "language": "python",
   "name": "python3"
  },
  "language_info": {
   "codemirror_mode": {
    "name": "ipython",
    "version": 3
   },
   "file_extension": ".py",
   "mimetype": "text/x-python",
   "name": "python",
   "nbconvert_exporter": "python",
   "pygments_lexer": "ipython3",
   "version": "3.8.3"
  }
 },
 "nbformat": 4,
 "nbformat_minor": 4
}
