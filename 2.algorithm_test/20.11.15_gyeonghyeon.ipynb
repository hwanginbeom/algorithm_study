{
 "cells": [
  {
   "cell_type": "code",
   "execution_count": 119,
   "metadata": {},
   "outputs": [
    {
     "data": {
      "text/plain": [
       "'9534330'"
      ]
     },
     "execution_count": 119,
     "metadata": {},
     "output_type": "execute_result"
    }
   ],
   "source": [
    "from itertools import combinations\n",
    "import itertools\n",
    "\n",
    "def solution(numbers):\n",
    "    numbers = [ str(x) for x in numbers]\n",
    "    numbers_list = [''.join(p) for p in itertools.permutations(numbers)]    \n",
    "    answer = max(numbers_list)\n",
    "    return answer\n",
    "\n",
    "numbers = [3, 30, 34, 5, 9]\n",
    "solution(numbers)"
   ]
  },
  {
   "cell_type": "code",
   "execution_count": 114,
   "metadata": {},
   "outputs": [
    {
     "data": {
      "text/plain": [
       "3"
      ]
     },
     "execution_count": 114,
     "metadata": {},
     "output_type": "execute_result"
    }
   ],
   "source": [
    "# def max_idx(list_case):\n",
    "#     if len(list_case):\n",
    "#         return list_case\n",
    "#     pivot = list_case[0]\n",
    "#     tail =  list_case[1]\n",
    "    \n",
    "#     left_side = [x for x in tail if pivot < ]\n",
    "\n",
    "\n",
    "def solution(citations):\n",
    "    citations.sort()\n",
    "    mix_num = min(citations)\n",
    "    num_list = []\n",
    "    cnt = 0\n",
    "    for i in citations:\n",
    "        idx = citations.index(i)\n",
    "        for k in range(idx,len(citations)):\n",
    "            if i <= citations[k]:\n",
    "                cnt +=1\n",
    "        num_list.append([i,cnt])\n",
    "        cnt = 0\n",
    "    num_list = sorted(num_list, key=lambda x :-x[1])\n",
    "    result_list = []\n",
    "    for i in range(len(citations)):\n",
    "        if num_list[i][1] <= len(num_list[:i+1]) and  num_list[i][1] >= len(num_list[i:]):\n",
    "                    result_list.append(num_list[i])                                                      \n",
    "    result_list = max(result_list,key = lambda x:x[1])\n",
    "    answer = result_list[0]\n",
    "    return answer\n",
    "\n",
    "citations = [3, 0, 6, 1, 5]\n",
    "solution(citations)"
   ]
  }
 ],
 "metadata": {
  "kernelspec": {
   "display_name": "Python 3",
   "language": "python",
   "name": "python3"
  },
  "language_info": {
   "codemirror_mode": {
    "name": "ipython",
    "version": 3
   },
   "file_extension": ".py",
   "mimetype": "text/x-python",
   "name": "python",
   "nbconvert_exporter": "python",
   "pygments_lexer": "ipython3",
   "version": "3.6.5"
  }
 },
 "nbformat": 4,
 "nbformat_minor": 2
}
