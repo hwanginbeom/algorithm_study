{
 "cells": [
  {
   "cell_type": "markdown",
   "metadata": {},
   "source": [
    "## K번째 수"
   ]
  },
  {
   "cell_type": "code",
   "execution_count": 19,
   "metadata": {},
   "outputs": [
    {
     "name": "stdout",
     "output_type": "stream",
     "text": [
      "[5, 6, 3]\n"
     ]
    }
   ],
   "source": [
    "def solution(array, commands):\n",
    "    answer = []\n",
    "    for command in commands:\n",
    "        i,j,k = command\n",
    "        part = array[i-1:j]\n",
    "        sorted_part = sorted(part)\n",
    "        answer.append(sorted_part[k-1])\n",
    "    return answer\n"
   ]
  },
  {
   "cell_type": "markdown",
   "metadata": {},
   "source": [
    "## 타겟 넘버"
   ]
  },
  {
   "cell_type": "code",
   "execution_count": null,
   "metadata": {},
   "outputs": [],
   "source": [
    "def solution(numbers, target):\n",
    "    a = [0]\n",
    "    for i in numbers:\n",
    "        b = []\n",
    "        for j in a:\n",
    "            b.append(j+i)\n",
    "            b.append(j-i)\n",
    "        a = b\n",
    "    return b.count(target)"
   ]
  },
  {
   "cell_type": "markdown",
   "metadata": {},
   "source": [
    "## 네트워크"
   ]
  },
  {
   "cell_type": "code",
   "execution_count": 2,
   "metadata": {},
   "outputs": [],
   "source": [
    "def dfs(graph, v, visited):\n",
    "    visited[v] = True\n",
    "    \n",
    "    for i in graph[v]:\n",
    "        if not visited[i]:\n",
    "            dfs(graph, i, visited)\n",
    "\n",
    "def solution(n, computers):\n",
    "    answer=0\n",
    "    graph=[[] for i in range(n)]\n",
    "    \n",
    "    for i in range(len(computers)):\n",
    "        for j in range(len(computers[i])):\n",
    "            if i == j:\n",
    "                continue\n",
    "            elif computers[i][j] == 1:\n",
    "                if j not in graph[i]:\n",
    "                    graph[i].append(j)\n",
    "                    graph[j].append(i)\n",
    "                           \n",
    "            \n",
    "    visited = [False] * n\n",
    "\n",
    "    for i in range(n):\n",
    "        if not visited[i]:\n",
    "            dfs(graph, i, visited)\n",
    "            answer += 1\n",
    "\n",
    "    return answer"
   ]
  }
 ],
 "metadata": {
  "kernelspec": {
   "display_name": "Python 3",
   "language": "python",
   "name": "python3"
  },
  "language_info": {
   "codemirror_mode": {
    "name": "ipython",
    "version": 3
   },
   "file_extension": ".py",
   "mimetype": "text/x-python",
   "name": "python",
   "nbconvert_exporter": "python",
   "pygments_lexer": "ipython3",
   "version": "3.7.6"
  }
 },
 "nbformat": 4,
 "nbformat_minor": 4
}
