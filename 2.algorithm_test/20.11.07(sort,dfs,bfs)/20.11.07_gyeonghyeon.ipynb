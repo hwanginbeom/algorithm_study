{
 "cells": [
  {
   "cell_type": "markdown",
   "metadata": {},
   "source": [
    "### k번째 수"
   ]
  },
  {
   "cell_type": "code",
   "execution_count": null,
   "metadata": {},
   "outputs": [],
   "source": [
    "def solution(array, commands):\n",
    "    answer = []    \n",
    "    for numm in commands:\n",
    "            i , j , k = numm\n",
    "            cut_list = array[i-1:j]\n",
    "            cut_list = sorted(cut_list)\n",
    "            answer.append(cut_list[k-1])\n",
    "            cut_list = ''\n",
    "             \n",
    "    return answer"
   ]
  },
  {
   "cell_type": "markdown",
   "metadata": {},
   "source": [
    "### 타겟넘버"
   ]
  },
  {
   "cell_type": "code",
   "execution_count": 53,
   "metadata": {},
   "outputs": [
    {
     "name": "stdout",
     "output_type": "stream",
     "text": [
      "5\n"
     ]
    }
   ],
   "source": [
    "numbers = [1, 1, 1, 1, 1]\n",
    "target = 3\n",
    "def solution(numbers, target):\n",
    "    answer = [0]\n",
    "    for i in numbers:\n",
    "        sum_mid_list = []\n",
    "        for j in answer:\n",
    "            sum_mid_list.append(j+i)\n",
    "            sum_mid_list.append(j-i)\n",
    "        answer = sum_mid_list\n",
    "    \n",
    "    return answer.count(target)\n",
    "a = solution(numbers, target)\n",
    "print(a)"
   ]
  },
  {
   "cell_type": "markdown",
   "metadata": {},
   "source": [
    "### 네트워크"
   ]
  },
  {
   "cell_type": "code",
   "execution_count": 39,
   "metadata": {},
   "outputs": [
    {
     "name": "stdout",
     "output_type": "stream",
     "text": [
      "[[], [1, 2], [1, 2, 3], [2, 3]]\n",
      "1\n"
     ]
    }
   ],
   "source": [
    "def dfs(graph,v,visited):\n",
    "    visited[v] = True\n",
    "    for i in graph[v]:\n",
    "        if not visited[i]:\n",
    "            dfs(graph, i , visited)\n",
    "            \n",
    "def graph_make(computers):\n",
    "    graph_make = [[] for i in range(len(computers)+1)]\n",
    "    for i in range(len(computers)):\n",
    "        for j in range(len(computers[0])):\n",
    "            if computers[i][j] == 1:\n",
    "                graph_make[i+1].append(j+1)\n",
    "            \n",
    "    return graph_make\n",
    "\n",
    "def solution(n, computers):\n",
    "    graph = graph_make(computers)\n",
    "    visited = [False] * (n+1)\n",
    "    answer = 0\n",
    "\n",
    "    for i in range(1,n+1):\n",
    "        if visited[i] == False:\n",
    "            answer += 1\n",
    "            dfs(graph,i,visited)\n",
    "    \n",
    "    return answer\n"
   ]
  },
  {
   "cell_type": "markdown",
   "metadata": {},
   "source": [
    "### 너무 신기해서 프린트해본것"
   ]
  },
  {
   "cell_type": "code",
   "execution_count": 56,
   "metadata": {},
   "outputs": [],
   "source": [
    "numbers = [1, 1, 1, 1, 1]\n",
    "target = 3\n",
    "def solution(numbers, target):\n",
    "    print(numbers[1:])\n",
    "    if not numbers and target == 0 :\n",
    "        return 1\n",
    "    elif not numbers:\n",
    "        return 0\n",
    "    else:\n",
    "        return solution(numbers[1:], target-numbers[0]) + solution(numbers[1:], target+numbers[0])"
   ]
  }
 ],
 "metadata": {
  "kernelspec": {
   "display_name": "Python 3",
   "language": "python",
   "name": "python3"
  },
  "language_info": {
   "codemirror_mode": {
    "name": "ipython",
    "version": 3
   },
   "file_extension": ".py",
   "mimetype": "text/x-python",
   "name": "python",
   "nbconvert_exporter": "python",
   "pygments_lexer": "ipython3",
   "version": "3.6.5"
  }
 },
 "nbformat": 4,
 "nbformat_minor": 2
}
