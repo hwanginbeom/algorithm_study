{
 "cells": [
  {
   "cell_type": "code",
   "execution_count": null,
   "metadata": {},
   "outputs": [],
   "source": [
    "def solution(array, commands):\n",
    "    answer = []    \n",
    "    for numm in commands:\n",
    "            i , j , k = numm\n",
    "            cut_list = array[i-1:j]\n",
    "            cut_list = sorted(cut_list)\n",
    "            answer.append(cut_list[k-1])\n",
    "            cut_list = ''\n",
    "             \n",
    "    return answer"
   ]
  },
  {
   "cell_type": "code",
   "execution_count": null,
   "metadata": {},
   "outputs": [],
   "source": [
    "def solution(numbers, target):\n",
    "    answer = 0\n",
    "    numbers = sorted(numbers)\n",
    "    sum_list = sum(numbers)\n",
    "    True_list = [False] * len(numbers)\n",
    "    for i in range(len(numbers)):\n",
    "        for j in range(len(numbers)):\n",
    "            if j == i:\n",
    "                sum_list2 = numbers[i]\n",
    "                if sum_list - sum_list2 == target :\n",
    "                    answer +=1    \n",
    "            elif j != i and True_list[j] == False:\n",
    "                sum_list2 = numbers[i] + numbers[j]\n",
    "                if sum_list - sum_list2 == target:\n",
    "                    answer +=1 \n",
    "                    True_list[j] = True\n",
    "    True_list = [False] * len(numbers)               \n",
    "    for k in range(len(numbers)):\n",
    "        for p in range(2,len(numbers)):\n",
    "            if k == p:\n",
    "                continue\n",
    "            elif k != p:\n",
    "                sum_list2  = sum(numbers[k:9])\n",
    "            \n",
    "            \n",
    "    \n",
    "    return answer"
   ]
  },
  {
   "cell_type": "code",
   "execution_count": 34,
   "metadata": {},
   "outputs": [
    {
     "name": "stdout",
     "output_type": "stream",
     "text": [
      "[[False, False, False], [False, False, False], [False, False, False]]\n"
     ]
    },
    {
     "data": {
      "text/plain": [
       "0"
      ]
     },
     "execution_count": 34,
     "metadata": {},
     "output_type": "execute_result"
    }
   ],
   "source": [
    "def solution(n, computers):\n",
    "    computer = {}\n",
    "    visited = [ [False]* n for i in range(n)]\n",
    "    i = 0\n",
    "    for idx,zip_num in enumerate(computers):\n",
    "        for j in range(len(zip_num)):\n",
    "            visited[idx][i] = True\n",
    "            if computers[idx][j] == 1:\n",
    "                visited[idx][j] = True\n",
    "\n",
    "            \n",
    "                    \n",
    "\n",
    "            \n",
    "\n",
    "    \n",
    "    \n",
    "    \n",
    "                    \n",
    "    \n",
    "    answer = 0\n",
    "    return answer\n",
    "solution(n, [[1, 1, 0], [1, 1, 0], [0, 0, 1]])"
   ]
  },
  {
   "cell_type": "code",
   "execution_count": null,
   "metadata": {},
   "outputs": [],
   "source": []
  },
  {
   "cell_type": "code",
   "execution_count": null,
   "metadata": {},
   "outputs": [],
   "source": []
  }
 ],
 "metadata": {
  "kernelspec": {
   "display_name": "Python 3",
   "language": "python",
   "name": "python3"
  },
  "language_info": {
   "codemirror_mode": {
    "name": "ipython",
    "version": 3
   },
   "file_extension": ".py",
   "mimetype": "text/x-python",
   "name": "python",
   "nbconvert_exporter": "python",
   "pygments_lexer": "ipython3",
   "version": "3.6.5"
  }
 },
 "nbformat": 4,
 "nbformat_minor": 2
}
