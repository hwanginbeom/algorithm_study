{
 "cells": [
  {
   "cell_type": "code",
   "execution_count": 2,
   "metadata": {},
   "outputs": [
    {
     "name": "stdout",
     "output_type": "stream",
     "text": [
      "{1: 2, 2: 2, 3: 2}\n"
     ]
    },
    {
     "data": {
      "text/plain": [
       "[1, 2, 3]"
      ]
     },
     "execution_count": 2,
     "metadata": {},
     "output_type": "execute_result"
    }
   ],
   "source": [
    "def solution(answers):\n",
    "    \n",
    "    a1 = [1,2,3,4,5]*10000\n",
    "    a2 = [2,1,2,3,2,4,2,5]*8000\n",
    "    a3 = [3,3,1,1,2,2,4,4,5,5]*1000\n",
    "    \n",
    "    result1=[]\n",
    "    result2=[]\n",
    "    result3=[]\n",
    "    \n",
    "    for i in range(len(answers)) :\n",
    "        tf = (answers[i] == a1[i])\n",
    "        result1.append(tf)\n",
    "    \n",
    "    for i in range(len(answers)) :\n",
    "        tf = (answers[i] == a2[i])\n",
    "        result2.append(tf)\n",
    "    \n",
    "    for i in range(len(answers)) :\n",
    "        tf = (answers[i] == a3[i])\n",
    "        result3.append(tf)\n",
    "    \n",
    "    results = {1:sum(result1), 2:sum(result2), 3:sum(result3)}\n",
    "    print(results)\n",
    "\n",
    "    result = [k for k, v in results.items() if v == max(results.values())]\n",
    "    \n",
    "    answer = result\n",
    "    return answer\n",
    "solution([1,3,2,4,2])"
   ]
  },
  {
   "cell_type": "code",
   "execution_count": 73,
   "metadata": {},
   "outputs": [
    {
     "data": {
      "text/plain": [
       "4"
      ]
     },
     "execution_count": 73,
     "metadata": {},
     "output_type": "execute_result"
    }
   ],
   "source": [
    "def solution(n, lost, reserve):\n",
    "\n",
    "    student = [1] * n\n",
    "\n",
    "    for i in range(len(lost)) :\n",
    "        student[lost[i]-1] -= 1\n",
    "\n",
    "    for i in range(len(reserve)) :\n",
    "        student[reserve[i]-1] += 1\n",
    "\n",
    "    for i in range(n) :\n",
    "    \n",
    "        if(student[i]==2) :\n",
    "            if i != 0 and i != n-1 :\n",
    "                if student[i-1] == 0 :\n",
    "                    student[i-1] = 1\n",
    "                elif student[i+1] == 0 :\n",
    "                    student[i+1] = 1\n",
    "                else : continue\n",
    "                    \n",
    "            if i == 0 :\n",
    "                if student[i+1] == 0 :\n",
    "                    student[i+1] = 1\n",
    "                    \n",
    "            if i == n-1 :\n",
    "                if student[i-1] == 0 :\n",
    "                    student[i-1] = 1\n",
    "\n",
    "    result=[]\n",
    "\n",
    "    \n",
    "    for i in range(len(student)) :\n",
    "        tf = student[i] != 0\n",
    "        result.append(tf)\n",
    "    \n",
    "    answer = sum(result)\n",
    "    return answer\n",
    "\n",
    "solution(5,[2,4],[3])"
   ]
  },
  {
   "cell_type": "code",
   "execution_count": 62,
   "metadata": {},
   "outputs": [
    {
     "data": {
      "text/plain": [
       "[4, 3, 1, 1, 0]"
      ]
     },
     "execution_count": 62,
     "metadata": {},
     "output_type": "execute_result"
    }
   ],
   "source": [
    "def solution(prices) :\n",
    "    answer = []\n",
    "    \n",
    "    for i in range(len(prices)) :\n",
    "        \n",
    "        count = 0\n",
    "        \n",
    "        for j in range(i+1, len(prices)) :\n",
    "        \n",
    "            if prices[i] <= prices[j] :\n",
    "                count += 1\n",
    "            else :\n",
    "                count += 1 \n",
    "                break\n",
    "        answer.append(count)\n",
    "    return answer\n",
    "\n",
    "solution([1,2,3,2,1])"
   ]
  },
  {
   "cell_type": "code",
   "execution_count": null,
   "metadata": {},
   "outputs": [],
   "source": []
  }
 ],
 "metadata": {
  "kernelspec": {
   "display_name": "Python 3",
   "language": "python",
   "name": "python3"
  },
  "language_info": {
   "codemirror_mode": {
    "name": "ipython",
    "version": 3
   },
   "file_extension": ".py",
   "mimetype": "text/x-python",
   "name": "python",
   "nbconvert_exporter": "python",
   "pygments_lexer": "ipython3",
   "version": "3.8.3"
  }
 },
 "nbformat": 4,
 "nbformat_minor": 4
}
