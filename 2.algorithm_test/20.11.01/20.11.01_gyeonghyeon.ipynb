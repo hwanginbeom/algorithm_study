{
 "cells": [
  {
   "cell_type": "markdown",
   "metadata": {},
   "source": [
    "# 모의고사\n",
    "- 최고 점수였는데 그냥 점수만 sort해서 틀렸다.\n",
    "- 최고 점수를 구하는 코드 추가하여 수정"
   ]
  },
  {
   "cell_type": "code",
   "execution_count": 23,
   "metadata": {},
   "outputs": [
    {
     "name": "stdout",
     "output_type": "stream",
     "text": [
      "[(1, 5)]\n"
     ]
    },
    {
     "data": {
      "text/plain": [
       "[1]"
      ]
     },
     "execution_count": 23,
     "metadata": {},
     "output_type": "execute_result"
    }
   ],
   "source": [
    "def solution(answers):\n",
    "    a1 = [1,2,3,4,5]\n",
    "    b2 = [2,1,2,3,2,4,2,5]\n",
    "    c3 = [3,3,1,1,2,2,4,4,5,5]\n",
    "    \n",
    "    a1_a,  a1_b= divmod(len(answers),len(a1))\n",
    "    b2_a,  b2_b= divmod(len(answers),len(b2))\n",
    "    c3_a,  c3_b= divmod(len(answers),len(c3))\n",
    "    \n",
    "    a1_answer = a1 * a1_a + a1[:a1_b]\n",
    "    b2_answer = b2 * b2_a + b2[:b2_b]\n",
    "    c3_answer = c3 * c3_a + c3[:c3_b]\n",
    "    \n",
    "    a1_sum = 0\n",
    "    b2_sum = 0\n",
    "    c3_sum = 0\n",
    "    \n",
    "    for i in range(len(answers)):\n",
    "        if a1_answer[i] == answers[i]:\n",
    "            a1_sum+=1\n",
    "        if b2_answer[i] == answers[i]:\n",
    "            b2_sum+=1\n",
    "        if c3_answer[i] == answers[i]:\n",
    "            c3_sum+=1\n",
    "    \n",
    "    max_num = max(a1_sum, b2_sum, c3_sum)\n",
    "    \n",
    "    a1 = []\n",
    "    if a1_sum > 0 :\n",
    "        a1.append((1,a1_sum))\n",
    "    if b2_sum > 0 :\n",
    "        a1.append((2,b2_sum))\n",
    "    if c3_sum > 0 :\n",
    "        a1.append((3,c3_sum))\n",
    "\n",
    "    answer = []\n",
    "    for i in range(len(a1)):\n",
    "        if a1[i][1] == max_num:\n",
    "            answer.append(a1[i])\n",
    "            \n",
    "    answer = sorted(answer, key = lambda x : (-x[1],x[0]))\n",
    "    answer = [i[0] for i in answer]\n",
    "    return answer\n",
    "\n",
    "solution([1,2,3,4,5])"
   ]
  },
  {
   "cell_type": "markdown",
   "metadata": {},
   "source": [
    "# 체육복\n",
    "- 우석님이 설명해주신 함수를 이용해서 중복을 제거하니 바로 통과나왔습니다"
   ]
  },
  {
   "cell_type": "code",
   "execution_count": 30,
   "metadata": {},
   "outputs": [
    {
     "data": {
      "text/plain": [
       "2"
      ]
     },
     "execution_count": 30,
     "metadata": {},
     "output_type": "execute_result"
    }
   ],
   "source": [
    "def solution(n, lost, reserve):\n",
    "    answer = 0\n",
    "    n -= len(lost)\n",
    "    \n",
    "    drop_num = list(set(lost).intersection(reserve))\n",
    "    for i in drop_num:\n",
    "        lost.remove(i)\n",
    "        reserve.remove(i)\n",
    "        n+=1\n",
    "    \n",
    "    for i in range(len(lost)):\n",
    "        if ((lost[i] -1)  not in reserve) and ((lost[i] + 1) not in reserve):\n",
    "            continue\n",
    "        if ((lost[i] -1) in reserve): \n",
    "            n+=1\n",
    "            reserve.remove(lost[i] -1)\n",
    "        elif ((lost[i] + 1) in reserve):\n",
    "            n+=1\n",
    "            reserve.remove(lost[i] + 1)\n",
    "    \n",
    "    answer = n\n",
    "    return answer\n",
    "solution(5, [2,4], [1,3,5])\n",
    "solution(5, [2,4], [3])\n",
    "solution(3, [3], [1])"
   ]
  },
  {
   "cell_type": "code",
   "execution_count": 55,
   "metadata": {},
   "outputs": [
    {
     "data": {
      "text/plain": [
       "[4, 3, 1, 1, 0]"
      ]
     },
     "execution_count": 55,
     "metadata": {},
     "output_type": "execute_result"
    }
   ],
   "source": [
    "# 35분 \n",
    "def solution(prices):\n",
    "    answer = []\n",
    "    for i in range(0,len(prices)-1):\n",
    "        if prices[i + 1] > prices[i]:\n",
    "            answer.append(len(prices[i:]) - 1)\n",
    "        elif prices[i + 1] < prices[i]:\n",
    "            answer.append(1)\n",
    "        elif prices[i + 1] == prices[i]:\n",
    "            answer.append(0)\n",
    "    answer.append(0)\n",
    "    return answer\n",
    "solution([1,2,3,2,3])"
   ]
  }
 ],
 "metadata": {
  "kernelspec": {
   "display_name": "Python 3",
   "language": "python",
   "name": "python3"
  },
  "language_info": {
   "codemirror_mode": {
    "name": "ipython",
    "version": 3
   },
   "file_extension": ".py",
   "mimetype": "text/x-python",
   "name": "python",
   "nbconvert_exporter": "python",
   "pygments_lexer": "ipython3",
   "version": "3.6.5"
  }
 },
 "nbformat": 4,
 "nbformat_minor": 2
}
