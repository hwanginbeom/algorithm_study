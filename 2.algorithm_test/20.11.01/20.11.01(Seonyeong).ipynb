{
 "cells": [
  {
   "cell_type": "code",
   "execution_count": null,
   "metadata": {},
   "outputs": [],
   "source": [
    "def solution(answers):\n",
    "    answer = []\n",
    "    one = [1,2,3,4,5]\n",
    "    two = [2,1,2,3,2,4,2,5]\n",
    "    three = [3,3,1,1,2,2,4,4,5,5] \n",
    "    \n",
    "    cnt =[0,0,0]\n",
    "    for i in range(len(answers)):\n",
    "        if answers[i]==one[i%len(one)]:\n",
    "            cnt[0] += 1\n",
    "        if answers[i]==two[i%len(two)]:\n",
    "            cnt[1] += 1\n",
    "        if answers[i]==three[i%len(three)]:\n",
    "            cnt[2] += 1\n",
    "    \n",
    "    maximum = max(cnt)\n",
    "    for n in range(len(cnt)):\n",
    "        if cnt[n] == maximum:\n",
    "            answer.append(n+1)\n",
    "             \n",
    "        \n",
    "    return answer"
   ]
  },
  {
   "cell_type": "code",
   "execution_count": null,
   "metadata": {},
   "outputs": [],
   "source": [
    "def solution(n, lost, reserve):\n",
    "    answer = n-len(lost)\n",
    "\n",
    "    overlap = list(set(lost).intersection(reserve))\n",
    "    \n",
    "    for i in range(len(overlap)):\n",
    "        lost.remove(overlap[i])\n",
    "        reserve.remove(overlap[i])\n",
    "        answer += 1\n",
    "        \n",
    "    # 테스트 하나 실패\n",
    "    # for i in lost:\n",
    "    #     for k in reserve:\n",
    "    #         if i == k:\n",
    "    #             lost.remove(i)\n",
    "    #             reserver.remove(k)\n",
    "                \n",
    "    for i in lost:\n",
    "        for k in reserve:                \n",
    "            if i+1==k or i-1==k:\n",
    "                answer +=1\n",
    "                reserve.remove(k)\n",
    "                break\n",
    "                \n",
    "    return answer"
   ]
  },
  {
   "cell_type": "code",
   "execution_count": null,
   "metadata": {},
   "outputs": [],
   "source": [
    "def solution(prices):\n",
    "    answer = [0]*len(prices)\n",
    "    \n",
    "    for i in range(len(prices)-1):\n",
    "        for j in range(i,len(prices)-1):\n",
    "            if prices[i]> prices[j]:\n",
    "                break\n",
    "            else:\n",
    "                answer[i] += 1\n",
    "  \n",
    "    return answer"
   ]
  }
 ],
 "metadata": {
  "kernelspec": {
   "display_name": "Python 3",
   "language": "python",
   "name": "python3"
  },
  "language_info": {
   "codemirror_mode": {
    "name": "ipython",
    "version": 3
   },
   "file_extension": ".py",
   "mimetype": "text/x-python",
   "name": "python",
   "nbconvert_exporter": "python",
   "pygments_lexer": "ipython3",
   "version": "3.7.6"
  }
 },
 "nbformat": 4,
 "nbformat_minor": 4
}
