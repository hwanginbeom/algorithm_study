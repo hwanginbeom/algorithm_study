{
 "cells": [
  {
   "cell_type": "markdown",
   "metadata": {},
   "source": [
    "### N으로 표현"
   ]
  },
  {
   "cell_type": "code",
   "execution_count": 4,
   "metadata": {},
   "outputs": [
    {
     "name": "stdout",
     "output_type": "stream",
     "text": [
      "4\n",
      "3\n"
     ]
    }
   ],
   "source": [
    "def solution(N, number) :\n",
    "    answer = -1\n",
    "    \n",
    "    S = [set() for x in range(8)]\n",
    "    \n",
    "    for i,x in enumerate(S, start=1):\n",
    "        x.add(int(str(N)*i))\n",
    "    \n",
    "    for i in range(1, len(S)):\n",
    "        for j in range(i):\n",
    "            for op1 in S[j]:\n",
    "                for op2 in S[i-j-1]:\n",
    "                    S[i].add(op1 + op2)\n",
    "                    S[i].add(op1 - op2)\n",
    "                    S[i].add(op1 * op2)\n",
    "                    if op2 != 0:\n",
    "                        S[i].add(op1 // op2)\n",
    "        if number in S[i]:\n",
    "            answer = i + 1\n",
    "            break\n",
    "    return answer\n",
    "\n",
    "print(solution(5,12))\n",
    "print(solution(2,11))"
   ]
  },
  {
   "cell_type": "markdown",
   "metadata": {},
   "source": [
    "### 정수 삼각형"
   ]
  },
  {
   "cell_type": "code",
   "execution_count": 6,
   "metadata": {},
   "outputs": [
    {
     "data": {
      "text/plain": [
       "30"
      ]
     },
     "execution_count": 6,
     "metadata": {},
     "output_type": "execute_result"
    }
   ],
   "source": [
    "def solution(triangle) :\n",
    "    for i in range(1, len(triangle)) :\n",
    "        \n",
    "        for j in range(i+1) :\n",
    "            \n",
    "            # 가장 왼쪽 값인 경우\n",
    "            if j == 0 :\n",
    "                triangle[i][j] += triangle[i-1][j]\n",
    "            # 가장 오른쪽 값인 경우\n",
    "            elif j == i :\n",
    "                triangle[i][j] += triangle[i-1][-1]\n",
    "            else :\n",
    "                triangle[i][j] += max(triangle[i-1][j-1], triangle[i-1][j])\n",
    "    \n",
    "    # 마지막 줄의 최댓값\n",
    "    return max(triangle[-1])\n",
    "\n",
    "solution([[7],[3,8],[8,1,0],[2,7,4,4],[4,5,2,6,5]])"
   ]
  },
  {
   "cell_type": "markdown",
   "metadata": {},
   "source": [
    "### 가장 먼 노드"
   ]
  },
  {
   "cell_type": "code",
   "execution_count": 2,
   "metadata": {},
   "outputs": [
    {
     "name": "stdout",
     "output_type": "stream",
     "text": [
      "3\n"
     ]
    }
   ],
   "source": [
    "from collections import deque\n",
    "\n",
    "def solution(n, edge):\n",
    "    adj = [[] for _ in range(n)]\n",
    "    for [i, j] in edge:\n",
    "        adj[i - 1] += [j - 1]\n",
    "        adj[j - 1] += [i - 1]\n",
    "    answer = bfs(adj, n)\n",
    "    return answer\n",
    "\n",
    "\n",
    "def bfs(adj, n):\n",
    "    a = deque([(0, 0)])\n",
    "    visited = [False] * n\n",
    "    visited[0] = True\n",
    "    length = [0] * n\n",
    "\n",
    "    while a:\n",
    "        (node, depth) = a.popleft()\n",
    "        length[node] = depth\n",
    "        for i in adj[node]:\n",
    "            if not visited[i]:\n",
    "                a.append((i, depth + 1))\n",
    "                visited[i] = True\n",
    "    return length.count(max(length))\n",
    "\n",
    "print(solution(6, [[3,6],[4,3],[3,2],[1,3],[1,2],[2,4],[5,2]]))"
   ]
  }
 ],
 "metadata": {
  "kernelspec": {
   "display_name": "Python 3",
   "language": "python",
   "name": "python3"
  },
  "language_info": {
   "codemirror_mode": {
    "name": "ipython",
    "version": 3
   },
   "file_extension": ".py",
   "mimetype": "text/x-python",
   "name": "python",
   "nbconvert_exporter": "python",
   "pygments_lexer": "ipython3",
   "version": "3.8.3"
  }
 },
 "nbformat": 4,
 "nbformat_minor": 4
}
