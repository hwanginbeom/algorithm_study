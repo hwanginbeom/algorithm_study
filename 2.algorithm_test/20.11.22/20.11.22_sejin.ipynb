{
 "cells": [
  {
   "cell_type": "markdown",
   "metadata": {},
   "source": [
    "### 가장 먼 노드"
   ]
  },
  {
   "cell_type": "code",
   "execution_count": 1,
   "metadata": {},
   "outputs": [
    {
     "name": "stdout",
     "output_type": "stream",
     "text": [
      "3\n"
     ]
    }
   ],
   "source": [
    "from collections import deque\n",
    "\n",
    "def solution(n, edge):\n",
    "    adj = [[] for _ in range(n)]\n",
    "    for [i, j] in edge:\n",
    "        adj[i - 1] += [j - 1]\n",
    "        adj[j - 1] += [i - 1]\n",
    "    answer = bfs(adj, n)\n",
    "    return answer\n",
    "\n",
    "\n",
    "def bfs(adj, n):\n",
    "    a = deque([(0, 0)])\n",
    "    visited = [False] * n\n",
    "    visited[0] = True\n",
    "    length = [0] * n\n",
    "\n",
    "    while a:\n",
    "        (node, depth) = a.popleft()\n",
    "        length[node] = depth\n",
    "        for i in adj[node]:\n",
    "            if not visited[i]:\n",
    "                a.append((i, depth + 1))\n",
    "                visited[i] = True\n",
    "    return length.count(max(length))\n",
    "\n",
    "print(solution(6, [[3,6],[4,3],[3,2],[1,3],[1,2],[2,4],[5,2]]))"
   ]
  }
 ],
 "metadata": {
  "kernelspec": {
   "display_name": "Python 3",
   "language": "python",
   "name": "python3"
  },
  "language_info": {
   "codemirror_mode": {
    "name": "ipython",
    "version": 3
   },
   "file_extension": ".py",
   "mimetype": "text/x-python",
   "name": "python",
   "nbconvert_exporter": "python",
   "pygments_lexer": "ipython3",
   "version": "3.8.3"
  }
 },
 "nbformat": 4,
 "nbformat_minor": 4
}
