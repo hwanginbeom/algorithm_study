{
 "cells": [
  {
   "cell_type": "markdown",
   "metadata": {},
   "source": [
    "### N으로 표현"
   ]
  },
  {
   "cell_type": "code",
   "execution_count": 16,
   "metadata": {},
   "outputs": [
    {
     "data": {
      "text/plain": [
       "4"
      ]
     },
     "execution_count": 16,
     "metadata": {},
     "output_type": "execute_result"
    }
   ],
   "source": [
    "def solution(N, number):\n",
    "    possible_set = [0,[N]] \n",
    "    if N == number: \n",
    "        return 1\n",
    "    for i in range(2, 9):  \n",
    "        case_set = [] \n",
    "        basic_num = int(str(N)*i) \n",
    "        case_set.append(basic_num)\n",
    "        for i_half in range(1, i//2+1):  \n",
    "            for x in possible_set[i_half]:\n",
    "                for y in possible_set[i-i_half]: \n",
    "                    case_set.append(x+y)\n",
    "                    case_set.append(x-y)\n",
    "                    case_set.append(y-x)\n",
    "                    case_set.append(x*y)\n",
    "                    if y !=0:\n",
    "                        case_set.append(x/y)\n",
    "                    if x !=0:\n",
    "                        case_set.append(y/x)\n",
    "            if number in case_set:\n",
    "                return i\n",
    "            possible_set.append(case_set) \n",
    "    return -1 \n",
    "\n",
    "solution(5, 12)"
   ]
  },
  {
   "cell_type": "markdown",
   "metadata": {},
   "source": [
    "### 정수 삼각형"
   ]
  },
  {
   "cell_type": "code",
   "execution_count": 51,
   "metadata": {},
   "outputs": [
    {
     "data": {
      "text/plain": [
       "30"
      ]
     },
     "execution_count": 51,
     "metadata": {},
     "output_type": "execute_result"
    }
   ],
   "source": [
    "def tri(after_list,before_list):\n",
    "    num_list = []\n",
    "    if len(before_list) == 1:\n",
    "        a = before_list[0]\n",
    "        b = after_list[0]\n",
    "        c = after_list[1]\n",
    "        num_list.append(a+b)\n",
    "        num_list.append(a+c)\n",
    "    else:\n",
    "        for i in range(0,len(after_list)):\n",
    "            if i == 0:\n",
    "                a = before_list[i]\n",
    "                b = after_list[i]\n",
    "                num_list.append(a+b)\n",
    "            elif i == (len(after_list)-1):\n",
    "                a = before_list[i-1]\n",
    "                b = after_list[i]\n",
    "                num_list.append(a+b)\n",
    "            else:\n",
    "                a = max(before_list[i-1], (before_list[i]))\n",
    "                b = after_list[i]\n",
    "                num_list.append(a+b)  \n",
    "    return num_list\n",
    "            \n",
    "    \n",
    "\n",
    "def solution(triangle):\n",
    "    before = triangle[0]\n",
    "    max_num = 0\n",
    "    for after in triangle[1:]:\n",
    "        result = tri(after,before)\n",
    "        max_num = max(max_num, max(result))\n",
    "        before = result\n",
    "    answer = max_num\n",
    "    return answer\n",
    "\n",
    "solution([[7], [3, 8], [8, 1, 0], [2, 7, 4, 4], [4, 5, 2, 6, 5]])"
   ]
  },
  {
   "cell_type": "markdown",
   "metadata": {},
   "source": [
    "### 가장 먼 노드"
   ]
  },
  {
   "cell_type": "code",
   "execution_count": 14,
   "metadata": {},
   "outputs": [
    {
     "name": "stdout",
     "output_type": "stream",
     "text": [
      "[1000000000, 0, 1000000000, 1000000000, 1000000000, 1000000000, 1000000000]\n",
      "[1000000000, 0, 1, 1, 1000000000, 1000000000, 1000000000]\n",
      "[1000000000, 0, 1, 1, 2, 2, 1000000000]\n",
      "[1000000000, 0, 1, 1, 2, 2, 2]\n",
      "[1000000000, 0, 1, 1, 2, 2, 2]\n",
      "[1000000000, 0, 1, 1, 2, 2, 2]\n"
     ]
    },
    {
     "data": {
      "text/plain": [
       "3"
      ]
     },
     "execution_count": 14,
     "metadata": {},
     "output_type": "execute_result"
    }
   ],
   "source": [
    "import heapq\n",
    "\n",
    "INF = int(1e9)\n",
    "\n",
    "def solution(n, edge):\n",
    "    graph = [[] for i in range(n + 1)]\n",
    "    distance = [INF] * (n + 1)\n",
    "    \n",
    "    for num in edge:\n",
    "        graph[num[0]].append((num[1],1))\n",
    "        graph[num[1]].append((num[0],1))\n",
    "        \n",
    "    q = []\n",
    "    heapq.heappush(q, (0, 1))\n",
    "    distance[1] = 0\n",
    "    \n",
    "    while q:\n",
    "        dist, now = heapq.heappop(q)\n",
    "        if distance[now] < dist:\n",
    "            continue\n",
    "        for i in graph[now]:\n",
    "            cost = dist + i[1]\n",
    "            if cost < distance[i[0]]:\n",
    "                distance[i[0]] = cost\n",
    "                heapq.heappush(q, (cost, i[0]))\n",
    "                \n",
    "    max_num = max(distance[1:])\n",
    "    answer = 0\n",
    "    \n",
    "    for i in distance:\n",
    "        if i == max_num:\n",
    "            answer+=1\n",
    "    return answer\n",
    "\n",
    "solution(6, [[3, 6], [4, 3], [3, 2], [1, 3], [1, 2], [2, 4], [5, 2]])\n"
   ]
  }
 ],
 "metadata": {
  "kernelspec": {
   "display_name": "Python 3",
   "language": "python",
   "name": "python3"
  },
  "language_info": {
   "codemirror_mode": {
    "name": "ipython",
    "version": 3
   },
   "file_extension": ".py",
   "mimetype": "text/x-python",
   "name": "python",
   "nbconvert_exporter": "python",
   "pygments_lexer": "ipython3",
   "version": "3.6.5"
  }
 },
 "nbformat": 4,
 "nbformat_minor": 2
}
