{
 "cells": [
  {
   "cell_type": "markdown",
   "metadata": {},
   "source": [
    "### N으로 표현"
   ]
  },
  {
   "cell_type": "code",
   "execution_count": 4,
   "metadata": {},
   "outputs": [
    {
     "name": "stdout",
     "output_type": "stream",
     "text": [
      "11.0\n"
     ]
    },
    {
     "data": {
      "text/plain": [
       "0"
      ]
     },
     "execution_count": 4,
     "metadata": {},
     "output_type": "execute_result"
    }
   ],
   "source": [
    "def solution(N, number):\n",
    "    nn = str(N) * len(str(number))\n",
    "    ss = int(nn) / N\n",
    "    print(ss)\n",
    "    answer = 0\n",
    "    return answer\n",
    "\n",
    "solution(5, 12)"
   ]
  },
  {
   "cell_type": "markdown",
   "metadata": {},
   "source": [
    "### 정수 삼각형"
   ]
  },
  {
   "cell_type": "code",
   "execution_count": 102,
   "metadata": {},
   "outputs": [
    {
     "data": {
      "text/plain": [
       "26"
      ]
     },
     "execution_count": 102,
     "metadata": {},
     "output_type": "execute_result"
    }
   ],
   "source": [
    "def tri(after_list,before_list):\n",
    "    num_list = []\n",
    "    # 1번 숫자 인덱스를 기준으로 2번 열 앞 뒤를 더해서 누적해서 계속 돌린다.\n",
    "    for i in range(0,len(after_list)-1):\n",
    "            a = before_list[i]\n",
    "            b = after_list[i]\n",
    "            c = after_list[i+1]\n",
    "            num_list.append(a+b)\n",
    "            num_list.append(a+c)\n",
    "    return num_list\n",
    "            \n",
    "    \n",
    "\n",
    "def solution(triangle):\n",
    "    before = triangle[0]\n",
    "    max_num = 0\n",
    "    for after in triangle[1:]:\n",
    "        result = tri(after,before)\n",
    "        max_num = max(max_num, max(result))\n",
    "        before = result\n",
    "        # 그 값의 최대값을 계속 비교해서 최종적으로 출력한다.\n",
    "    answer = max_num\n",
    "    return answer\n",
    "\n",
    "solution([[7], [3, 5], [8, 1, 0], [2, 6, 4, 4], [4, 2, 2, 6, 3]])"
   ]
  }
 ],
 "metadata": {
  "kernelspec": {
   "display_name": "Python 3",
   "language": "python",
   "name": "python3"
  },
  "language_info": {
   "codemirror_mode": {
    "name": "ipython",
    "version": 3
   },
   "file_extension": ".py",
   "mimetype": "text/x-python",
   "name": "python",
   "nbconvert_exporter": "python",
   "pygments_lexer": "ipython3",
   "version": "3.6.5"
  }
 },
 "nbformat": 4,
 "nbformat_minor": 2
}
