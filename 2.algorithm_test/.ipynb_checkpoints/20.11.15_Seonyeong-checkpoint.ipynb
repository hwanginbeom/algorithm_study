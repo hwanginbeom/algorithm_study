{
 "cells": [
  {
   "cell_type": "code",
   "execution_count": 56,
   "metadata": {},
   "outputs": [
    {
     "data": {
      "text/plain": [
       "['6', '2', '10']"
      ]
     },
     "execution_count": 56,
     "metadata": {},
     "output_type": "execute_result"
    }
   ],
   "source": [
    "# took more than 1 hour\n",
    "\n",
    "numbers = [6, 10, 2]\n",
    "\n",
    "def solution(numbers):\n",
    "    new_nums = []\n",
    "    for number in numbers:\n",
    "        number = str(number)*4\n",
    "        new_nums.append(number[:4])\n",
    "\n",
    "\n",
    "    new_nums.sort(reverse=True)\n",
    "\n",
    "                \n",
    "    return(new_nums)\n",
    "\n",
    "solution(numbers)"
   ]
  },
  {
   "cell_type": "code",
   "execution_count": 5,
   "metadata": {},
   "outputs": [
    {
     "data": {
      "text/plain": [
       "['6666', '2222', '1010']"
      ]
     },
     "execution_count": 5,
     "metadata": {},
     "output_type": "execute_result"
    }
   ],
   "source": [
    "numbers = [6, 10, 2]\n",
    "new_nums = []\n",
    "for number in numbers:\n",
    "    number = str(number)*4\n",
    "    new_nums.append(number[:4])\n",
    "\n",
    "new_nums.sort(reverse=True)\n",
    "new_nums"
   ]
  }
 ],
 "metadata": {
  "kernelspec": {
   "display_name": "Python 3",
   "language": "python",
   "name": "python3"
  },
  "language_info": {
   "codemirror_mode": {
    "name": "ipython",
    "version": 3
   },
   "file_extension": ".py",
   "mimetype": "text/x-python",
   "name": "python",
   "nbconvert_exporter": "python",
   "pygments_lexer": "ipython3",
   "version": "3.7.6"
  }
 },
 "nbformat": 4,
 "nbformat_minor": 4
}
