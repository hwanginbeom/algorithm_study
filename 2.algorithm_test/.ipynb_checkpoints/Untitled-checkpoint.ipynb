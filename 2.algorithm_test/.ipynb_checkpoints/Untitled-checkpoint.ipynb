{
 "cells": [
  {
   "cell_type": "code",
   "execution_count": 56,
   "metadata": {},
   "outputs": [
    {
     "data": {
      "text/plain": [
       "['6', '2', '10']"
      ]
     },
     "execution_count": 56,
     "metadata": {},
     "output_type": "execute_result"
    }
   ],
   "source": [
    "# took more than 1 hour\n",
    "\n",
    "numbers = [6, 10, 2]\n",
    "\n",
    "def solution(numbers):\n",
    "    new_nums = []\n",
    "    for number in numbers:\n",
    "        number = str(number)\n",
    "        new_nums.append(number)\n",
    "\n",
    "\n",
    "    for i in range (len(new_nums)):\n",
    "        min_idx = i\n",
    "        max_first = int(new_nums[i][0])\n",
    "        for j in range(i+1, len(new_nums)):\n",
    "            first = int(new_nums[j][0])\n",
    "            if first > max_first:\n",
    "                max_first = first\n",
    "                new_nums[i], new_nums[j] = new_nums[j], new_nums[i]\n",
    "\n",
    "                \n",
    "    return(new_nums)\n",
    "\n",
    "solution(numbers)"
   ]
  },
  {
   "cell_type": "code",
   "execution_count": 48,
   "metadata": {},
   "outputs": [
    {
     "data": {
      "text/plain": [
       "2"
      ]
     },
     "execution_count": 48,
     "metadata": {},
     "output_type": "execute_result"
    }
   ],
   "source": [
    "numbers = [6, 10, 2]\n",
    "new_nums = []\n",
    "for number in numbers:\n",
    "    number = str(number)\n",
    "    new_nums.append(number)\n",
    "    \n",
    "len(new_nums[1])"
   ]
  }
 ],
 "metadata": {
  "kernelspec": {
   "display_name": "Python 3",
   "language": "python",
   "name": "python3"
  },
  "language_info": {
   "codemirror_mode": {
    "name": "ipython",
    "version": 3
   },
   "file_extension": ".py",
   "mimetype": "text/x-python",
   "name": "python",
   "nbconvert_exporter": "python",
   "pygments_lexer": "ipython3",
   "version": "3.7.6"
  }
 },
 "nbformat": 4,
 "nbformat_minor": 4
}
