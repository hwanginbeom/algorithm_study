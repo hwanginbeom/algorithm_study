{
 "cells": [
  {
   "cell_type": "markdown",
   "metadata": {},
   "source": [
    "### 별자리"
   ]
  },
  {
   "cell_type": "code",
   "execution_count": null,
   "metadata": {},
   "outputs": [],
   "source": [
    "def parent_find(x):\n",
    "    if x == parent[x]:\n",
    "        return x\n",
    "    else:\n",
    "        return parent_find(parent[x])\n",
    "def union_parent(a, b):\n",
    "    root_a, root_b = parent_find(a), parent_find(b)\n",
    "    parent[root_b] = root_a\n",
    "\n",
    "\n",
    "N = int(input())\n",
    "stars = [list(map(float, input().split())) for _ in range(N)]\n",
    "parent = [_ for _ in range(N)]\n",
    "costs = {}\n",
    "\n",
    "for i in range(N):\n",
    "    for j in range(i + 1, N):\n",
    "        a = stars[i]\n",
    "        b = stars[j]\n",
    "        dist = round(((a[0] - b[0]) ** 2 + (a[1] - b[1]) ** 2) ** 0.5, 2)\n",
    "        costs[(i, j)] = dist\n",
    "\n",
    "\n",
    "costs = sorted(costs.items(), key=lambda x: x[1])\n",
    "\n",
    "\n",
    "\n",
    "answer = 0\n",
    "while costs:\n",
    "    current = costs.pop(0)\n",
    "    a, b = current[0]\n",
    "    cost = current[1]\n",
    "\n",
    "    if parent_find(a) != parent_find(b):\n",
    "        answer += cost\n",
    "        union_parent(a, b)\n",
    "\n",
    "print(answer)"
   ]
  },
  {
   "cell_type": "markdown",
   "metadata": {},
   "source": [
    "### 골드바흐의 추측"
   ]
  },
  {
   "cell_type": "code",
   "execution_count": 1,
   "metadata": {},
   "outputs": [
    {
     "name": "stdout",
     "output_type": "stream",
     "text": [
      "3\n",
      "8\n",
      "3 5\n",
      "10\n",
      "5 5\n",
      "16\n",
      "5 11\n"
     ]
    }
   ],
   "source": [
    "def sosu(n) :\n",
    "    for i in range(2, int(n**0.5+1)) :\n",
    "        if n % i == 0 : return False\n",
    "    return True\n",
    "\n",
    "num_list = []\n",
    "for i in range(2, 10000) :\n",
    "    if sosu(i) : num_list.append(i)\n",
    "\n",
    "for _ in range(int(input())):\n",
    "    n = int(input())\n",
    "    for i in range(n // 2 , 1 , -1):\n",
    "        if (i in num_list) and (n -i in num_list):\n",
    "            a, b = i, n-i\n",
    "            break\n",
    "        else:\n",
    "            pass\n",
    "    print(a,b)"
   ]
  },
  {
   "cell_type": "markdown",
   "metadata": {},
   "source": [
    "### 문제집"
   ]
  },
  {
   "cell_type": "code",
   "execution_count": 3,
   "metadata": {},
   "outputs": [
    {
     "name": "stdout",
     "output_type": "stream",
     "text": [
      "4 2\n",
      "4 2\n",
      "3 1\n",
      "3 1 4 2 "
     ]
    }
   ],
   "source": [
    "import heapq\n",
    "\n",
    "n, m = map(int, input().split())\n",
    "indegree = [0] * (n+1)\n",
    "exam_list = [[] for _ in range(n+1)]\n",
    "\n",
    "for i in range(m):\n",
    "    a, b = map(int, input().split())\n",
    "    exam_list[a].append(b)\n",
    "    indegree[b] += 1\n",
    "def topology_sort():\n",
    "    result = []\n",
    "    q = []\n",
    "\n",
    "    for i in range(1, n+1):\n",
    "        if indegree[i] == 0:\n",
    "            heapq.heappush(q,i)\n",
    "    while q:\n",
    "        now = heapq.heappop(q)\n",
    "        result.append(now)\n",
    "        for i in exam_list[now]:\n",
    "            indegree[i] -= 1\n",
    "            if indegree[i] == 0:\n",
    "                heapq.heappush(q,i)\n",
    "\n",
    "    for i in result:\n",
    "        print(i, end=' ')\n",
    "\n",
    "topology_sort()\n",
    "\n"
   ]
  }
 ],
 "metadata": {
  "kernelspec": {
   "display_name": "Python 3",
   "language": "python",
   "name": "python3"
  },
  "language_info": {
   "codemirror_mode": {
    "name": "ipython",
    "version": 3
   },
   "file_extension": ".py",
   "mimetype": "text/x-python",
   "name": "python",
   "nbconvert_exporter": "python",
   "pygments_lexer": "ipython3",
   "version": "3.6.5"
  }
 },
 "nbformat": 4,
 "nbformat_minor": 2
}
