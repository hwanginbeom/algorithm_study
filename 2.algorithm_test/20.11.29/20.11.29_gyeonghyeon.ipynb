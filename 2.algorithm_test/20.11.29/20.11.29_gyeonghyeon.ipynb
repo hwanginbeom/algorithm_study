{
 "cells": [
  {
   "cell_type": "markdown",
   "metadata": {},
   "source": [
    "### 별자리"
   ]
  },
  {
   "cell_type": "code",
   "execution_count": null,
   "metadata": {},
   "outputs": [],
   "source": [
    "n = int(input())\n",
    "\n",
    "graph = []\n",
    "for i in range(n):\n",
    "    a, b = map(float, input().split())\n",
    "    graph.append([a,b])\n",
    "graph = sorted(graph, key=lambda x:(x[0],x[1]))\n",
    "length_list = []\n",
    "for i in range(len(graph)-1):\n",
    "    length = ((graph[i+1][0] - graph[i][0])**2 + (graph[i+1][1] - graph[i][1])**2) ** 0.5\n",
    "    length_list.append(length)\n",
    "min_num = int(1e8)\n",
    "print(round(sum(length_list),2))"
   ]
  },
  {
   "cell_type": "markdown",
   "metadata": {},
   "source": [
    "### 소수문제"
   ]
  },
  {
   "cell_type": "code",
   "execution_count": null,
   "metadata": {},
   "outputs": [],
   "source": [
    "m=10000\n",
    "array = [True for i in range(m+1)]\n",
    "num_list = []\n",
    "for i in range(2, int(m**0.5)+1):\n",
    "    if array[i] == True:\n",
    "        num_list.append(i)\n",
    "        j = 2\n",
    "        while i * j <= m:\n",
    "            array[i * j] = False\n",
    "            j +=1\n",
    "\n",
    "t = int(input())\n",
    "z = 0\n",
    "k = 1\n",
    "while t > 0:\n",
    "        n = int(input())\n",
    "        z = 0\n",
    "        k = 1\n",
    "        cnt = 0\n",
    "        list_list = []\n",
    "        for i in num_list:\n",
    "            for j in num_list:\n",
    "                a = i + j\n",
    "                if a == n:\n",
    "                    list_list.append([i,j,abs(i-j)])\n",
    "        list_list = sorted(list_list, key=lambda x:x[2])\n",
    "        print(list_list[0][0],list_list[0][1] )\n",
    "\n",
    "        t -=1"
   ]
  }
 ],
 "metadata": {
  "kernelspec": {
   "display_name": "Python 3",
   "language": "python",
   "name": "python3"
  },
  "language_info": {
   "codemirror_mode": {
    "name": "ipython",
    "version": 3
   },
   "file_extension": ".py",
   "mimetype": "text/x-python",
   "name": "python",
   "nbconvert_exporter": "python",
   "pygments_lexer": "ipython3",
   "version": "3.6.5"
  }
 },
 "nbformat": 4,
 "nbformat_minor": 2
}
