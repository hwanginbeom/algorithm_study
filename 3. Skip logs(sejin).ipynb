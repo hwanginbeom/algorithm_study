{
 "cells": [
  {
   "cell_type": "code",
   "execution_count": 1,
   "metadata": {},
   "outputs": [
    {
     "ename": "SyntaxError",
     "evalue": "invalid syntax (<ipython-input-1-01087f988044>, line 2)",
     "output_type": "error",
     "traceback": [
      "\u001b[1;36m  File \u001b[1;32m\"<ipython-input-1-01087f988044>\"\u001b[1;36m, line \u001b[1;32m2\u001b[0m\n\u001b[1;33m    <br>\u001b[0m\n\u001b[1;37m    ^\u001b[0m\n\u001b[1;31mSyntaxError\u001b[0m\u001b[1;31m:\u001b[0m invalid syntax\n"
     ]
    }
   ],
   "source": [
    "## 그리디 알고리즘\n",
    "<br>\n",
    "- 통나무 건너뛰기\n",
    "<br>\n",
    "- 2020.10.28 (수)"
   ]
  },
  {
   "cell_type": "code",
   "execution_count": 2,
   "metadata": {},
   "outputs": [
    {
     "name": "stdout",
     "output_type": "stream",
     "text": [
      "3\n",
      "7\n",
      "13 10 12 11 10 11 12\n",
      "5\n",
      "2 4 5 7 9\n",
      "8\n",
      "6 6 6 6 6 6 6 6\n",
      "1\n",
      "4\n",
      "0\n"
     ]
    }
   ],
   "source": [
    "import numpy as np\n",
    "\n",
    "def solution(num) :\n",
    "    \n",
    "    num.sort()\n",
    "    \n",
    "    even = []\n",
    "    odd = []\n",
    "\n",
    "    for i in range(len(num)) :\n",
    "        if (i % 2 == 0) :\n",
    "            odd.append(i)\n",
    "        \n",
    "    for i in range(len(num)) :\n",
    "        if (i % 2 == 1) :\n",
    "            even.append(i)\n",
    "            even.sort(reverse=True)\n",
    "    \n",
    "    index = odd + even\n",
    "    \n",
    "    result=[]\n",
    "    \n",
    "    for i in index :\n",
    "        c = num[i]\n",
    "        result.append(c)\n",
    "    \n",
    "    return(abs(np.diff(result)).max())\n",
    "\n",
    "result = []\n",
    "\n",
    "a = int(input())\n",
    "for i in range(a) :\n",
    "    b = int(input())\n",
    "    num = list(map(int, input().split()))\n",
    "    d = solution(num)\n",
    "    result.append(d)\n",
    "\n",
    "for i in range(len(result)) :\n",
    "    print(result[i])"
   ]
  }
 ],
 "metadata": {
  "kernelspec": {
   "display_name": "Python 3",
   "language": "python",
   "name": "python3"
  },
  "language_info": {
   "codemirror_mode": {
    "name": "ipython",
    "version": 3
   },
   "file_extension": ".py",
   "mimetype": "text/x-python",
   "name": "python",
   "nbconvert_exporter": "python",
   "pygments_lexer": "ipython3",
   "version": "3.8.3"
  }
 },
 "nbformat": 4,
 "nbformat_minor": 4
}
