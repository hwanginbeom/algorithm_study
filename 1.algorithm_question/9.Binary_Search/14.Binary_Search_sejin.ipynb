{
 "cells": [
  {
   "cell_type": "markdown",
   "metadata": {},
   "source": [
    "## 이분탐색\n",
    "<br>\n",
    "- 수 찾기\n",
    "<br>\n",
    "- 2020.11.12 (목)"
   ]
  },
  {
   "cell_type": "code",
   "execution_count": 1,
   "metadata": {},
   "outputs": [
    {
     "name": "stdout",
     "output_type": "stream",
     "text": [
      "5\n",
      "4 1 5 2 3\n",
      "5\n",
      "1 3 7 9 5\n",
      "1\n",
      "1\n",
      "0\n",
      "0\n",
      "1\n"
     ]
    }
   ],
   "source": [
    "a = int(input())\n",
    "a_list = list(map(int, input().split()))\n",
    "a_list.sort()\n",
    "\n",
    "b = int(input())\n",
    "b_list = list(map(int,input().split()))\n",
    "\n",
    "\n",
    "def binary_search(array,target,start,end):\n",
    "    while start <= end:\n",
    "        mid = (start + end) // 2\n",
    "        \n",
    "        if array[mid] == target:\n",
    "            return mid\n",
    "        elif array[mid] > target:\n",
    "            end= mid - 1\n",
    "        else:\n",
    "            start = mid + 1\n",
    "    return None\n",
    "\n",
    "\n",
    "for i in b_list:\n",
    "    result = binary_search(a_list,i,0,a-1)\n",
    "    if result == None:\n",
    "        print(0)\n",
    "    else:\n",
    "        print(1)"
   ]
  },
  {
   "cell_type": "markdown",
   "metadata": {},
   "source": [
    "## 이분탐색\n",
    "<br>\n",
    "- 숫자 찾기2\n",
    "<br>\n",
    "- 2020.11.12 (목)"
   ]
  },
  {
   "cell_type": "code",
   "execution_count": 6,
   "metadata": {},
   "outputs": [
    {
     "name": "stdout",
     "output_type": "stream",
     "text": [
      "10\n",
      "6 3 2 10 10 10 -10 -10 7 3\n",
      "8\n",
      "10 9 -5 2 3 4 5 -10\n",
      "3 0 0 1 2 0 0 2 "
     ]
    }
   ],
   "source": [
    "from bisect import bisect_left , bisect_right\n",
    "\n",
    "a = int(input())\n",
    "a_list = list(map(int, input().split()))\n",
    "a_list.sort()\n",
    "\n",
    "b = int(input())\n",
    "b_list = list(map(int, input().split()))\n",
    "\n",
    "\n",
    "def count_by_range(c, left_value,right_value):\n",
    "    right_index = bisect_right(c, right_value)\n",
    "    left_index  = bisect_left(c, left_value)\n",
    "    return right_index - left_index\n",
    "\n",
    "\n",
    "for i in b_list:\n",
    "    cnt = count_by_range(a_list,i,i)\n",
    "    print(cnt, end=' ')"
   ]
  }
 ],
 "metadata": {
  "kernelspec": {
   "display_name": "Python 3",
   "language": "python",
   "name": "python3"
  },
  "language_info": {
   "codemirror_mode": {
    "name": "ipython",
    "version": 3
   },
   "file_extension": ".py",
   "mimetype": "text/x-python",
   "name": "python",
   "nbconvert_exporter": "python",
   "pygments_lexer": "ipython3",
   "version": "3.8.3"
  }
 },
 "nbformat": 4,
 "nbformat_minor": 4
}
