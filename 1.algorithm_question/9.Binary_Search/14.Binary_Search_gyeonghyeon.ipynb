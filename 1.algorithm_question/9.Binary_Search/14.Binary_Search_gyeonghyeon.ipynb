{
 "cells": [
  {
   "cell_type": "markdown",
   "metadata": {},
   "source": [
    "### 수 찾기"
   ]
  },
  {
   "cell_type": "code",
   "execution_count": 5,
   "metadata": {},
   "outputs": [
    {
     "name": "stdout",
     "output_type": "stream",
     "text": [
      "5\n",
      "4 1 5 2 3\n",
      "5\n",
      "1 3 7 9 5\n",
      "1\n",
      "1\n",
      "0\n",
      "0\n",
      "1\n"
     ]
    }
   ],
   "source": [
    "def binary_search(array,target,start,end):\n",
    "    while start <= end:\n",
    "        mid = (start + end) // 2\n",
    "        \n",
    "        if array[mid] == target:\n",
    "            return mid\n",
    "        elif array[mid] > target:\n",
    "            end= mid - 1\n",
    "        else:\n",
    "            start = mid + 1\n",
    "    return None\n",
    "\n",
    "n = int(input())\n",
    "\n",
    "n_list = list(map(int, input().split()))\n",
    "n_list.sort()\n",
    "\n",
    "\n",
    "m = int(input())\n",
    "\n",
    "m_list = list(map(int,input().split()))\n",
    "\n",
    "\n",
    "for i in m_list:\n",
    "    result = binary_search(n_list,i,0,n-1)\n",
    "    if result == None:\n",
    "        print(0)\n",
    "    else:\n",
    "        print(1)"
   ]
  },
  {
   "cell_type": "markdown",
   "metadata": {},
   "source": [
    "### 숫자 찾기2"
   ]
  },
  {
   "cell_type": "code",
   "execution_count": 8,
   "metadata": {},
   "outputs": [
    {
     "name": "stdout",
     "output_type": "stream",
     "text": [
      "10\n",
      "6 3 2 10 10 10 -10 -10 7 3\n",
      "8\n",
      "10 9 -5 2 3 4 5 -10\n",
      "3\n",
      "0\n",
      "0\n",
      "1\n",
      "2\n",
      "0\n",
      "0\n",
      "2\n"
     ]
    }
   ],
   "source": [
    "from bisect import bisect_left , bisect_right\n",
    "\n",
    "def count_by_range(a, left_value,right_value):\n",
    "    right_index = bisect_right(a, right_value)\n",
    "    left_index  = bisect_left(a, left_value)\n",
    "    return right_index - left_index\n",
    "\n",
    "n = int(input())\n",
    "a_list = list(map(int, input().split()))\n",
    "a_list.sort()\n",
    "m = int(input())\n",
    "b_list = list(map(int, input().split()))\n",
    "\n",
    "for i in b_list:\n",
    "    cnt = count_by_range(a_list,i,i)\n",
    "    print(cnt)\n",
    "    \n",
    "\n",
    "    "
   ]
  }
 ],
 "metadata": {
  "kernelspec": {
   "display_name": "Python 3",
   "language": "python",
   "name": "python3"
  },
  "language_info": {
   "codemirror_mode": {
    "name": "ipython",
    "version": 3
   },
   "file_extension": ".py",
   "mimetype": "text/x-python",
   "name": "python",
   "nbconvert_exporter": "python",
   "pygments_lexer": "ipython3",
   "version": "3.6.5"
  }
 },
 "nbformat": 4,
 "nbformat_minor": 2
}
