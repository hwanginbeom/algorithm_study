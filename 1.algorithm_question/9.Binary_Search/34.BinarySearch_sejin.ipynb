{
 "cells": [
  {
   "cell_type": "markdown",
   "metadata": {},
   "source": [
    "### 공유기 설치"
   ]
  },
  {
   "cell_type": "code",
   "execution_count": 1,
   "metadata": {},
   "outputs": [
    {
     "name": "stdout",
     "output_type": "stream",
     "text": [
      "5 3\n",
      "1\n",
      "2\n",
      "8\n",
      "4\n",
      "9\n",
      "3\n"
     ]
    }
   ],
   "source": [
    "n, c = map(int, input().split())\n",
    "\n",
    "data = []\n",
    "for _ in range(n):\n",
    "    data.append(int(input()))\n",
    "data.sort()\n",
    "\n",
    "\n",
    "# 최소 거리\n",
    "start = data[1] - data[0]\n",
    "# 최대 거리\n",
    "end = data[-1] - data[0]\n",
    "\n",
    "result = 0\n",
    "\n",
    "# start와 end가 같아질 때까지 반복\n",
    "while (start <= end):\n",
    "    mid = (start+end)//2 \n",
    "    # old 배열의 가장 낮은 좌표\n",
    "    old = data[0]\n",
    "    # count는 거리를 mid로 두었을 때 가능한 집의 개수를 세는 변수\n",
    "    count = 1\n",
    "\n",
    "    for i in range(1, len(data)):\n",
    "        if data[i] >= old+mid: # gap 이상\n",
    "            count+=1\n",
    "            old = data[i]\n",
    "    \n",
    "    if count >= c:\n",
    "        start = mid + 1\n",
    "        # result가 최대거리\n",
    "        result = mid\n",
    "    else:\n",
    "        end = mid - 1\n",
    "\n",
    "print(result)"
   ]
  }
 ],
 "metadata": {
  "kernelspec": {
   "display_name": "Python 3",
   "language": "python",
   "name": "python3"
  },
  "language_info": {
   "codemirror_mode": {
    "name": "ipython",
    "version": 3
   },
   "file_extension": ".py",
   "mimetype": "text/x-python",
   "name": "python",
   "nbconvert_exporter": "python",
   "pygments_lexer": "ipython3",
   "version": "3.8.3"
  }
 },
 "nbformat": 4,
 "nbformat_minor": 4
}
