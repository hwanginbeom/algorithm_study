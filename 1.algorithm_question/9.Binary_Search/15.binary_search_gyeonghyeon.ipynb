{
 "cells": [
  {
   "cell_type": "markdown",
   "metadata": {},
   "source": [
    "### 랜선 자르기"
   ]
  },
  {
   "cell_type": "code",
   "execution_count": 24,
   "metadata": {},
   "outputs": [
    {
     "name": "stdout",
     "output_type": "stream",
     "text": [
      "4 11\n",
      "802\n",
      "743\n",
      "457\n",
      "539\n",
      "200\n"
     ]
    }
   ],
   "source": [
    "k,n = map(int,input().split())\n",
    "rope_list = [ int(input()) for _ in range(k)]\n",
    "start = 1\n",
    "end = max(rope_list)\n",
    "\n",
    "while (start <= end):\n",
    "    total = 0\n",
    "    mid = (start +  end) // 2\n",
    "    for x in rope_list:\n",
    "        total += x // mid\n",
    " \n",
    "\n",
    "    if total < n:\n",
    "        end = mid - 1\n",
    "    else :\n",
    "        start = mid + 1\n",
    "        \n",
    "\n",
    "print(end)\n",
    "    "
   ]
  },
  {
   "cell_type": "markdown",
   "metadata": {},
   "source": [
    "### 나무자르기\n",
    "- 역시 동빈나씨"
   ]
  },
  {
   "cell_type": "code",
   "execution_count": 7,
   "metadata": {},
   "outputs": [
    {
     "name": "stdout",
     "output_type": "stream",
     "text": [
      "4 7\n",
      "20 15 10 17\n",
      "15\n"
     ]
    }
   ],
   "source": [
    "n,m = map(int,input().split())\n",
    "rope_list = list(map(int, input().split()))\n",
    "    \n",
    "start = 0\n",
    "end = max(rope_list)\n",
    "\n",
    "result = 0\n",
    "while (start <= end):\n",
    "    total = 0\n",
    "    mid = (start +  end) // 2\n",
    "    for x in rope_list:\n",
    "        if x > mid:\n",
    "            total += x - mid\n",
    "    if total < m:\n",
    "        end = mid - 1\n",
    "    else :\n",
    "        result = mid\n",
    "        start = mid + 1\n",
    "\n",
    "print(result)  "
   ]
  }
 ],
 "metadata": {
  "kernelspec": {
   "display_name": "Python 3",
   "language": "python",
   "name": "python3"
  }
 },
 "nbformat": 4,
 "nbformat_minor": 2
}
