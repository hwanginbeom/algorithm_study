{
 "cells": [
  {
   "cell_type": "markdown",
   "metadata": {},
   "source": [
    "## 이분탐색\n",
    "<br>\n",
    "- 랜선 자르기\n",
    "<br>\n",
    "- 2020.11.13 (금)"
   ]
  },
  {
   "cell_type": "code",
   "execution_count": 1,
   "metadata": {},
   "outputs": [
    {
     "name": "stdout",
     "output_type": "stream",
     "text": [
      "4 11\n",
      "802\n",
      "743\n",
      "457\n",
      "539\n",
      "200\n"
     ]
    }
   ],
   "source": [
    "a, b = map(int,input().split(' '))\n",
    "data = [ int(input()) for _ in range(a)]\n",
    "\n",
    "start = 1\n",
    "end = max(data)\n",
    "\n",
    "while (start <= end):\n",
    "    total = 0\n",
    "    mid = (start +  end) // 2\n",
    " \n",
    "    for x in data:\n",
    "        total += x // mid\n",
    " \n",
    "    if total < b:\n",
    "        end = mid - 1\n",
    "    else :\n",
    "        start = mid + 1\n",
    "        \n",
    "print(end)"
   ]
  },
  {
   "cell_type": "markdown",
   "metadata": {},
   "source": [
    "## 이분탐색\n",
    "<br>\n",
    "- 나무 자르기\n",
    "<br>\n",
    "- 2020.11.13 (금)"
   ]
  },
  {
   "cell_type": "code",
   "execution_count": 6,
   "metadata": {},
   "outputs": [
    {
     "name": "stdout",
     "output_type": "stream",
     "text": [
      "10\n",
      "6 3 2 10 10 10 -10 -10 7 3\n",
      "8\n",
      "10 9 -5 2 3 4 5 -10\n",
      "3 0 0 1 2 0 0 2 "
     ]
    }
   ],
   "source": [
    "n,m = map(int,input().split())\n",
    "rope_list = list(map(int, input().split()))\n",
    "    \n",
    "start = 0\n",
    "end = max(rope_list)\n",
    "\n",
    "result = 0\n",
    "while (start <= end):\n",
    "    total = 0\n",
    "    mid = (start +  end) // 2\n",
    "    for x in rope_list:\n",
    "        if x > mid:\n",
    "            total += x - mid\n",
    "    if total < m:\n",
    "        end = mid - 1\n",
    "    else :\n",
    "        result = mid\n",
    "        start = mid + 1\n",
    "\n",
    "print(result)v"
   ]
  },
  {
   "cell_type": "code",
   "execution_count": 2,
   "metadata": {},
   "outputs": [
    {
     "name": "stdout",
     "output_type": "stream",
     "text": [
      "4 7\n",
      "20 15 10 17\n",
      "15\n"
     ]
    }
   ],
   "source": [
    "a, b = map(int,input().split(' '))\n",
    "data = list(map(int, input().split(' ')))\n",
    "\n",
    "start = 0\n",
    "end = max(data)\n",
    "\n",
    "\n",
    "result = 0\n",
    "while (start <= end):\n",
    "    total = 0\n",
    "    mid = (start +  end) // 2\n",
    " \n",
    "    for x in data:\n",
    "        if x > mid :\n",
    "            total += x - mid\n",
    " \n",
    "    if total < b :\n",
    "        end = mid - 1\n",
    "    else :\n",
    "        result = mid\n",
    "        start = mid + 1\n",
    "        \n",
    "print(result)"
   ]
  }
 ],
 "metadata": {
  "kernelspec": {
   "display_name": "Python 3",
   "language": "python",
   "name": "python3"
  },
  "language_info": {
   "codemirror_mode": {
    "name": "ipython",
    "version": 3
   },
   "file_extension": ".py",
   "mimetype": "text/x-python",
   "name": "python",
   "nbconvert_exporter": "python",
   "pygments_lexer": "ipython3",
   "version": "3.8.3"
  }
 },
 "nbformat": 4,
 "nbformat_minor": 4
}
