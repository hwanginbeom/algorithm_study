{
 "cells": [
  {
   "cell_type": "code",
   "execution_count": null,
   "metadata": {},
   "outputs": [],
   "source": [
    "Amount = int(input())\n",
    "number = int(input())\n",
    "\n",
    "graph = [[] for i in range(Amount+1)]\n",
    "\n",
    "for i in range(number):\n",
    "  pairs = input()\n",
    "  a = int(pairs.split()[0])\n",
    "  b = int(pairs.split()[1])\n",
    "  graph[a].append(b)\n",
    "  graph[b].append(a)\n",
    "  \n",
    "\n",
    "visited = [False]*(Amount+1)\n",
    "cnt = 0\n",
    "\n",
    "def dfs(graph, v, visited):\n",
    "    # 현재 노드를 방문 처리\n",
    "    visited[v] = True\n",
    "    # 현재 노드와 연결된 다른 노드를 재귀적으로 방문\n",
    "    for i in graph[v]:\n",
    "        if not visited[i]:\n",
    "            dfs(graph, i, visited)\n",
    "            \n",
    "\n",
    "\n",
    "dfs(graph, 1, visited)\n",
    "print(visited.count(True)-1)"
   ]
  }
 ],
 "metadata": {
  "kernelspec": {
   "display_name": "Python 3",
   "language": "python",
   "name": "python3"
  },
  "language_info": {
   "codemirror_mode": {
    "name": "ipython",
    "version": 3
   },
   "file_extension": ".py",
   "mimetype": "text/x-python",
   "name": "python",
   "nbconvert_exporter": "python",
   "pygments_lexer": "ipython3",
   "version": "3.7.6"
  }
 },
 "nbformat": 4,
 "nbformat_minor": 4
}
