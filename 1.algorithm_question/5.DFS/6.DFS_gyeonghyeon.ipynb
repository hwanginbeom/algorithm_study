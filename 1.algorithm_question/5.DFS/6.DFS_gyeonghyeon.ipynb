{
 "cells": [
  {
   "cell_type": "code",
   "execution_count": 27,
   "metadata": {},
   "outputs": [
    {
     "name": "stdout",
     "output_type": "stream",
     "text": [
      "7\n",
      "6\n",
      "1 2\n",
      "2 3\n",
      "1 5\n",
      "5 2\n",
      "5 6\n",
      "4 7\n",
      "4\n"
     ]
    }
   ],
   "source": [
    "computer={}\n",
    "\n",
    "n=int(input())\n",
    "m=int(input())\n",
    "\n",
    "for i in range(n):\n",
    "    computer[i+1] = set()\n",
    "\n",
    "for j in range(m):\n",
    "    a, b = map(int,input().split())\n",
    "    computer[a].add(b)\n",
    "    computer[b].add(a)\n",
    "\n",
    "        \n",
    "def dfs(start, computer):\n",
    "    for i in computer[start]:\n",
    "        if i not in infection:\n",
    "            infection.append(i)\n",
    "            dfs(i, computer)\n",
    "            \n",
    "infection = []\n",
    "dfs(1, computer)\n",
    "print(len(infection)-1)"
   ]
  }
 ],
 "metadata": {
  "kernelspec": {
   "display_name": "Python 3",
   "language": "python",
   "name": "python3"
  },
  "language_info": {
   "codemirror_mode": {
    "name": "ipython",
    "version": 3
   },
   "file_extension": ".py",
   "mimetype": "text/x-python",
   "name": "python",
   "nbconvert_exporter": "python",
   "pygments_lexer": "ipython3",
   "version": "3.6.5"
  }
 },
 "nbformat": 4,
 "nbformat_minor": 2
}
