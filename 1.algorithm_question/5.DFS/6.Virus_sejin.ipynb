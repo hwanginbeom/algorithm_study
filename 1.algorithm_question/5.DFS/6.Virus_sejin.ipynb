{
 "cells": [
  {
   "cell_type": "markdown",
   "metadata": {},
   "source": [
    "## DBF\n",
    "<br>\n",
    "- 바이러스\n",
    "<br>\n",
    "- 2020.11.02 (월)"
   ]
  },
  {
   "cell_type": "code",
   "execution_count": 3,
   "metadata": {},
   "outputs": [
    {
     "name": "stdout",
     "output_type": "stream",
     "text": [
      "7\n",
      "6\n",
      "1 2\n",
      "2 3\n",
      "1 5\n",
      "5 2\n",
      "5 6\n",
      "4 7\n"
     ]
    },
    {
     "data": {
      "text/plain": [
       "4"
      ]
     },
     "execution_count": 3,
     "metadata": {},
     "output_type": "execute_result"
    }
   ],
   "source": [
    "result = []\n",
    "\n",
    "# 함수\n",
    "def dfs(graph, v, visited) :\n",
    "    \n",
    "    visited[v] = True\n",
    "    result.append(v)\n",
    "    \n",
    "    for i in graph[v] :\n",
    "        if not visited[i] :\n",
    "            dfs(graph,i,visited)\n",
    "    \n",
    "    return result\n",
    "\n",
    "\n",
    "# input\n",
    "data = []\n",
    "a = int(input())\n",
    "b = int(input())\n",
    "for i in range(b) :\n",
    "    c = list(map(int, input().split()))\n",
    "    data.append(c)\n",
    "\n",
    "\n",
    "# graph\n",
    "final = []\n",
    "for i in range(len(data)+2) :\n",
    "    results = []\n",
    "    for j in range(len(data)) :\n",
    "        if (i in data[j]) :\n",
    "            results.append(data[j][0])\n",
    "            results.append(data[j][1])\n",
    "    final.append(list(set(results)))\n",
    "\n",
    "graph = [[]]\n",
    "for i in range(1,len(data)+2) :\n",
    "    final[i].remove(i)\n",
    "    graph.append(final[i])\n",
    "#print(graph)\n",
    "\n",
    "\n",
    "# visited\n",
    "visited=[False]*8\n",
    "\n",
    "\n",
    "# result\n",
    "a = dfs(graph,1,visited)\n",
    "#print(a)\n",
    "len(a[1:])"
   ]
  }
 ],
 "metadata": {
  "kernelspec": {
   "display_name": "Python 3",
   "language": "python",
   "name": "python3"
  },
  "language_info": {
   "codemirror_mode": {
    "name": "ipython",
    "version": 3
   },
   "file_extension": ".py",
   "mimetype": "text/x-python",
   "name": "python",
   "nbconvert_exporter": "python",
   "pygments_lexer": "ipython3",
   "version": "3.8.3"
  }
 },
 "nbformat": 4,
 "nbformat_minor": 4
}
