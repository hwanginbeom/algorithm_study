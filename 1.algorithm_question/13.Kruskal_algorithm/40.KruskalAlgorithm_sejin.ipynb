{
 "cells": [
  {
   "cell_type": "markdown",
   "metadata": {},
   "source": [
    "### 네트워크 연결"
   ]
  },
  {
   "cell_type": "code",
   "execution_count": 1,
   "metadata": {},
   "outputs": [
    {
     "name": "stdout",
     "output_type": "stream",
     "text": [
      "6\n",
      "9\n",
      "1 2 5\n",
      "1 3 4\n",
      "2 3 2\n",
      "2 4 7\n",
      "3 4 6\n",
      "3 5 11\n",
      "4 5 3\n",
      "4 6 8\n",
      "5 6 8\n",
      "23\n"
     ]
    }
   ],
   "source": [
    "def find_parent(parent,x):\n",
    "    if parent[x] != x:\n",
    "        parent[x] = find_parent(parent, parent[x])\n",
    "    return parent[x]\n",
    "\n",
    "def union_parent(parent, a, b):\n",
    "    a = find_parent(parent,a)\n",
    "    b = find_parent(parent, b)\n",
    "    if a < b :\n",
    "        parent[b] = a\n",
    "    else:\n",
    "        parent[a] = b\n",
    "        \n",
    "        \n",
    "n = int(input())\n",
    "m = int(input())\n",
    "parent = [0] * (n+1)\n",
    "\n",
    "for i in range(1, n+1):\n",
    "    parent[i] = i\n",
    "\n",
    "    \n",
    "edges = []\n",
    "result = 0\n",
    "\n",
    "for _ in range(m):\n",
    "    a, b, c = map(int, input().split())\n",
    "    edges.append((c, a, b))\n",
    "edges.sort()\n",
    "\n",
    "\n",
    "for edge in edges:\n",
    "    c, a, b = edge\n",
    "    if find_parent(parent,a) != find_parent(parent,b):\n",
    "        union_parent(parent,a,b)\n",
    "        result += c\n",
    "print(result)"
   ]
  }
 ],
 "metadata": {
  "kernelspec": {
   "display_name": "Python 3",
   "language": "python",
   "name": "python3"
  },
  "language_info": {
   "codemirror_mode": {
    "name": "ipython",
    "version": 3
   },
   "file_extension": ".py",
   "mimetype": "text/x-python",
   "name": "python",
   "nbconvert_exporter": "python",
   "pygments_lexer": "ipython3",
   "version": "3.8.3"
  }
 },
 "nbformat": 4,
 "nbformat_minor": 4
}
