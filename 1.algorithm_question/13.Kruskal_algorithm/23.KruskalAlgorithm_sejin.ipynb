{
 "cells": [
  {
   "cell_type": "markdown",
   "metadata": {},
   "source": [
    "### 상근이의 여행"
   ]
  },
  {
   "cell_type": "code",
   "execution_count": null,
   "metadata": {},
   "outputs": [],
   "source": [
    "def find_parent(parent, x):\n",
    "    if parent[x]  != x:\n",
    "        parent[x] = find_parent(parent, parent[x])\n",
    "    return parent[x]\n",
    "\n",
    "def union_parent(parent, a, b):\n",
    "    a = find_parent(parent, a)\n",
    "    b = find_parent(parent, b)\n",
    "    if a < b:\n",
    "        parent[b] = a\n",
    "    else:\n",
    "        parent[a] = b\n",
    "        \n",
    "t = int(input())  \n",
    "while t:\n",
    "    n,m = map(int, input().split())\n",
    "    parent = [0] * (n + 1)\n",
    "\n",
    "    edges = []\n",
    "    result = 0\n",
    "\n",
    "    for i in range(1, n+1):\n",
    "        parent[i] = i\n",
    "\n",
    "\n",
    "    for _ in range(m):\n",
    "        a,b = map(int, input().split())\n",
    "        edges.append((1,a,b))\n",
    "\n",
    "    for edgs in edges:\n",
    "        cost , a, b = edgs\n",
    "        if find_parent(parent,a) != find_parent(parent, b):\n",
    "            union_parent(parent, a,b)\n",
    "            result += cost\n",
    "    print(result)    \n",
    "    t -= 1"
   ]
  },
  {
   "cell_type": "markdown",
   "metadata": {},
   "source": [
    "### 최소 스패닝 트리"
   ]
  },
  {
   "cell_type": "code",
   "execution_count": null,
   "metadata": {},
   "outputs": [],
   "source": [
    "def find_parent(parent, x):\n",
    "    if parent[x]  != x:\n",
    "        parent[x] = find_parent(parent, parent[x])\n",
    "    return parent[x]\n",
    "\n",
    "def union_parent(parent, a, b):\n",
    "    a = find_parent(parent, a)\n",
    "    b = find_parent(parent, b)\n",
    "    if a < b:\n",
    "        parent[b] = a\n",
    "    else:\n",
    "        parent[a] = b\n",
    "\n",
    "v,e= map(int, input().split())\n",
    "parent = [0] * (v + 1)\n",
    "\n",
    "edges = []\n",
    "result = 0\n",
    "\n",
    "for i in range(1, v+1):\n",
    "    parent[i] = i\n",
    "\n",
    "\n",
    "for _ in range(e):\n",
    "    a,b,c = map(int, input().split())\n",
    "    edges.append((c,a,b))\n",
    "\n",
    "edges.sort(key=lambda x:x[0])\n",
    "v_count = 0\n",
    "for edgs in edges:\n",
    "    c , a, b = edgs\n",
    "    if find_parent(parent,a) != find_parent(parent, b):\n",
    "        union_parent(parent, a,b)\n",
    "        result += c\n",
    "        v_count+=1\n",
    "    if v_count==v-1:\n",
    "        break\n",
    "print(result)"
   ]
  }
 ],
 "metadata": {
  "kernelspec": {
   "display_name": "Python 3",
   "language": "python",
   "name": "python3"
  },
  "language_info": {
   "codemirror_mode": {
    "name": "ipython",
    "version": 3
   },
   "file_extension": ".py",
   "mimetype": "text/x-python",
   "name": "python",
   "nbconvert_exporter": "python",
   "pygments_lexer": "ipython3",
   "version": "3.8.3"
  }
 },
 "nbformat": 4,
 "nbformat_minor": 4
}
