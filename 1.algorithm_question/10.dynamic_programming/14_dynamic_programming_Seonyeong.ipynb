{
 "cells": [
  {
   "cell_type": "markdown",
   "metadata": {},
   "source": [
    "### 설탕 배달"
   ]
  },
  {
   "cell_type": "code",
   "execution_count": null,
   "metadata": {},
   "outputs": [],
   "source": [
    "inp = int(input())\n",
    "box = 0\n",
    "\n",
    "while True:\n",
    "    if (inp % 5) == 0:\n",
    "        box = box +(inp//5)\n",
    "        print(box)\n",
    "        break\n",
    "    inp = inp-3\n",
    "    box += 1\n",
    "    if inp <0:\n",
    "        print('-1')\n",
    "        break"
   ]
  },
  {
   "cell_type": "markdown",
   "metadata": {},
   "source": [
    "### 1로 만들기"
   ]
  },
  {
   "cell_type": "code",
   "execution_count": null,
   "metadata": {},
   "outputs": [],
   "source": [
    "N = int(input())\n",
    "arr = [0] * (N+1)\n",
    "\n",
    "for i in range(1, N+1):\n",
    "    if i == 1:\n",
    "        continue\n",
    "    values = []\n",
    "    \n",
    "    if i % 3 == 0:\n",
    "        values.append(arr[i//3] + 1)\n",
    "    if i % 2 == 0:\n",
    "        values.append(arr[i//2] + 1)\n",
    "    values.append(arr[i-1] + 1)\n",
    "    \n",
    "    arr[i] = min(values)\n",
    "    \n",
    "print(str(arr[N]))"
   ]
  }
 ],
 "metadata": {
  "kernelspec": {
   "display_name": "Python 3",
   "language": "python",
   "name": "python3"
  },
  "language_info": {
   "codemirror_mode": {
    "name": "ipython",
    "version": 3
   },
   "file_extension": ".py",
   "mimetype": "text/x-python",
   "name": "python",
   "nbconvert_exporter": "python",
   "pygments_lexer": "ipython3",
   "version": "3.7.6"
  }
 },
 "nbformat": 4,
 "nbformat_minor": 4
}
