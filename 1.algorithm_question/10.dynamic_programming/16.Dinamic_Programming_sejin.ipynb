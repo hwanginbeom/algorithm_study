{
 "cells": [
  {
   "cell_type": "markdown",
   "metadata": {},
   "source": [
    "### 설탕 배달"
   ]
  },
  {
   "cell_type": "code",
   "execution_count": 19,
   "metadata": {},
   "outputs": [],
   "source": [
    "def sugar(n, delivery) :\n",
    "    \n",
    "    if n % 5 == 0 :\n",
    "        delivery = n // 5\n",
    "    \n",
    "    else :\n",
    "        while n > 0 :\n",
    "            n -= 3\n",
    "            delivery += 1\n",
    "            \n",
    "            if n % 5 == 0 :\n",
    "                delivery += x // 5\n",
    "                break\n",
    "           \n",
    "        if n < 0 :\n",
    "            delivery = -1\n",
    "\n",
    "    print(delivery)\n",
    "\n",
    "n = int(input())\n",
    "delivery = 0\n",
    "\n",
    "sugar(n, delivery)"
   ]
  },
  {
   "cell_type": "markdown",
   "metadata": {},
   "source": [
    "### 1로 만들기"
   ]
  },
  {
   "cell_type": "code",
   "execution_count": 20,
   "metadata": {},
   "outputs": [],
   "source": [
    "x = int(input())\n",
    "\n",
    "d = [0] * 1000001\n",
    "\n",
    "for i in range(2, x + 1):\n",
    "\n",
    "    d[i] = d[i - 1] + 1\n",
    "    \n",
    "    if i % 2 == 0:\n",
    "        d[i] = min(d[i], d[i // 2] + 1)\n",
    "    \n",
    "    if i % 3 == 0:\n",
    "        d[i] = min(d[i], d[i // 3] + 1)\n",
    "    \n",
    "    if i % 5 == 0:\n",
    "        d[i] = min(d[i], d[i // 5] + 1)\n",
    "\n",
    "print(d[x])"
   ]
  }
 ],
 "metadata": {
  "kernelspec": {
   "display_name": "Python 3",
   "language": "python",
   "name": "python3"
  },
  "language_info": {
   "codemirror_mode": {
    "name": "ipython",
    "version": 3
   },
   "file_extension": ".py",
   "mimetype": "text/x-python",
   "name": "python",
   "nbconvert_exporter": "python",
   "pygments_lexer": "ipython3",
   "version": "3.8.3"
  }
 },
 "nbformat": 4,
 "nbformat_minor": 4
}
