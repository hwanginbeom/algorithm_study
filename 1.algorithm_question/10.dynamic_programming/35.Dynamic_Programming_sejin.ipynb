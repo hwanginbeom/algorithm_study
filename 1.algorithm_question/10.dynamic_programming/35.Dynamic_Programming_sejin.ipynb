{
 "cells": [
  {
   "cell_type": "markdown",
   "metadata": {},
   "source": [
    "### RGB 거리"
   ]
  },
  {
   "cell_type": "code",
   "execution_count": 3,
   "metadata": {},
   "outputs": [
    {
     "name": "stdout",
     "output_type": "stream",
     "text": [
      "3\n",
      "26 40 83\n",
      "49 60 57\n",
      "13 89 99\n",
      "96\n"
     ]
    }
   ],
   "source": [
    "n = int(input())\n",
    "cost = []\n",
    "\n",
    "for _ in range(n):\n",
    "    cost.append(list(map(int, input().split())))\n",
    "\n",
    "graph = [[0] * 3 for _ in range(n)]\n",
    "\n",
    "for i in range(n):\n",
    "    if i == 0:\n",
    "        graph[i][0] = cost[0][0]\n",
    "        graph[i][1] = cost[0][1]\n",
    "        graph[i][2] = cost[0][2]\n",
    "\n",
    "    # 빨간색\n",
    "    graph[i][0] = cost[i][0] + min(graph[i-1][1], graph[i-1][2])\n",
    "    # 초록색\n",
    "    graph[i][1] = cost[i][1] + min(graph[i-1][0], graph[i-1][2])\n",
    "    # 파란색\n",
    "    graph[i][2] = cost[i][2] + min(graph[i-1][0], graph[i-1][1])\n",
    "\n",
    "min_cost = min(graph[n-1][0], graph[n-1][1], graph[n-1][2])\n",
    "print(min_cost)"
   ]
  }
 ],
 "metadata": {
  "kernelspec": {
   "display_name": "Python 3",
   "language": "python",
   "name": "python3"
  },
  "language_info": {
   "codemirror_mode": {
    "name": "ipython",
    "version": 3
   },
   "file_extension": ".py",
   "mimetype": "text/x-python",
   "name": "python",
   "nbconvert_exporter": "python",
   "pygments_lexer": "ipython3",
   "version": "3.8.3"
  }
 },
 "nbformat": 4,
 "nbformat_minor": 4
}
