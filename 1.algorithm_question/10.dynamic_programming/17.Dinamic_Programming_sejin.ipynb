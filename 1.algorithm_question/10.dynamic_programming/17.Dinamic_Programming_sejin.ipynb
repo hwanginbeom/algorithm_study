{
 "cells": [
  {
   "cell_type": "markdown",
   "metadata": {},
   "source": [
    "### 피보나치 수2"
   ]
  },
  {
   "cell_type": "code",
   "execution_count": 8,
   "metadata": {},
   "outputs": [
    {
     "name": "stdout",
     "output_type": "stream",
     "text": [
      "10\n",
      "55\n"
     ]
    }
   ],
   "source": [
    "def fibo(x):\n",
    "    if x ==1 or x == 2:\n",
    "        return 1\n",
    "    \n",
    "    elif data[x] != 0:\n",
    "        return data[x]\n",
    "    \n",
    "    data[x] = fibo(x - 1) + fibo(x - 2)\n",
    "    return data[x]\n",
    "\n",
    "n = int(input())\n",
    "data = [0 for _ in range(n+1)]\n",
    "\n",
    "print(fibo(n))"
   ]
  },
  {
   "cell_type": "markdown",
   "metadata": {},
   "source": [
    "### 피보나치 수"
   ]
  },
  {
   "cell_type": "code",
   "execution_count": 10,
   "metadata": {},
   "outputs": [
    {
     "name": "stdout",
     "output_type": "stream",
     "text": [
      "1\n",
      "10\n",
      "34 55\n"
     ]
    }
   ],
   "source": [
    "n = int(input())\n",
    "data = []\n",
    "for _ in range(n) :\n",
    "    data.append(int(input()))\n",
    "\n",
    "for i in data :\n",
    "    a = [0 for _ in range(i + 1)]\n",
    "    a[0] = 1\n",
    "    if i >= 1 :\n",
    "        a[1] = 0\n",
    "\n",
    "    b = [0 for _ in range(i + 1)]\n",
    "    b[0] = 0\n",
    "    if i >= 1 :\n",
    "        b[1] = 1\n",
    "\n",
    "    for j in range(2, i + 1) :\n",
    "        a[j] = a[j - 1] + a[j - 2]\n",
    "        b[j] = b[j - 1] + b[j - 2]\n",
    "\n",
    "    print(a[i], end = ' ')\n",
    "    print(b[i])"
   ]
  }
 ],
 "metadata": {
  "kernelspec": {
   "display_name": "Python 3",
   "language": "python",
   "name": "python3"
  },
  "language_info": {
   "codemirror_mode": {
    "name": "ipython",
    "version": 3
   },
   "file_extension": ".py",
   "mimetype": "text/x-python",
   "name": "python",
   "nbconvert_exporter": "python",
   "pygments_lexer": "ipython3",
   "version": "3.8.3"
  }
 },
 "nbformat": 4,
 "nbformat_minor": 4
}
