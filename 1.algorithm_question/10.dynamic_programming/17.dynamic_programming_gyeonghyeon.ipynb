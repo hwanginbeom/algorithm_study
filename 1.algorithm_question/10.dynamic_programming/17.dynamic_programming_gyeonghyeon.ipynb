{
 "cells": [
  {
   "cell_type": "markdown",
   "metadata": {},
   "source": [
    "### 피보나치 수2"
   ]
  },
  {
   "cell_type": "code",
   "execution_count": 9,
   "metadata": {},
   "outputs": [
    {
     "name": "stdout",
     "output_type": "stream",
     "text": [
      "10\n",
      "55\n"
     ]
    }
   ],
   "source": [
    "n=int(input())\n",
    "dp = [0] * 100\n",
    "\n",
    "def fibo(x):\n",
    "    if x ==1 or x == 2:\n",
    "        return 1\n",
    "    if dp[x] != 0:\n",
    "        return dp[x]\n",
    "    dp[x] = fibo(x - 1) + fibo(x - 2)\n",
    "    return dp[x]\n",
    "print(fibo(n))"
   ]
  },
  {
   "cell_type": "markdown",
   "metadata": {},
   "source": [
    "### 피보나치 수"
   ]
  },
  {
   "cell_type": "code",
   "execution_count": 70,
   "metadata": {},
   "outputs": [
    {
     "name": "stdout",
     "output_type": "stream",
     "text": [
      "1\n",
      "10\n",
      "34 55\n"
     ]
    }
   ],
   "source": [
    "n=int(input())\n",
    "for i in range(n):\n",
    "    k = int(input())\n",
    "    zero = 1\n",
    "    one = 0\n",
    "    tmp = 0\n",
    "    for _ in range(k):\n",
    "        tmp = one\n",
    "        one = one + zero\n",
    "        zero = tmp\n",
    "    print(zero, one)"
   ]
  }
 ],
 "metadata": {
  "kernelspec": {
   "display_name": "Python 3",
   "language": "python",
   "name": "python3"
  },
  "language_info": {
   "codemirror_mode": {
    "name": "ipython",
    "version": 3
   },
   "file_extension": ".py",
   "mimetype": "text/x-python",
   "name": "python",
   "nbconvert_exporter": "python",
   "pygments_lexer": "ipython3",
   "version": "3.6.5"
  }
 },
 "nbformat": 4,
 "nbformat_minor": 2
}
