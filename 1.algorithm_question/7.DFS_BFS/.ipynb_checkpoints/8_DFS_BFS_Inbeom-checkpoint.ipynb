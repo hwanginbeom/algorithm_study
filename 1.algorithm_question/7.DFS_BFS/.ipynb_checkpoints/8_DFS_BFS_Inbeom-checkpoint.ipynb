{
 "cells": [
  {
   "cell_type": "code",
   "execution_count": null,
   "metadata": {
    "id": "WRKh-FobFF75"
   },
   "outputs": [],
   "source": [
    "N, M = map(int, input().split())\n",
    "friend_map = [[N for _ in range(N)] for _ in range(N)]\n",
    "\n",
    "for _ in range(M):\n",
    "    friend_A, friend_B = map(int, input().split())\n",
    "    friend_map[friend_A-1][friend_B-1] = 1\n",
    "    friend_map[friend_B-1][friend_A-1] = 1\n",
    "\n",
    "\n",
    "#플로이드-워셜 알고리즘\n",
    "for k in range(N): #경로 for문이 가장 상위 단계여야 누락되지 않는다\n",
    "    for i in range(N):\n",
    "        for j in range(N): \n",
    "            if i == j:\n",
    "                friend_map[i][j] = 0 #자기 자신과는 친구가 되지 못한다\n",
    "            else:\n",
    "                friend_map[i][j] = min(friend_map[i][j],\n",
    "                                       friend_map[i][k] + friend_map[k][j])\n",
    "\n",
    "\n",
    "#출력\n",
    "bacon = []\n",
    "for row in friend_map:\n",
    "    bacon.append(sum(row))\n",
    "print(bacon.index(min(bacon)) + 1)"
   ]
  },
  {
   "cell_type": "code",
   "execution_count": null,
   "metadata": {
    "id": "yWMrHciCnUVq"
   },
   "outputs": [],
   "source": [
    "import sys\n",
    "from collections import deque\n",
    "\n",
    "def bfs(x):\n",
    "    q = deque()\n",
    "    q.append((x, 0))\n",
    "    total = 0\n",
    "\n",
    "    while q:\n",
    "        s, d = q.popleft()\n",
    "        total += d\n",
    "        for i in arr[s]:\n",
    "            if not visited[i]:\n",
    "                visited[i] = True\n",
    "                q.append((i, d + 1))\n",
    "\n",
    "    return total\n",
    "\n",
    "\n",
    "input = sys.stdin.readline\n",
    "n, m = map(int, input().split())\n",
    "relations = [list(map(int, input().split())) for _ in range(m)]\n",
    "arr = [[] for _ in range(n + 1)]\n",
    "visited = [False for _ in range(n + 1)]\n",
    "answer = []\n",
    "\n",
    "for i, j in relations:\n",
    "    arr[i].append(j)\n",
    "    arr[j].append(i)\n",
    "\n",
    "for i in range(1, n + 1):\n",
    "    visited = [False for _ in range(n + 1)]\n",
    "    visited[i] = True\n",
    "    answer.append(bfs(i))\n",
    "\n",
    "print(answer.index(min(answer)) + 1)"
   ]
  }
 ],
 "metadata": {
  "colab": {
   "name": "8. DFS_BFS_Inbeom.ipynb",
   "private_outputs": true,
   "provenance": []
  },
  "kernelspec": {
   "display_name": "Python 3",
   "language": "python",
   "name": "python3"
  },
  "language_info": {
   "codemirror_mode": {
    "name": "ipython",
    "version": 3
   },
   "file_extension": ".py",
   "mimetype": "text/x-python",
   "name": "python",
   "nbconvert_exporter": "python",
   "pygments_lexer": "ipython3",
   "version": "3.7.6"
  }
 },
 "nbformat": 4,
 "nbformat_minor": 1
}
