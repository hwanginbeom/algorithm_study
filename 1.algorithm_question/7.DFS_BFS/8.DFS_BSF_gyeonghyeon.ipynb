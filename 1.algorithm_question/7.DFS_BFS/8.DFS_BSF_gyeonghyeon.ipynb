{
 "cells": [
  {
   "cell_type": "code",
   "execution_count": 6,
   "metadata": {},
   "outputs": [
    {
     "name": "stdout",
     "output_type": "stream",
     "text": [
      "5 5\n",
      "1 3\n",
      "1 4\n",
      "4 5\n",
      "4 3\n",
      "3 2\n",
      "3\n"
     ]
    }
   ],
   "source": [
    "n,m = map(int, input().split())\n",
    "\n",
    "INF = int(1e9)\n",
    "\n",
    "firend_list = [[INF] * (n+1) for _ in range (n+1)]\n",
    "\n",
    "for i in range(1,n+1):\n",
    "    for j in range(1,n+1):\n",
    "        if i == j:\n",
    "            firend_list[i][j] = 0\n",
    "\n",
    "for _ in range(1,m+1):\n",
    "    a,b = map(int,input().split())\n",
    "    firend_list[a][b] = 1\n",
    "    firend_list[b][a] = 1\n",
    "    \n",
    "for i in range(1,n+1):\n",
    "    for a in range(1, n+1):\n",
    "        for b in range(1, n+1):\n",
    "            firend_list[a][b] = min(firend_list[a][b],firend_list[a][i] + firend_list[i][b])\n",
    "            \n",
    "           \n",
    "                    \n",
    "min_list = {}\n",
    "for r in range(1,n+1):\n",
    "    a = (sum(firend_list[r])-INF)\n",
    "    min_list[r] = a\n",
    "\n",
    "result = sorted(min_list.items(), key=lambda x :x[1])[0]  \n",
    "print(result[0])"
   ]
  }
 ],
 "metadata": {
  "kernelspec": {
   "display_name": "Python 3",
   "language": "python",
   "name": "python3"
  },
  "language_info": {
   "codemirror_mode": {
    "name": "ipython",
    "version": 3
   },
   "file_extension": ".py",
   "mimetype": "text/x-python",
   "name": "python",
   "nbconvert_exporter": "python",
   "pygments_lexer": "ipython3",
   "version": "3.6.5"
  }
 },
 "nbformat": 4,
 "nbformat_minor": 2
}
