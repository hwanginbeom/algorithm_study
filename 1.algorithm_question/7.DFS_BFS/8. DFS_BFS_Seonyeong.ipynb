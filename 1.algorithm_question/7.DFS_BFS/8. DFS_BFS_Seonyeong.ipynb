{
 "cells": [
  {
   "cell_type": "code",
   "execution_count": null,
   "metadata": {},
   "outputs": [],
   "source": [
    "from collections import deque\n",
    "\n",
    "def bfs(v):\n",
    "    count = 0\n",
    "    q = deque([[v,count]])\n",
    "    while q:\n",
    "        value = q.popleft()\n",
    "        v = value[0]\n",
    "        count = value[1]\n",
    "        if not visited[v]:\n",
    "            visited[v]=True\n",
    "            countList[v] += count\n",
    "            count += 1\n",
    "            for e in adj[v]:\n",
    "                q.append([e,count])\n",
    "\n",
    "n, m = map(int, input().split())\n",
    "adj =[[] for _ in range(n+1)]\n",
    "countList = [0]*(n+1)\n",
    "for _ in range(m):\n",
    "    x, y = map(int, input().split())\n",
    "    adj[x].append(y)\n",
    "    adj[y].append(x)\n",
    "    \n",
    "for i in range(1, n+1):\n",
    "    visited = [False]*(n+1)\n",
    "    bfs(i)\n",
    "    \n",
    "print(countList.index(min(countList[1:])))"
   ]
  }
 ],
 "metadata": {
  "kernelspec": {
   "display_name": "Python 3",
   "language": "python",
   "name": "python3"
  },
  "language_info": {
   "codemirror_mode": {
    "name": "ipython",
    "version": 3
   },
   "file_extension": ".py",
   "mimetype": "text/x-python",
   "name": "python",
   "nbconvert_exporter": "python",
   "pygments_lexer": "ipython3",
   "version": "3.7.6"
  }
 },
 "nbformat": 4,
 "nbformat_minor": 4
}
