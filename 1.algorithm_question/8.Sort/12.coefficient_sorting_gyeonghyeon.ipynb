{
 "cells": [
  {
   "cell_type": "markdown",
   "metadata": {},
   "source": [
    "### 단어정렬 (퀵정렬)\n",
    "- 메모리 : 136072\t\n",
    "- 시간   : 376"
   ]
  },
  {
   "cell_type": "code",
   "execution_count": 7,
   "metadata": {
    "collapsed": true
   },
   "outputs": [
    {
     "name": "stdout",
     "output_type": "stream",
     "text": [
      "3\n",
      "want\n",
      "wont\n",
      "wont\n",
      "want\n",
      "wont\n"
     ]
    }
   ],
   "source": [
    "n = int(input())\n",
    "text_dic = {}\n",
    "\n",
    "for i in range(n):\n",
    "    a = input()\n",
    "    text_dic[a] = 1\n",
    "\n",
    "text_list = [[str(key),len(key)] for key in text_dic.keys()]\n",
    "\n",
    "def sotred_x(x):\n",
    "    if len(x) <= 1:\n",
    "        return x\n",
    "    pivot = x[0]\n",
    "    tail  = x[1:]\n",
    "    \n",
    "    left_side = [ i for i in tail if i[1] < pivot[1] ]  + [ i for i in tail if i[1] == pivot[1] if i[0] < pivot[0]  ]\n",
    "    right_side = [i for i in tail if i[1] > pivot[1] ]  + [ i for i in tail if i[1] == pivot[1] if i[0] > pivot[0]  ]\n",
    "    \n",
    "    \n",
    "    return sotred_x(left_side) + [pivot] + sotred_x(right_side)\n",
    "\n",
    "result = sotred_x(text_list)\n",
    "for i in result:\n",
    "    print(i[0],end='\\n')"
   ]
  },
  {
   "cell_type": "markdown",
   "metadata": {},
   "source": [
    "### 단어정렬 (람다식)\n",
    "- 메모리 : 35248\t\n",
    "- 시간   : 884"
   ]
  },
  {
   "cell_type": "code",
   "execution_count": 44,
   "metadata": {
    "collapsed": true
   },
   "outputs": [
    {
     "name": "stdout",
     "output_type": "stream",
     "text": [
      "13\n",
      "but\n",
      "i\n",
      "wont\n",
      "hesitate\n",
      "no\n",
      "more\n",
      "no\n",
      "more\n",
      "it\n",
      "cannot\n",
      "wait\n",
      "im\n",
      "yours\n",
      "i\n",
      "im\n",
      "it\n",
      "no\n",
      "but\n",
      "more\n",
      "wait\n",
      "wont\n",
      "yours\n",
      "cannot\n",
      "hesitate\n"
     ]
    }
   ],
   "source": [
    "n = int(input())\n",
    "\n",
    "text_dic = {}\n",
    "\n",
    "for i in range(n):\n",
    "    text = input()\n",
    "    text_dic[text] = 1\n",
    "    \n",
    "text_list = [[str(key),len(key)] for key in text_dic.keys()]\n",
    "text_list = sorted(text_list,key=lambda x : (x[1],x[0]))\n",
    "\n",
    "\n",
    "for i in text_list:\n",
    "    print(i[0],end='\\n')"
   ]
  },
  {
   "cell_type": "markdown",
   "metadata": {},
   "source": [
    "### 나이순 정렬\n",
    "- 시간 : 4916"
   ]
  },
  {
   "cell_type": "code",
   "execution_count": 8,
   "metadata": {},
   "outputs": [
    {
     "name": "stdout",
     "output_type": "stream",
     "text": [
      "3\n",
      "21 Junkyu\n",
      "21 Dohyun\n",
      "20 Sunyoung\n",
      "20 Sunyoung\n",
      "21 Junkyu\n",
      "21 Dohyun\n"
     ]
    }
   ],
   "source": [
    "n = int(input())\n",
    "join_list = []\n",
    "\n",
    "for i in range(n):\n",
    "    a,b = input().split()\n",
    "    join_list.append([int(a),b,i])\n",
    "    \n",
    "def sotred_x(x):\n",
    "    if len(x) <= 1:\n",
    "        return x\n",
    "    pivot = x[0]\n",
    "    tail  = x[1:]\n",
    "    \n",
    "    left_side = [ i for i in tail if i[0] < pivot[0] ]  + [ i for i in tail if i[0] == pivot[0] if i[2] < pivot[2]  ]\n",
    "    right_side = [i for i in tail if i[0] > pivot[0] ]  + [ i for i in tail if i[0] == pivot[0] if i[2] > pivot[2]  ]\n",
    "    \n",
    "    \n",
    "    return sotred_x(left_side) + [pivot] + sotred_x(right_side)\n",
    "\n",
    "result = sotred_x(join_list)\n",
    "for i in result:\n",
    "    print(i[0],i[1])"
   ]
  },
  {
   "cell_type": "markdown",
   "metadata": {},
   "source": [
    "### PyPy3 시간 628 여기서는 람다식이 훨씬 빠르다."
   ]
  },
  {
   "cell_type": "code",
   "execution_count": 9,
   "metadata": {},
   "outputs": [
    {
     "name": "stdout",
     "output_type": "stream",
     "text": [
      "3\n",
      "21 Junkyu\n",
      "21 Dohyun\n",
      "20 Sunyoung\n",
      "20 Sunyoung\n",
      "21 Junkyu\n",
      "21 Dohyun\n"
     ]
    }
   ],
   "source": [
    "n = int(input())\n",
    "join_list = []\n",
    "\n",
    "for i in range(n):\n",
    "    a,b = input().split()\n",
    "    join_list.append([int(a),b,i])\n",
    "join_list = sorted(join_list, key=lambda x:(x[0],x[2]))    \n",
    "for i in join_list:\n",
    "    print(i[0],i[1])"
   ]
  }
 ],
 "metadata": {
  "kernelspec": {
   "display_name": "Python 3",
   "language": "python",
   "name": "python3"
  },
  "language_info": {
   "codemirror_mode": {
    "name": "ipython",
    "version": 3
   },
   "file_extension": ".py",
   "mimetype": "text/x-python",
   "name": "python",
   "nbconvert_exporter": "python",
   "pygments_lexer": "ipython3",
   "version": "3.6.5"
  }
 },
 "nbformat": 4,
 "nbformat_minor": 2
}
