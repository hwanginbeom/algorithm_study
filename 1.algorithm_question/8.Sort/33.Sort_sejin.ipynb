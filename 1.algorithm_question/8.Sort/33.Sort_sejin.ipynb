{
 "cells": [
  {
   "cell_type": "markdown",
   "metadata": {},
   "source": [
    "### 시리얼 번호"
   ]
  },
  {
   "cell_type": "code",
   "execution_count": 27,
   "metadata": {},
   "outputs": [
    {
     "name": "stdout",
     "output_type": "stream",
     "text": [
      "5\n",
      "ABCD\n",
      "145C\n",
      "A\n",
      "A910\n",
      "Z321\n",
      "A\n",
      "ABCD\n",
      "Z321\n",
      "145C\n",
      "A910\n"
     ]
    }
   ],
   "source": [
    "def data_sum(x) :\n",
    "    sum = 0\n",
    "    \n",
    "    for i in x :\n",
    "        if i.isnumeric() :\n",
    "            sum += int(i)\n",
    "    return sum\n",
    "\n",
    "\n",
    "n = int(input())\n",
    "data =[ input() for _ in range(n) ]\n",
    "\n",
    "data_sorted = sorted(data, key = lambda x : (len(x), data_sum(x), x))\n",
    "\n",
    "for i in range(len(data_sorted)) :\n",
    "    print(data_sorted[i])"
   ]
  }
 ],
 "metadata": {
  "kernelspec": {
   "display_name": "Python 3",
   "language": "python",
   "name": "python3"
  },
  "language_info": {
   "codemirror_mode": {
    "name": "ipython",
    "version": 3
   },
   "file_extension": ".py",
   "mimetype": "text/x-python",
   "name": "python",
   "nbconvert_exporter": "python",
   "pygments_lexer": "ipython3",
   "version": "3.8.3"
  }
 },
 "nbformat": 4,
 "nbformat_minor": 4
}
