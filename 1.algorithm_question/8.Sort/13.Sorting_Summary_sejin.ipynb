{
 "cells": [
  {
   "cell_type": "markdown",
   "metadata": {},
   "source": [
    "## 정렬\n",
    "<br>\n",
    "- 로프\n",
    "<br>\n",
    "- 2020.11.11 (수)"
   ]
  },
  {
   "cell_type": "code",
   "execution_count": 4,
   "metadata": {},
   "outputs": [
    {
     "name": "stdout",
     "output_type": "stream",
     "text": [
      "3\n",
      "10\n",
      "15\n",
      "13\n",
      "30\n"
     ]
    }
   ],
   "source": [
    "a = int(input())\n",
    "data = []\n",
    "for _ in range(a) :\n",
    "    data.append(int(input()))\n",
    "\n",
    "data.sort(reverse = True)\n",
    "b = []\n",
    "b.append(data[0])\n",
    "\n",
    "for i in range(1,a) :\n",
    "    b.append(data[i] * (i+1))\n",
    "\n",
    "print(max(b))"
   ]
  },
  {
   "cell_type": "markdown",
   "metadata": {},
   "source": [
    "## 정렬\n",
    "<br>\n",
    "- 회의실배정\n",
    "<br>\n",
    "- 2020.11.11 (수)"
   ]
  },
  {
   "cell_type": "code",
   "execution_count": 7,
   "metadata": {},
   "outputs": [
    {
     "name": "stdout",
     "output_type": "stream",
     "text": [
      "11\n",
      "1 4\n",
      "3 5\n",
      "0 6\n",
      "5 7\n",
      "3 8\n",
      "5 9\n",
      "6 10\n",
      "8 11\n",
      "8 12\n",
      "2 13\n",
      "12 144\n",
      "4\n"
     ]
    }
   ],
   "source": [
    "a = int(input())\n",
    "data =[]\n",
    "for _ in range(a) :\n",
    "    b, c = map(int, input().split())\n",
    "    data.append([b,c])\n",
    "\n",
    "data = sorted(data, key = lambda item : item[0])\n",
    "data = sorted(data, key = lambda item : item[1])\n",
    "\n",
    "end = data[0][1]\n",
    "d = 1\n",
    "\n",
    "for i in range(1, len(data)) :\n",
    "    start = data[i][0]\n",
    "    finish = data[i][1]\n",
    "    \n",
    "    if end <= start :\n",
    "        end = finish\n",
    "        d += 1\n",
    "\n",
    "print(d)"
   ]
  }
 ],
 "metadata": {
  "kernelspec": {
   "display_name": "Python 3",
   "language": "python",
   "name": "python3"
  },
  "language_info": {
   "codemirror_mode": {
    "name": "ipython",
    "version": 3
   },
   "file_extension": ".py",
   "mimetype": "text/x-python",
   "name": "python",
   "nbconvert_exporter": "python",
   "pygments_lexer": "ipython3",
   "version": "3.8.3"
  }
 },
 "nbformat": 4,
 "nbformat_minor": 4
}
