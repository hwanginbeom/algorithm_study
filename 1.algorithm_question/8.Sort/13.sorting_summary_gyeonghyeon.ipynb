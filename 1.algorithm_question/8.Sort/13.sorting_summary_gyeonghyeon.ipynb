{
 "cells": [
  {
   "cell_type": "markdown",
   "metadata": {},
   "source": [
    "### 로프"
   ]
  },
  {
   "cell_type": "code",
   "execution_count": 22,
   "metadata": {},
   "outputs": [
    {
     "name": "stdout",
     "output_type": "stream",
     "text": [
      "5\n",
      "10\n",
      "10\n",
      "35\n",
      "30\n",
      "40\n",
      "90\n"
     ]
    }
   ],
   "source": [
    "n = int(input())\n",
    "\n",
    "rope_list = []\n",
    "for i in range(n):\n",
    "    rope_list.append(int(input()))\n",
    "    \n",
    "def quick_sort(x):\n",
    "    if len(x) <= 1:\n",
    "        return x\n",
    "    \n",
    "    pivot = x[0]\n",
    "    tail = x[1:]\n",
    "    \n",
    "    left_side = [x for x in tail if x > pivot]\n",
    "    right_side = [x for x in tail if x <= pivot]\n",
    "    \n",
    "    return quick_sort(left_side) + [pivot] + quick_sort(right_side)\n",
    "\n",
    "\n",
    "rope_list = quick_sort(rope_list)\n",
    "max_num = rope_list[0]\n",
    "for i in range(1,len(rope_list)):\n",
    "    if (rope_list[i] * (i+1)) > max_num:\n",
    "        max_num = rope_list[i] * (i+1)\n",
    "\n",
    "\n",
    "print(max_num)"
   ]
  },
  {
   "cell_type": "code",
   "execution_count": null,
   "metadata": {},
   "outputs": [],
   "source": [
    "n = int(input())\n",
    "\n",
    "rope_list = []\n",
    "for i in range(n):\n",
    "    rope_list.append(int(input()))\n",
    "\n",
    "rope_list.sort(reverse=True)\n",
    "max_num = rope_list[0]\n",
    "for i in range(len(rope_list)):\n",
    "    if (rope_list[i] * (i+1)) > max_num:\n",
    "        max_num = rope_list[i] *(i+1)\n",
    "\n",
    "\n",
    "print(max_num)"
   ]
  },
  {
   "cell_type": "markdown",
   "metadata": {},
   "source": [
    "### 회의실 배정"
   ]
  },
  {
   "cell_type": "code",
   "execution_count": 37,
   "metadata": {},
   "outputs": [
    {
     "name": "stdout",
     "output_type": "stream",
     "text": [
      "4\n"
     ]
    }
   ],
   "source": [
    "n = int(input())\n",
    "time_list = []\n",
    "\n",
    "for i in range(n):\n",
    "    time_list.append(list(map(int,input().split())))\n",
    "    \n",
    "time_list = sorted(time_list,key=lambda x :(x[1],x[0]))\n",
    "\n",
    "meeting_room = 0\n",
    "start_time = 0\n",
    "\n",
    "for meeting_time in time_list:\n",
    "    if meeting_time[0] >= start_time:\n",
    "        start_time = meeting_time[1]\n",
    "        meeting_room += 1\n",
    "        \n",
    "print(meeting_room)\n",
    "\n",
    "\n"
   ]
  }
 ],
 "metadata": {
  "kernelspec": {
   "display_name": "Python 3",
   "language": "python",
   "name": "python3"
  }
 },
 "nbformat": 4,
 "nbformat_minor": 2
}
