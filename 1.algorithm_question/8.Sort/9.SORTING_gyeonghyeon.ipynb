{
 "cells": [
  {
   "cell_type": "markdown",
   "metadata": {},
   "source": [
    "### 1. 2750 수 정렬하기"
   ]
  },
  {
   "cell_type": "code",
   "execution_count": 12,
   "metadata": {},
   "outputs": [
    {
     "name": "stdout",
     "output_type": "stream",
     "text": [
      "5\n",
      "5\n",
      "4\n",
      "3\n",
      "2\n",
      "1\n",
      "1\n",
      "2\n",
      "3\n",
      "4\n",
      "5\n"
     ]
    }
   ],
   "source": [
    "n= int(input())\n",
    "\n",
    "num_list = []\n",
    "for i in range(n):\n",
    "    num_list.append(int(input()))\n",
    "    \n",
    "num_list = sorted(num_list)\n",
    "for a in num_list:\n",
    "    print(a)"
   ]
  },
  {
   "cell_type": "markdown",
   "metadata": {},
   "source": [
    "### 2. 수 정렬하기 2 "
   ]
  },
  {
   "cell_type": "code",
   "execution_count": 15,
   "metadata": {},
   "outputs": [
    {
     "name": "stdout",
     "output_type": "stream",
     "text": [
      "5\n",
      "5\n",
      "4\n",
      "3\n",
      "2\n",
      "1\n",
      "1\n",
      "2\n",
      "3\n",
      "4\n",
      "5\n"
     ]
    }
   ],
   "source": [
    "n= int(input())\n",
    "\n",
    "num_list = []\n",
    "for i in range(n):\n",
    "    num_list.append(int(input()))\n",
    "    \n",
    "num_list = sorted(num_list)\n",
    "result = [ str(x) for x in num_list]\n",
    "\n",
    "print('\\n'.join(result))"
   ]
  },
  {
   "cell_type": "markdown",
   "metadata": {},
   "source": [
    "### 1427. 소트인사이드"
   ]
  },
  {
   "cell_type": "code",
   "execution_count": 11,
   "metadata": {},
   "outputs": [
    {
     "name": "stdout",
     "output_type": "stream",
     "text": [
      "2143\n",
      "4321\n"
     ]
    }
   ],
   "source": [
    "num_list = list(input())\n",
    "\n",
    "for i in range(len(num_list)):\n",
    "    max_index = i\n",
    "    for h in range(i,len(num_list)):\n",
    "        if num_list[i] > num_list[h]:\n",
    "            continue\n",
    "        else:\n",
    "            max_index = h\n",
    "            num_list[i], num_list[h] = num_list[h],num_list[i]\n",
    "\n",
    "print(''.join(num_list))"
   ]
  }
 ],
 "metadata": {
  "kernelspec": {
   "display_name": "Python 3",
   "language": "python",
   "name": "python3"
  },
  "language_info": {
   "codemirror_mode": {
    "name": "ipython",
    "version": 3
   },
   "file_extension": ".py",
   "mimetype": "text/x-python",
   "name": "python",
   "nbconvert_exporter": "python",
   "pygments_lexer": "ipython3",
   "version": "3.6.5"
  }
 },
 "nbformat": 4,
 "nbformat_minor": 2
}
