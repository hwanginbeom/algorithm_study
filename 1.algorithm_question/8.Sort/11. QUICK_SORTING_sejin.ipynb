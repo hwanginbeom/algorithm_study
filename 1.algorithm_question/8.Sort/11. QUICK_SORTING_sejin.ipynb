{
 "cells": [
  {
   "cell_type": "markdown",
   "metadata": {},
   "source": [
    "## 정렬\n",
    "<br>\n",
    "- 좌표 정렬하기\n",
    "<br>\n",
    "- 2020.11.09 (월)"
   ]
  },
  {
   "cell_type": "code",
   "execution_count": 45,
   "metadata": {},
   "outputs": [
    {
     "name": "stdout",
     "output_type": "stream",
     "text": [
      "5\n",
      "3 4\n",
      "1 1\n",
      "1 -1\n",
      "2 2\n",
      "3 3\n",
      "1 -1\n",
      "1 1\n",
      "2 2\n",
      "3 3\n",
      "3 4\n"
     ]
    }
   ],
   "source": [
    "a = int(input())\n",
    "data = []\n",
    "for _ in range(a) :\n",
    "    b = list(map(int, input().split()))\n",
    "    data.append(b)\n",
    "    \n",
    "def quick_sort(array) :\n",
    "    if len(array) <= 1 :\n",
    "        return array\n",
    "\n",
    "    pivot = array[0]\n",
    "    tail = array[1:]\n",
    "\n",
    "    left_side = [x for x in tail if x[0] < pivot[0]] + [x for x in tail if x[0] == pivot[0] and x[1] < pivot[1]]\n",
    "    right_side = [x for x in tail if x[0] > pivot[0]] + [x for x in tail if x[0] == pivot[0] and x[1] > pivot[1]]\n",
    "\n",
    "    return quick_sort(left_side) + [pivot] + quick_sort(right_side)\n",
    "\n",
    "for i in quick_sort(data) :\n",
    "    print(i[0], end=' ')\n",
    "    print(i[1])"
   ]
  },
  {
   "cell_type": "markdown",
   "metadata": {},
   "source": [
    "## 정렬\n",
    "<br>\n",
    "- 좌표 정렬하기2\n",
    "<br>\n",
    "- 2020.11.09 (월)"
   ]
  },
  {
   "cell_type": "code",
   "execution_count": 50,
   "metadata": {},
   "outputs": [
    {
     "name": "stdout",
     "output_type": "stream",
     "text": [
      "5\n",
      "0 4\n",
      "1 2\n",
      "1 -1\n",
      "2 2\n",
      "3 3\n",
      "1 -1\n",
      "1 2\n",
      "2 2\n",
      "3 3\n",
      "0 4\n"
     ]
    }
   ],
   "source": [
    "a = int(input())\n",
    "data = []\n",
    "for _ in range(a) :\n",
    "    b = list(map(int, input().split()))\n",
    "    data.append(b)\n",
    "    \n",
    "def quick_sort(array) :\n",
    "    if len(array) <= 1 :\n",
    "        return array\n",
    "\n",
    "    pivot = array[0]\n",
    "    tail = array[1:]\n",
    "\n",
    "    left_side = [x for x in tail if x[1] < pivot[1]] + [x for x in tail if x[1] == pivot[1] and x[0] < pivot[0]]\n",
    "    right_side = [x for x in tail if x[1] > pivot[1]] + [x for x in tail if x[1] == pivot[1] and x[0] > pivot[0]]\n",
    "\n",
    "    return quick_sort(left_side) + [pivot] + quick_sort(right_side)\n",
    "\n",
    "for i in quick_sort(data) :\n",
    "    print(i[0], end=' ')\n",
    "    print(i[1])"
   ]
  }
 ],
 "metadata": {
  "kernelspec": {
   "display_name": "Python 3",
   "language": "python",
   "name": "python3"
  },
  "language_info": {
   "codemirror_mode": {
    "name": "ipython",
    "version": 3
   },
   "file_extension": ".py",
   "mimetype": "text/x-python",
   "name": "python",
   "nbconvert_exporter": "python",
   "pygments_lexer": "ipython3",
   "version": "3.8.3"
  }
 },
 "nbformat": 4,
 "nbformat_minor": 4
}
