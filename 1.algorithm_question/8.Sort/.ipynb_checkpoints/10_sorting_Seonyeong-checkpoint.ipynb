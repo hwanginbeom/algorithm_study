{
 "cells": [
  {
   "cell_type": "code",
   "execution_count": null,
   "metadata": {},
   "outputs": [],
   "source": [
    "# 통계학\n",
    "\n",
    "numbers = int(input())\n",
    "\n",
    "for i in range(len(numbers)):\n",
    "    number_list = list(int(input()))\n",
    "    \n",
    "# 산술평균\n",
    "mean = sum(number_list)/numbers\n",
    "print(mean)\n",
    "\n",
    "# 중앙값\n",
    "data = sorted(number_list)\n",
    "print(data[numbers//2])\n",
    "\n",
    "# 최빈값\n",
    "freq = {}\n",
    "for i in number_list:\n",
    "    if freq.get(i) is None:\n",
    "        freq[i] = 0\n",
    "        freq[i] += 1\n",
    "    else:\n",
    "        freq[i] += 1       \n",
    "\n",
    "n_mode = sorted(freq.items(), reverse = True, key = lambda item : item[1])\n",
    "\n",
    "if n_mode[0] > n_mode[1]: \n",
    "    print(n_mode[0][0])\n",
    "else:\n",
    "    print(n_mode[1][0])\n",
    "\n",
    "\n",
    "# 범위\n",
    "print(max(number_list)-min(number_list))\n"
   ]
  },
  {
   "cell_type": "code",
   "execution_count": 31,
   "metadata": {},
   "outputs": [
    {
     "name": "stdout",
     "output_type": "stream",
     "text": [
      "14623\n",
      "[1, 4, 6, 2, 3]\n",
      "64321"
     ]
    }
   ],
   "source": [
    "# 소트인사이드\n",
    "\n",
    "s = input()\n",
    "numbers = list(map(int,str(s)))\n",
    "\n",
    "numbers.sort(reverse=True)\n",
    "for n in numbers:\n",
    "    print(n, end=\"\")"
   ]
  }
 ],
 "metadata": {
  "kernelspec": {
   "display_name": "Python 3",
   "language": "python",
   "name": "python3"
  },
  "language_info": {
   "codemirror_mode": {
    "name": "ipython",
    "version": 3
   },
   "file_extension": ".py",
   "mimetype": "text/x-python",
   "name": "python",
   "nbconvert_exporter": "python",
   "pygments_lexer": "ipython3",
   "version": "3.7.6"
  }
 },
 "nbformat": 4,
 "nbformat_minor": 2
}
