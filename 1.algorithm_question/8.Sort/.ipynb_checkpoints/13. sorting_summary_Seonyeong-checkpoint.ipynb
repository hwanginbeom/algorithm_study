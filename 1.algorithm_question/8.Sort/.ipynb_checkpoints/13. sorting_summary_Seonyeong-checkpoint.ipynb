{
 "cells": [
  {
   "cell_type": "markdown",
   "metadata": {},
   "source": [
    "## 2217번: 로프"
   ]
  },
  {
   "cell_type": "code",
   "execution_count": 11,
   "metadata": {},
   "outputs": [
    {
     "name": "stdout",
     "output_type": "stream",
     "text": [
      "2\n",
      "10\n",
      "15\n",
      "20\n"
     ]
    }
   ],
   "source": [
    "n = int(input())\n",
    "\n",
    "limit=[]\n",
    "\n",
    "for i in range(n):\n",
    "    limit.append(int(input()))\n",
    "\n",
    "limit.sort(reverse=True)\n",
    "\n",
    "for i in range(n):\n",
    "    limit[i] = limit[i] * (i+1)\n",
    "\n",
    "print(max(limit))"
   ]
  },
  {
   "cell_type": "markdown",
   "metadata": {},
   "source": [
    "## 1931번: 회의실배정"
   ]
  },
  {
   "cell_type": "code",
   "execution_count": 30,
   "metadata": {},
   "outputs": [
    {
     "name": "stdout",
     "output_type": "stream",
     "text": [
      "11\n",
      "1 4\n",
      "3 5\n",
      "0 6\n",
      "5 7\n",
      "3 8\n",
      "5 9\n",
      "6 10\n",
      "8 11\n",
      "2 13\n",
      "12 14\n",
      "8 12\n",
      "4\n"
     ]
    }
   ],
   "source": [
    "n = int(input())\n",
    "\n",
    "meetings = []\n",
    "\n",
    "for i in range(n):\n",
    "    a,b = map(int,input().split())\n",
    "    meetings.append([a,b])\n",
    "    \n",
    "meetings.sort(key=lambda x: (x[1],x[0]))\n",
    "\n",
    "\n",
    "\n",
    "def solution(array):\n",
    "    answer = 0\n",
    "    endTime = 0\n",
    "    for i in range(len(array)):\n",
    "        if endTime <= array[i][0]:\n",
    "            endTime = array[i][1]\n",
    "            answer += 1\n",
    "    return answer\n",
    "\n",
    "print(solution(meetings))"
   ]
  }
 ],
 "metadata": {
  "kernelspec": {
   "display_name": "Python 3",
   "language": "python",
   "name": "python3"
  },
  "language_info": {
   "codemirror_mode": {
    "name": "ipython",
    "version": 3
   },
   "file_extension": ".py",
   "mimetype": "text/x-python",
   "name": "python",
   "nbconvert_exporter": "python",
   "pygments_lexer": "ipython3",
   "version": "3.7.6"
  }
 },
 "nbformat": 4,
 "nbformat_minor": 4
}
