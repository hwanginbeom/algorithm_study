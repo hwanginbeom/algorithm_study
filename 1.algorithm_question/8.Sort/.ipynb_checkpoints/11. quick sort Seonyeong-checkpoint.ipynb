{
 "cells": [
  {
   "cell_type": "markdown",
   "metadata": {},
   "source": [
    "## 좌표 정렬하기"
   ]
  },
  {
   "cell_type": "code",
   "execution_count": 1,
   "metadata": {},
   "outputs": [
    {
     "name": "stdout",
     "output_type": "stream",
     "text": [
      "10\n",
      "1 4\n",
      "1 3\n",
      "-1 8\n",
      "5 9\n",
      "7 7\n",
      "5 8\n",
      "9 5\n",
      "4 6\n",
      "5 6\n",
      "2 4\n",
      "-1 8\n",
      "1 3\n",
      "1 4\n",
      "2 4\n",
      "4 6\n",
      "5 6\n",
      "5 8\n",
      "5 9\n",
      "7 7\n",
      "9 5\n"
     ]
    }
   ],
   "source": [
    "# 시간초과\n",
    "\n",
    "n = int(input())\n",
    "\n",
    "points = []\n",
    "\n",
    "for i in range(n):\n",
    "    x,y = input().split()\n",
    "    points.append((x,y))\n",
    "\n",
    "for i in range(len(points)):\n",
    "    min_key_index = i\n",
    "    for j in range(i+1, len(points)):\n",
    "        if points[min_key_index][0] == points[j][0]:\n",
    "            if points[min_key_index][1] > points[j][1]:\n",
    "                points[j], points[min_key_index] = points[min_key_index], points[j]\n",
    "        if points[min_key_index][0] > points[j][0]:\n",
    "            min_key_index = j\n",
    "    points[i], points[min_key_index] = points[min_key_index], points[i]\n",
    "\n",
    "for (x,y) in points:\n",
    "    print(x, y, sep=' ')"
   ]
  },
  {
   "cell_type": "code",
   "execution_count": 2,
   "metadata": {},
   "outputs": [
    {
     "name": "stdout",
     "output_type": "stream",
     "text": [
      "5\n",
      "3 4\n",
      "1 1\n",
      "1 -1\n",
      "2 2\n",
      "3 3\n",
      "1 -1\n",
      "1 1\n",
      "2 2\n",
      "3 3\n",
      "3 4\n"
     ]
    }
   ],
   "source": [
    "n = int(input())\n",
    "\n",
    "points = []\n",
    "\n",
    "for i in range(n):\n",
    "    points.append(list(map(int,input().split())))\n",
    "\n",
    "def quick_sort(array):\n",
    "    if len(array) <= 1:\n",
    "        return array\n",
    "    pivot = array[0]\n",
    "    tail = array[1:]\n",
    "        \n",
    "    left_side = [x for x in tail if x[0] < pivot[0]] + [x for x in tail if x[0] == pivot[0] and x[1]<pivot[1]]\n",
    "    right_side = [x for x in tail if x[0] > pivot[0]]+ [x for x in tail if x[0] == pivot[0] and x[1]>pivot[1]]\n",
    "    \n",
    "    return quick_sort(left_side) +[pivot] + quick_sort(right_side)\n",
    "\n",
    "result = quick_sort(points)\n",
    "\n",
    "for (x,y) in result:\n",
    "    print(x, y, sep=' ')"
   ]
  },
  {
   "cell_type": "markdown",
   "metadata": {},
   "source": [
    "## 좌표 정렬하기 2"
   ]
  },
  {
   "cell_type": "code",
   "execution_count": 4,
   "metadata": {},
   "outputs": [
    {
     "name": "stdout",
     "output_type": "stream",
     "text": [
      "5\n",
      "0 4\n",
      "1 2\n",
      "1 -1\n",
      "2 2\n",
      "3 3\n",
      "1 -1\n",
      "1 2\n",
      "2 2\n",
      "3 3\n",
      "0 4\n"
     ]
    }
   ],
   "source": [
    "# 시간초과\n",
    "\n",
    "n = int(input())\n",
    "\n",
    "points = []\n",
    "\n",
    "for i in range(n):\n",
    "    x,y = input().split()\n",
    "    points.append((x,y))\n",
    "\n",
    "for i in range(len(points)):\n",
    "    min_key_index = i\n",
    "    for j in range(i+1, len(points)):\n",
    "        if points[min_key_index][1] == points[j][1]:\n",
    "            if points[min_key_index][0] > points[j][0]:\n",
    "                points[j], points[min_key_index] = points[min_key_index], points[j]\n",
    "        if points[min_key_index][1] > points[j][1]:\n",
    "            min_key_index = j\n",
    "    points[i], points[min_key_index] = points[min_key_index], points[i]\n",
    "\n",
    "for (x,y) in points:\n",
    "    print(x, y, sep=' ')"
   ]
  },
  {
   "cell_type": "code",
   "execution_count": null,
   "metadata": {},
   "outputs": [],
   "source": [
    "n = int(input())\n",
    "\n",
    "points = []\n",
    "\n",
    "for i in range(n):\n",
    "    points.append(list(map(int,input().split())))\n",
    "\n",
    "def quick_sort(array):\n",
    "    if len(array) <= 1:\n",
    "        return array\n",
    "    pivot = array[0]\n",
    "    tail = array[1:]\n",
    "        \n",
    "    left_side = [x for x in tail if x[1] < pivot[1]] + [x for x in tail if x[1] == pivot[1] and x[0]<pivot[0]]\n",
    "    right_side = [x for x in tail if x[1] > pivot[1]]+ [x for x in tail if x[1] == pivot[1] and x[0]>pivot[0]]\n",
    "    \n",
    "    return quick_sort(left_side) +[pivot] + quick_sort(right_side)\n",
    "\n",
    "result = quick_sort(points)\n",
    "\n",
    "for (x,y) in result:\n",
    "    print(x, y, sep=' ')"
   ]
  }
 ],
 "metadata": {
  "kernelspec": {
   "display_name": "Python 3",
   "language": "python",
   "name": "python3"
  },
  "language_info": {
   "codemirror_mode": {
    "name": "ipython",
    "version": 3
   },
   "file_extension": ".py",
   "mimetype": "text/x-python",
   "name": "python",
   "nbconvert_exporter": "python",
   "pygments_lexer": "ipython3",
   "version": "3.7.6"
  }
 },
 "nbformat": 4,
 "nbformat_minor": 4
}
