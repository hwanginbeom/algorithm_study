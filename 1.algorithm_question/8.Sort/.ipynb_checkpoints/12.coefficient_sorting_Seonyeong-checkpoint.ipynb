{
 "cells": [
  {
   "cell_type": "markdown",
   "metadata": {},
   "source": [
    "## 단어 정렬"
   ]
  },
  {
   "cell_type": "code",
   "execution_count": null,
   "metadata": {},
   "outputs": [],
   "source": [
    "n = int(input())\n",
    "\n",
    "words = []\n",
    "\n",
    "for i in range(n):\n",
    "    words.append(input())\n",
    "    \n",
    "def sorting_def(array):\n",
    "    if len(array) <= 1:\n",
    "        return array\n",
    "    \n",
    "    pivot = array[0]\n",
    "    tail = array[1:]\n",
    "    \n",
    "    left_side = [x for x in tail if len(pivot) > len(x)] + [x for x in tail if len(pivot) == len(x) and pivot > x]\n",
    "    right_side = [x for x in tail if len(pivot) < len(x)] + [x for x in tail if len(pivot) == len(x) and pivot < x]\n",
    "    \n",
    "    return sorting_def(left_side) +[pivot] + sorting_def(right_side)\n",
    "\n",
    "result = sorting_def(words)\n",
    "\n",
    "blank=[]\n",
    "for i in result:\n",
    "    if not i in blank:\n",
    "        blank.append(i)\n",
    "        \n",
    "for i in blank:\n",
    "    print(i)\n",
    "    "
   ]
  },
  {
   "cell_type": "markdown",
   "metadata": {},
   "source": [
    "## 나이순 정렬"
   ]
  },
  {
   "cell_type": "code",
   "execution_count": null,
   "metadata": {},
   "outputs": [],
   "source": [
    "# 시간초과\n",
    "\n",
    "n = int(input())\n",
    "\n",
    "members = []\n",
    "\n",
    "for i in range(n):\n",
    "    members.append(list(input().split(' ')))\n",
    "\n",
    "\n",
    "for i in range(1, len(members)):\n",
    "    for j in range(i, 0, -1):\n",
    "        if members[j][0] < members[j-1][0]:\n",
    "            members[j], members[j-1] = members[j-1],members[j]\n",
    "        else:\n",
    "            break\n",
    "            \n",
    "for x in members:\n",
    "    [a,b] = x\n",
    "    print(a,b)"
   ]
  },
  {
   "cell_type": "code",
   "execution_count": 4,
   "metadata": {},
   "outputs": [
    {
     "name": "stdout",
     "output_type": "stream",
     "text": [
      "3\n",
      "32 dkf\n",
      "22 dkf\n",
      "22 and\n",
      "22 dkf\n",
      "22 and\n",
      "32 dkf\n"
     ]
    }
   ],
   "source": [
    "def sorting_def(array):\n",
    "    if len(array) <= 1:\n",
    "        return array\n",
    "    \n",
    "    pivot = array[0]\n",
    "    tail = array[1:]\n",
    "    \n",
    "    left_side = [x for x in tail if pivot[0] > x[0]] + [x for x in tail if pivot[0] == x[0] and pivot[2] > x[2]]\n",
    "    right_side = [x for x in tail if pivot[0] < x[0]] + [x for x in tail if pivot[0] == x[0] and pivot[2] < x[2]]\n",
    "    \n",
    "    return sorting_def(left_side) +[pivot] + sorting_def(right_side)\n",
    "\n",
    "\n",
    "n = int(input())\n",
    "\n",
    "members = []\n",
    "\n",
    "for i in range(n):\n",
    "    a,b = input().split(' ')\n",
    "    members.append([int(a),b,i])\n",
    "    \n",
    "result = sorting_def(members)\n",
    "\n",
    "for x in result:\n",
    "    print(x[0], x[1])"
   ]
  }
 ],
 "metadata": {
  "kernelspec": {
   "display_name": "Python 3",
   "language": "python",
   "name": "python3"
  }
 },
 "nbformat": 4,
 "nbformat_minor": 4
}
