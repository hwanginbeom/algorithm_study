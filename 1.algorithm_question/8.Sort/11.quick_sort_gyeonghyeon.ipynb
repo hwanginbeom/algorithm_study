{
 "cells": [
  {
   "cell_type": "markdown",
   "metadata": {},
   "source": [
    "### 좌표 정렬하기 1\n",
    "- 퀵 정렬 사용 시간 : 1125ms"
   ]
  },
  {
   "cell_type": "code",
   "execution_count": 64,
   "metadata": {},
   "outputs": [
    {
     "name": "stdout",
     "output_type": "stream",
     "text": [
      "1 -1\n",
      "1 1\n",
      "1 2\n",
      "1 3\n",
      "1 4\n",
      "2 1\n",
      "2 4\n",
      "3 3\n"
     ]
    }
   ],
   "source": [
    "n = int(input())\n",
    "num_list = []\n",
    "for i in range(n):\n",
    "    num_list.append(list(map(int,input().split())))\n",
    "\n",
    "def sotred_x(x):\n",
    "    if len(x) <= 1:\n",
    "        return x\n",
    "    pivot = x[0]\n",
    "    tail  = x[1:]\n",
    "    \n",
    "    left_side = [ i for i in tail if i[0] < pivot[0] ]  + [ i for i in tail if i[0] == pivot[0] if i[1] < pivot[1]  ]\n",
    "    right_side = [i for i in tail if i[0] > pivot[0] ]  + [ i for i in tail if i[0] == pivot[0] if i[1] > pivot[1]  ]\n",
    "    \n",
    "    \n",
    "    return sotred_x(left_side) + [pivot] + sotred_x(right_side)\n",
    "\n",
    "result = sotred_x(num_list)\n",
    "\n",
    "for k in result:\n",
    "    print(k[0],k[1], end='\\n')\n"
   ]
  },
  {
   "cell_type": "markdown",
   "metadata": {},
   "source": [
    "- 람다식 사용 시간 : 4288ms"
   ]
  },
  {
   "cell_type": "code",
   "execution_count": 4,
   "metadata": {},
   "outputs": [
    {
     "name": "stdout",
     "output_type": "stream",
     "text": [
      "5\n",
      "3 4\n",
      "1 1\n",
      "1 -1\n",
      "2 2\n",
      "3 3\n",
      "1 -1\n",
      "1 1\n",
      "2 2\n",
      "3 3\n",
      "3 4\n"
     ]
    }
   ],
   "source": [
    "n = int(input())\n",
    "num_list = []\n",
    "for i in range(n):\n",
    "    num_list.append(list(map(int,input().split())))\n",
    "    \n",
    "num_list = sorted(num_list, key=lambda x : (x[0],x[1]))    \n",
    "for i in num_list:\n",
    "    print(i[0],i[1],end='\\n')"
   ]
  },
  {
   "cell_type": "markdown",
   "metadata": {},
   "source": [
    "### 좌표 정렬하기2"
   ]
  },
  {
   "cell_type": "code",
   "execution_count": 65,
   "metadata": {},
   "outputs": [
    {
     "name": "stdout",
     "output_type": "stream",
     "text": [
      "5\n",
      "0 4\n",
      "1 2\n",
      "1 -1\n",
      "2 2\n",
      "3 3\n",
      "1 -1\n",
      "1 2\n",
      "2 2\n",
      "3 3\n",
      "0 4\n"
     ]
    }
   ],
   "source": [
    "n = int(input())\n",
    "num_list = []\n",
    "for i in range(n):\n",
    "    num_list.append(list(map(int,input().split())))\n",
    "\n",
    "def sotred_x(x):\n",
    "    if len(x) <= 1:\n",
    "        return x\n",
    "    pivot = x[0]\n",
    "    tail  = x[1:]\n",
    "    \n",
    "    left_side = [ i for i in tail if i[1] < pivot[1] ]  + [ i for i in tail if i[1] == pivot[1] if i[0] < pivot[0]  ]\n",
    "    right_side = [i for i in tail if i[1] > pivot[1] ]  + [ i for i in tail if i[1] == pivot[1] if i[0] > pivot[0]  ]\n",
    "    \n",
    "    \n",
    "    return sotred_x(left_side) + [pivot] + sotred_x(right_side)\n",
    "\n",
    "result = sotred_x(num_list)\n",
    "\n",
    "for k in result:\n",
    "    print(k[0],k[1], end='\\n')"
   ]
  }
 ],
 "metadata": {
  "kernelspec": {
   "display_name": "Python 3",
   "language": "python",
   "name": "python3"
  },
  "language_info": {
   "codemirror_mode": {
    "name": "ipython",
    "version": 3
   },
   "file_extension": ".py",
   "mimetype": "text/x-python",
   "name": "python",
   "nbconvert_exporter": "python",
   "pygments_lexer": "ipython3",
   "version": "3.6.5"
  }
 },
 "nbformat": 4,
 "nbformat_minor": 2
}
