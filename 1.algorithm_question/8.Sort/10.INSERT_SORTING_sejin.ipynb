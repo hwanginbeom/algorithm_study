{
 "cells": [
  {
   "cell_type": "markdown",
   "metadata": {},
   "source": [
    "## 정렬\n",
    "<br>\n",
    "- 통계학\n",
    "<br>\n",
    "- 2020.11.06 (금)"
   ]
  },
  {
   "cell_type": "code",
   "execution_count": 51,
   "metadata": {
    "scrolled": true
   },
   "outputs": [
    {
     "name": "stdout",
     "output_type": "stream",
     "text": [
      "5\n",
      "-1\n",
      "-2\n",
      "-3\n",
      "-1\n",
      "-2\n",
      "-2\n",
      "-2\n",
      "-1\n",
      "2\n"
     ]
    }
   ],
   "source": [
    "a = int(input())\n",
    "array = []\n",
    "for _ in range(a) :\n",
    "    b = int(input())\n",
    "    array.append(b)\n",
    "\n",
    "# 산술평균 : 수들의 합 / n, 소수점 이하 첫째 자리에서 반올림\n",
    "print(int(round(sum(array)/len(array),0)))\n",
    "\n",
    "# 중앙갑 : 증가하는 순서로 중앙에 위치하는 값\n",
    "array.sort()\n",
    "print(array[len(array)//2])\n",
    "\n",
    "# 최빈값 : 가장 많이 나타나는 값, 여러개라면 두번째로 작은 값\n",
    "x = {}\n",
    "for i in array :\n",
    "    if i in x :\n",
    "        x[i] += 1\n",
    "    else :\n",
    "        x[i] = 1\n",
    "\n",
    "        \n",
    "result = [k for k, v in x.items() if v == max(sorted(x.values()))]\n",
    "if len(result) == 1 :\n",
    "    print(result[0])\n",
    "else : \n",
    "    print(result[1])\n",
    "\n",
    "# 범위 : 최대값과 최소값의 차이\n",
    "print(max(array)-min(array))"
   ]
  },
  {
   "cell_type": "markdown",
   "metadata": {},
   "source": [
    "## 정렬\n",
    "<br>\n",
    "- 소트인사이드\n",
    "<br>\n",
    "- 2020.11.06 (금)"
   ]
  },
  {
   "cell_type": "code",
   "execution_count": 94,
   "metadata": {},
   "outputs": [
    {
     "name": "stdout",
     "output_type": "stream",
     "text": [
      "2143\n",
      "4321"
     ]
    }
   ],
   "source": [
    "a = list(map(int, list(input())))\n",
    "a.sort(reverse=True)\n",
    "for i in range(len(a)) :\n",
    "    print(a[i], end=\"\")"
   ]
  }
 ],
 "metadata": {
  "kernelspec": {
   "display_name": "Python 3",
   "language": "python",
   "name": "python3"
  },
  "language_info": {
   "codemirror_mode": {
    "name": "ipython",
    "version": 3
   },
   "file_extension": ".py",
   "mimetype": "text/x-python",
   "name": "python",
   "nbconvert_exporter": "python",
   "pygments_lexer": "ipython3",
   "version": "3.8.3"
  }
 },
 "nbformat": 4,
 "nbformat_minor": 4
}
