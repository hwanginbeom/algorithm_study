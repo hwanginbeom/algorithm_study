{
 "cells": [
  {
   "cell_type": "markdown",
   "metadata": {},
   "source": [
    "## 정렬\n",
    "<br>\n",
    "- 수 정렬하기\n",
    "<br>\n",
    "- 2020.11.05 (수)"
   ]
  },
  {
   "cell_type": "code",
   "execution_count": 11,
   "metadata": {
    "scrolled": true
   },
   "outputs": [
    {
     "name": "stdout",
     "output_type": "stream",
     "text": [
      "5\n",
      "5\n",
      "2\n",
      "3\n",
      "4\n",
      "1\n",
      "1\n",
      "2\n",
      "3\n",
      "4\n",
      "5\n"
     ]
    }
   ],
   "source": [
    "a = int(input())\n",
    "array = []\n",
    "for _ in range(a) :\n",
    "    b = int(input())\n",
    "    array.append(b)\n",
    "\n",
    "for i in range(len(array)) :\n",
    "    min_index = i\n",
    "    \n",
    "    for j in range(i+1, len(array)) :\n",
    "        if array[min_index] > array[j] :\n",
    "            min_index = j\n",
    "    \n",
    "    # 스와프\n",
    "    array[i], array[min_index] = array[min_index], array[i]\n",
    "    print(array[i])"
   ]
  },
  {
   "cell_type": "markdown",
   "metadata": {},
   "source": [
    "## 정렬\n",
    "<br>\n",
    "- 수 정렬하기2\n",
    "<br>\n",
    "- 2020.11.05 (수)"
   ]
  },
  {
   "cell_type": "code",
   "execution_count": 20,
   "metadata": {},
   "outputs": [
    {
     "name": "stdout",
     "output_type": "stream",
     "text": [
      "5\n",
      "5\n",
      "2\n",
      "3\n",
      "4\n",
      "1\n",
      "1\n",
      "2\n",
      "3\n",
      "4\n",
      "5\n"
     ]
    }
   ],
   "source": [
    "a = int(input())\n",
    "array = []\n",
    "for _ in range(a) :\n",
    "    b = int(input())\n",
    "    array.append(b)\n",
    "\n",
    "array.sort(reverse=False)\n",
    "\n",
    "for i in range(len(array)) :\n",
    "    print(array[i])"
   ]
  }
 ],
 "metadata": {
  "kernelspec": {
   "display_name": "Python 3",
   "language": "python",
   "name": "python3"
  },
  "language_info": {
   "codemirror_mode": {
    "name": "ipython",
    "version": 3
   },
   "file_extension": ".py",
   "mimetype": "text/x-python",
   "name": "python",
   "nbconvert_exporter": "python",
   "pygments_lexer": "ipython3",
   "version": "3.8.3"
  }
 },
 "nbformat": 4,
 "nbformat_minor": 4
}
