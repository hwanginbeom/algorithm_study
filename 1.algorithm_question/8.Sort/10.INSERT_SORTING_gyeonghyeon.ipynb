{
 "cells": [
  {
   "cell_type": "code",
   "execution_count": 4,
   "metadata": {},
   "outputs": [
    {
     "name": "stdout",
     "output_type": "stream",
     "text": [
      "10\n",
      "5\n",
      "2\n",
      "3\n",
      "1\n",
      "4\n",
      "2\n",
      "3\n",
      "5\n",
      "1\n",
      "7\n",
      "1\n",
      "1\n",
      "2\n",
      "2\n",
      "3\n",
      "3\n",
      "4\n",
      "5\n",
      "5\n",
      "7\n"
     ]
    }
   ],
   "source": [
    "n = int(input())\n",
    "\n",
    "def sort(x):\n",
    "    for i in range(1,len(x)):\n",
    "        for j in range(i,0,-1):\n",
    "            if x[j] < x[j-1]:\n",
    "                x[j], x[j-1]=x[j-1], x[j]\n",
    "            else:\n",
    "                break\n",
    "    return x\n",
    "                \n",
    "num_list = []\n",
    "\n",
    "for i in range(n):\n",
    "    num_list.append(input())\n",
    "\n",
    "num_list = sort(num_list)\n",
    "    \n",
    "for i in num_list:\n",
    "    print(i)"
   ]
  },
  {
   "cell_type": "markdown",
   "metadata": {},
   "source": [
    "### 통계학"
   ]
  },
  {
   "cell_type": "code",
   "execution_count": 84,
   "metadata": {},
   "outputs": [
    {
     "name": "stdout",
     "output_type": "stream",
     "text": [
      "5\n",
      "-1\n",
      "-2\n",
      "-3\n",
      "-1\n",
      "-2\n",
      "-2\n",
      "-2\n",
      "-1\n",
      "2\n"
     ]
    }
   ],
   "source": [
    "from collections import Counter\n",
    "\n",
    "\n",
    "def mean(x):\n",
    "    a = int(round(sum(x) / len(x),0))\n",
    "    return a\n",
    "\n",
    "\n",
    "def median(x):\n",
    "    x = sorted(x)\n",
    "    if len(x) < 2:\n",
    "        b = x[0]\n",
    "    elif len(x) >= 2 and len(x) % 2 == 1:\n",
    "        idx = int(len(x) / 2)\n",
    "        b = x[idx]\n",
    "    elif len(x) >= 2 and len(x) % 2 == 0:\n",
    "        idx1, idx2 = int(len(x) / 2) , int(len(x) / 2) + 1\n",
    "        b = (x[idx1] + x[idx2]) / 2\n",
    "        \n",
    "    return b\n",
    "\n",
    "def mode(x):\n",
    "    cnt = Counter(x).most_common()\n",
    "    cnt = sorted(cnt, key=lambda x:(-x[1],x[0]))[:2]\n",
    "    if len(x) > 1:\n",
    "        if cnt[0][1] == cnt[1][1]:\n",
    "            k = cnt[1][0]\n",
    "        else :\n",
    "            k = cnt[0][0]\n",
    "    else:\n",
    "        k = cnt[0][0]\n",
    "    \n",
    "    return k\n",
    "\n",
    "def range_func(x):\n",
    "    d = max(x) - min(x)\n",
    "    return d\n",
    "\n",
    "\n",
    "\n",
    "n = int(input())\n",
    "\n",
    "num_list = []\n",
    "for i in range(n):\n",
    "    num_list.append(int(input()))\n",
    "\n",
    "    \n",
    "print(mean(num_list))\n",
    "print(median(num_list))\n",
    "print(mode(num_list))\n",
    "print(range_func(num_list))"
   ]
  },
  {
   "cell_type": "markdown",
   "metadata": {},
   "source": [
    "### 소트인사이드"
   ]
  },
  {
   "cell_type": "code",
   "execution_count": 86,
   "metadata": {},
   "outputs": [
    {
     "name": "stdout",
     "output_type": "stream",
     "text": [
      "2143\n",
      "4321\n"
     ]
    }
   ],
   "source": [
    "num_list = list(input())\n",
    "\n",
    "for i in range(len(num_list)):\n",
    "    max_index = i\n",
    "    for h in range(i,len(num_list)):\n",
    "        if num_list[i] > num_list[h]:\n",
    "            continue\n",
    "        else:\n",
    "            max_index = h\n",
    "            num_list[i], num_list[h] = num_list[h],num_list[i]\n",
    "\n",
    "print(''.join(num_list))"
   ]
  }
 ],
 "metadata": {
  "kernelspec": {
   "display_name": "Python 3",
   "language": "python",
   "name": "python3"
  },
  "language_info": {
   "codemirror_mode": {
    "name": "ipython",
    "version": 3
   },
   "file_extension": ".py",
   "mimetype": "text/x-python",
   "name": "python",
   "nbconvert_exporter": "python",
   "pygments_lexer": "ipython3",
   "version": "3.6.5"
  }
 },
 "nbformat": 4,
 "nbformat_minor": 2
}
