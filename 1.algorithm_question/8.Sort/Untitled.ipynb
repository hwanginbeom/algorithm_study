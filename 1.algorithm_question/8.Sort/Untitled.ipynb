{
 "cells": [
  {
   "cell_type": "markdown",
   "metadata": {},
   "source": [
    "## 정렬\n",
    "<br>\n",
    "- 단어 정렬\n",
    "<br>\n",
    "- 2020.11.10 (화)"
   ]
  },
  {
   "cell_type": "code",
   "execution_count": 80,
   "metadata": {},
   "outputs": [
    {
     "name": "stdout",
     "output_type": "stream",
     "text": [
      "13\n",
      "but\n",
      "i\n",
      "wont\n",
      "hesitate\n",
      "no\n",
      "more\n",
      "no\n",
      "more\n",
      "it\n",
      "cannt\n",
      "wait\n",
      "im\n",
      "yours\n",
      "i\n",
      "im\n",
      "it\n",
      "no\n",
      "but\n",
      "more\n",
      "wait\n",
      "wont\n",
      "cannt\n",
      "yours\n",
      "hesitate\n"
     ]
    }
   ],
   "source": [
    "a = int(input())\n",
    "b = []\n",
    "for _ in range(a) :\n",
    "    b.append(input())\n",
    "data = list(set(b))\n",
    "data.sort()\n",
    "\n",
    "count = []\n",
    "for i in range(len(data)) :\n",
    "    count.append(len(data[i]))\n",
    "    \n",
    "dic = {name:value for name, value in zip(data,count)}\n",
    "\n",
    "sort_dic = sorted(dic.items(), key = lambda item : item[1])\n",
    "\n",
    "for key, value in sort_dic :\n",
    "    print(key)"
   ]
  },
  {
   "cell_type": "markdown",
   "metadata": {},
   "source": [
    "## 정렬\n",
    "<br>\n",
    "- 나이순 정렬\n",
    "<br>\n",
    "- 2020.11.10 (화)"
   ]
  },
  {
   "cell_type": "code",
   "execution_count": 115,
   "metadata": {},
   "outputs": [
    {
     "name": "stdout",
     "output_type": "stream",
     "text": [
      "3\n",
      "21 Junkyu\n",
      "21 Dohyun\n",
      "20 Sunyoung\n",
      "20 Sunyoung\n",
      "21 Junkyu\n",
      "21 Dohyun\n"
     ]
    }
   ],
   "source": [
    "a = int(input())\n",
    "data =[]\n",
    "for _ in range(a) :\n",
    "    b, c = (input().split())\n",
    "    b = int(b)\n",
    "    data.append((b,c))\n",
    "\n",
    "result = sorted(data, key = lambda item : item[0])\n",
    "\n",
    "for x,y in result :\n",
    "    print(x,y)"
   ]
  }
 ],
 "metadata": {
  "kernelspec": {
   "display_name": "Python 3",
   "language": "python",
   "name": "python3"
  },
  "language_info": {
   "codemirror_mode": {
    "name": "ipython",
    "version": 3
   },
   "file_extension": ".py",
   "mimetype": "text/x-python",
   "name": "python",
   "nbconvert_exporter": "python",
   "pygments_lexer": "ipython3",
   "version": "3.8.3"
  }
 },
 "nbformat": 4,
 "nbformat_minor": 4
}
