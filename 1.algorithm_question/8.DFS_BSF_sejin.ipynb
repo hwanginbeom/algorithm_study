{
 "cells": [
  {
   "cell_type": "markdown",
   "metadata": {},
   "source": [
    "## BFS\n",
    "<br>\n",
    "- 케빈 베이컨의 6단계 법칙\n",
    "<br>\n",
    "- 2020.11.04 (수)"
   ]
  },
  {
   "cell_type": "code",
   "execution_count": 2,
   "metadata": {},
   "outputs": [
    {
     "name": "stdout",
     "output_type": "stream",
     "text": [
      "5 5\n",
      "1 3\n",
      "1 4\n",
      "4 5\n",
      "4 3\n",
      "3 2\n",
      "3\n"
     ]
    }
   ],
   "source": [
    "from collections import deque\n",
    "\n",
    "def bfs(v):\n",
    "    \n",
    "    count = 0\n",
    "    q = deque([[v, count]])\n",
    "    \n",
    "    while q:\n",
    "        value = q.popleft()\n",
    "        v = value[0]\n",
    "        count = value[1]\n",
    "    \n",
    "        if not visited[v]:\n",
    "            visited[v] = True\n",
    "            countList[v] += count\n",
    "            count += 1\n",
    "        \n",
    "            for e in adj[v]:\n",
    "                q.append([e, count])\n",
    "\n",
    "                \n",
    "n, m = map(int, input().split())\n",
    "a = [[] for _ in range(n + 1)]\n",
    "countList = [0] * (n + 1)\n",
    "\n",
    "for _ in range(m):\n",
    "    x, y = map(int, input().split())\n",
    "    a[x].append(y)\n",
    "    a[y].append(x)\n",
    "\n",
    "for i in range(1, n + 1):\n",
    "    visited = [False] * (n + 1)\n",
    "    bfs(i)\n",
    "    \n",
    "print(countList.index(min(countList[1:])))"
   ]
  }
 ],
 "metadata": {
  "kernelspec": {
   "display_name": "Python 3",
   "language": "python",
   "name": "python3"
  },
  "language_info": {
   "codemirror_mode": {
    "name": "ipython",
    "version": 3
   },
   "file_extension": ".py",
   "mimetype": "text/x-python",
   "name": "python",
   "nbconvert_exporter": "python",
   "pygments_lexer": "ipython3",
   "version": "3.8.3"
  }
 },
 "nbformat": 4,
 "nbformat_minor": 4
}
