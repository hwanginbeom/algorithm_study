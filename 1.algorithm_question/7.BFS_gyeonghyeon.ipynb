{
 "cells": [
  {
   "cell_type": "code",
   "execution_count": 4,
   "metadata": {},
   "outputs": [
    {
     "name": "stdout",
     "output_type": "stream",
     "text": [
      "4 6\n",
      "101111\n",
      "101010\n",
      "101011\n",
      "111011\n",
      "15\n"
     ]
    }
   ],
   "source": [
    "from collections import deque\n",
    "\n",
    "n, m = map(int,input().split())\n",
    "\n",
    "miro_list=[]\n",
    "for i in range(n):\n",
    "     miro_list.append(list(map(int,input())))\n",
    "\n",
    "dx = [-1,1,0,0]\n",
    "dy = [0,0,-1,1]\n",
    "\n",
    "def bfs(x,y):\n",
    "    queue = deque()\n",
    "    queue.append((x,y))\n",
    "    while queue:\n",
    "        x,y = queue.popleft()\n",
    "    \n",
    "        for i in range(4):\n",
    "            nx = x + dx[i]\n",
    "            ny = y + dy[i]\n",
    "\n",
    "            if nx < 0 or ny < 0 or nx >= n  or ny >=m:\n",
    "                continue\n",
    "            if miro_list[nx][ny] == 0:\n",
    "                continue\n",
    "            if miro_list[nx][ny] == 1:\n",
    "                miro_list[nx][ny] = miro_list[x][y] + 1\n",
    "                queue.append((nx,ny))\n",
    "    return   miro_list[n - 1][m - 1]\n",
    "\n",
    "print(bfs(0,0))\n",
    "    "
   ]
  }
 ],
 "metadata": {
  "kernelspec": {
   "display_name": "Python 3",
   "language": "python",
   "name": "python3"
  }
 },
 "nbformat": 4,
 "nbformat_minor": 2
}
