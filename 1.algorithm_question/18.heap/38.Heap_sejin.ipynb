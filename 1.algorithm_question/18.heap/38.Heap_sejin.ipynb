{
 "cells": [
  {
   "cell_type": "markdown",
   "metadata": {},
   "source": [
    "### 더맵게"
   ]
  },
  {
   "cell_type": "code",
   "execution_count": 4,
   "metadata": {},
   "outputs": [
    {
     "name": "stdout",
     "output_type": "stream",
     "text": [
      "2\n"
     ]
    }
   ],
   "source": [
    "import heapq\n",
    "\n",
    "def solution(scoville, K):\n",
    "    answer = 0\n",
    "    q = []\n",
    "    \n",
    "    for s in scoville:\n",
    "        heapq.heappush(q, s)\n",
    "        \n",
    "    while True:\n",
    "        num1 = heapq.heappop(q)\n",
    "        num2 = heapq.heappop(q)\n",
    "        num3 = num1 + (num2*2)\n",
    "        heapq.heappush(q, num3)\n",
    "        answer +=1\n",
    "        if q[0] >= K or len(q) == 1:\n",
    "            break\n",
    "            \n",
    "    if q[-1] < K:\n",
    "        answer = -1\n",
    "    return answer\n",
    "\n",
    "\n",
    "scoville = [1, 2, 3, 9, 10, 12]\n",
    "K = 7\n",
    "\n",
    "print(solution(scoville, K))"
   ]
  }
 ],
 "metadata": {
  "kernelspec": {
   "display_name": "Python 3",
   "language": "python",
   "name": "python3"
  },
  "language_info": {
   "codemirror_mode": {
    "name": "ipython",
    "version": 3
   },
   "file_extension": ".py",
   "mimetype": "text/x-python",
   "name": "python",
   "nbconvert_exporter": "python",
   "pygments_lexer": "ipython3",
   "version": "3.8.3"
  }
 },
 "nbformat": 4,
 "nbformat_minor": 4
}
