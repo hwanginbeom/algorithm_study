{
 "cells": [
  {
   "cell_type": "markdown",
   "metadata": {},
   "source": [
    "### 구간 합 구하기 4"
   ]
  },
  {
   "cell_type": "code",
   "execution_count": 2,
   "metadata": {},
   "outputs": [
    {
     "name": "stdout",
     "output_type": "stream",
     "text": [
      "5 3\n",
      "5 4 3 2 1\n",
      "1 3\n",
      "12\n",
      "2 4\n",
      "9\n",
      "5 5\n",
      "1\n"
     ]
    }
   ],
   "source": [
    "n, m = map(int, input().split())\n",
    "data = list(map(int, input().split()))\n",
    "\n",
    "# 접두사 합(Prefix Sum) 배열 계산\n",
    "sum_value = 0\n",
    "prefix_sum = [0]\n",
    "for i in data:\n",
    "    sum_value += i\n",
    "    prefix_sum.append(sum_value)\n",
    "\n",
    "# 구간 합 계산\n",
    "for _ in range(m):\n",
    "    left, right = map(int, input().split())\n",
    "    print(prefix_sum[right] - prefix_sum[left - 1])"
   ]
  },
  {
   "cell_type": "markdown",
   "metadata": {},
   "source": [
    "### 구간 합 구하기 5"
   ]
  },
  {
   "cell_type": "code",
   "execution_count": 6,
   "metadata": {},
   "outputs": [],
   "source": [
    "import sys\n",
    "input = sys.stdin.readline\n",
    "\n",
    "N, M = map(int, input().split())\n",
    "MAP = [list(map(int, input().split())) for _ in range(N)]\n",
    "DP = [[0] * (N + 1) for _ in range(N + 1)]\n",
    "for i in range(1, N + 1):\n",
    "    for j in range(1, N + 1):\n",
    "        DP[i][j] = MAP[i-1][j-1] + DP[i][j-1] + DP[i-1][j] - DP[i-1][j-1]\n",
    "\n",
    "for _ in range(M):\n",
    "    x1, y1, x2, y2 = map(int, input().split())\n",
    "    print(DP[x2][y2] - DP[x1-1][y2] - DP[x2][y1-1] + DP[x1-1][y1-1])"
   ]
  }
 ],
 "metadata": {
  "kernelspec": {
   "display_name": "Python 3",
   "language": "python",
   "name": "python3"
  },
  "language_info": {
   "codemirror_mode": {
    "name": "ipython",
    "version": 3
   },
   "file_extension": ".py",
   "mimetype": "text/x-python",
   "name": "python",
   "nbconvert_exporter": "python",
   "pygments_lexer": "ipython3",
   "version": "3.8.3"
  }
 },
 "nbformat": 4,
 "nbformat_minor": 4
}
