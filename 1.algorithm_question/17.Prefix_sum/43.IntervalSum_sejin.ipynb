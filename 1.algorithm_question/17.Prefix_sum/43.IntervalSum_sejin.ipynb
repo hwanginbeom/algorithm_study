{
 "cells": [
  {
   "cell_type": "markdown",
   "metadata": {},
   "source": [
    "### 두 개 뽑아서 더하기"
   ]
  },
  {
   "cell_type": "code",
   "execution_count": 1,
   "metadata": {},
   "outputs": [
    {
     "name": "stdout",
     "output_type": "stream",
     "text": [
      "2,1,3,4,1\n"
     ]
    },
    {
     "data": {
      "text/plain": [
       "[2, 1, 3, 4, 1]"
      ]
     },
     "execution_count": 1,
     "metadata": {},
     "output_type": "execute_result"
    }
   ],
   "source": [
    "def solution(numbers) :\n",
    "    answer = list()\n",
    "    \n",
    "    l = len(numbers)\n",
    "    for i in range(l) :\n",
    "        for j in range(i+1, l) :\n",
    "            data = numbers[i] + numbers[j]\n",
    "            if data not in answer :\n",
    "                answer.append(data)\n",
    "    answer.sort()\n",
    "    return answer"
   ]
  }
 ],
 "metadata": {
  "kernelspec": {
   "display_name": "Python 3",
   "language": "python",
   "name": "python3"
  },
  "language_info": {
   "codemirror_mode": {
    "name": "ipython",
    "version": 3
   },
   "file_extension": ".py",
   "mimetype": "text/x-python",
   "name": "python",
   "nbconvert_exporter": "python",
   "pygments_lexer": "ipython3",
   "version": "3.8.3"
  }
 },
 "nbformat": 4,
 "nbformat_minor": 4
}
