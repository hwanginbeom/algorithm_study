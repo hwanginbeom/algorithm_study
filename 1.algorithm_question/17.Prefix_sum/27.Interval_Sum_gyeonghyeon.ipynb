{
 "cells": [
  {
   "cell_type": "markdown",
   "metadata": {},
   "source": [
    "### 구간 합 구하기4"
   ]
  },
  {
   "cell_type": "code",
   "execution_count": 1,
   "metadata": {},
   "outputs": [
    {
     "name": "stdout",
     "output_type": "stream",
     "text": [
      "5 3\n",
      "5 4 3 2 1\n",
      "1 3\n",
      "12\n",
      "2 4\n",
      "9\n",
      "5 5\n",
      "1\n"
     ]
    }
   ],
   "source": [
    "n, m = map(int, input().split())\n",
    "data = list(map(int, input().split()))\n",
    "sum_value = 0\n",
    "pre_sum = [0]\n",
    "for i in data:\n",
    "    sum_value += i\n",
    "    pre_sum.append(sum_value)\n",
    "\n",
    "for i in range(m):\n",
    "    left , right = map(int, input().split())\n",
    "    print(pre_sum[right]  - pre_sum[left - 1])"
   ]
  },
  {
   "cell_type": "markdown",
   "metadata": {},
   "source": [
    "### 구간 합 구하기 5"
   ]
  },
  {
   "cell_type": "code",
   "execution_count": 2,
   "metadata": {},
   "outputs": [
    {
     "name": "stdout",
     "output_type": "stream",
     "text": [
      "2 4\n",
      "1 2\n",
      "3 4\n",
      "1 1 1 1 \n",
      "1\n",
      "1 2 1 2\n",
      "2\n",
      "2 1 2 1\n",
      "3\n",
      "2 2 2 2\n",
      "4\n"
     ]
    }
   ],
   "source": [
    "n,m = map(int, input().split())\n",
    "graph = [list(map(int, input().split())) for _ in range(n)]\n",
    "graph_sum = [[] for _ in range(n)]\n",
    "sum_value = 0\n",
    "\n",
    "for idx,data in enumerate(graph):\n",
    "    sum_value = 0\n",
    "    for data2 in data:\n",
    "        sum_value += data2\n",
    "        graph_sum[idx].append(sum_value)\n",
    "for _ in range(m):\n",
    "    i, j, x, y = map(int, input().split())\n",
    "    answer = 0\n",
    "    for k in range(i-1,x):\n",
    "        if j != 1:\n",
    "            answer -= graph_sum[k][j-2]\n",
    "        answer += graph_sum[k][y-1]\n",
    "    print(answer)"
   ]
  }
 ],
 "metadata": {
  "kernelspec": {
   "display_name": "Python 3",
   "language": "python",
   "name": "python3"
  },
  "language_info": {
   "codemirror_mode": {
    "name": "ipython",
    "version": 3
   },
   "file_extension": ".py",
   "mimetype": "text/x-python",
   "name": "python",
   "nbconvert_exporter": "python",
   "pygments_lexer": "ipython3",
   "version": "3.6.5"
  }
 },
 "nbformat": 4,
 "nbformat_minor": 2
}
