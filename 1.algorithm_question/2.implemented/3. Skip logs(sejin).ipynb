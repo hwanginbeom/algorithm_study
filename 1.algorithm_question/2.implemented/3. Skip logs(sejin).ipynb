{
 "cells": [
  {
   "cell_type": "markdown",
   "metadata": {},
   "source": [
    "## 그리디 알고리즘\n",
    "<br>\n",
    "- 통나무 건너뛰기\n",
    "<br>\n",
    "- 2020.10.28 (수)"
   ]
  },
  {
   "cell_type": "code",
   "execution_count": 4,
   "metadata": {},
   "outputs": [
    {
     "name": "stdout",
     "output_type": "stream",
     "text": [
      "3\n",
      "7\n",
      "13 10 12 11 10 11 12\n",
      "5\n",
      "2 4 5 7 9\n",
      "8\n",
      "6 6 6 6 6 6 6 6\n",
      "1\n",
      "4\n",
      "0\n"
     ]
    }
   ],
   "source": [
    "import numpy as np\n",
    "\n",
    "def solution(num) :\n",
    "    \n",
    "    num.sort()\n",
    "    \n",
    "    even = []\n",
    "    odd = []\n",
    "\n",
    "    for i in range(len(num)) :\n",
    "        if (i % 2 == 0) :\n",
    "            odd.append(i)\n",
    "        \n",
    "    for i in range(len(num)) :\n",
    "        if (i % 2 == 1) :\n",
    "            even.append(i)\n",
    "            even.sort(reverse=True)\n",
    "    \n",
    "    index = odd + even\n",
    "    \n",
    "    result=[]\n",
    "    \n",
    "    for i in index :\n",
    "        c = num[i]\n",
    "        result.append(c)\n",
    "    \n",
    "    return(abs(np.diff(result)).max())\n",
    "\n",
    "result = []\n",
    "\n",
    "a = int(input())\n",
    "for i in range(a) :\n",
    "    b = int(input())\n",
    "    num = list(map(int, input().split()))\n",
    "    d = solution(num)\n",
    "    result.append(d)\n",
    "\n",
    "for i in range(len(result)) :\n",
    "    print(result[i])"
   ]
  },
  {
   "cell_type": "code",
   "execution_count": null,
   "metadata": {},
   "outputs": [],
   "source": []
  }
 ],
 "metadata": {
  "kernelspec": {
   "display_name": "Python 3",
   "language": "python",
   "name": "python3"
  },
  "language_info": {
   "codemirror_mode": {
    "name": "ipython",
    "version": 3
   },
   "file_extension": ".py",
   "mimetype": "text/x-python",
   "name": "python",
   "nbconvert_exporter": "python",
   "pygments_lexer": "ipython3",
   "version": "3.8.3"
  }
 },
 "nbformat": 4,
 "nbformat_minor": 4
}
