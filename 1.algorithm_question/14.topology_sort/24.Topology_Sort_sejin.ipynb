{
 "cells": [
  {
   "cell_type": "markdown",
   "metadata": {},
   "source": [
    "### 줄세우기"
   ]
  },
  {
   "cell_type": "code",
   "execution_count": 3,
   "metadata": {},
   "outputs": [
    {
     "name": "stdout",
     "output_type": "stream",
     "text": [
      "3 2\n",
      "1 3\n",
      "2 3\n",
      "1 2 3 "
     ]
    }
   ],
   "source": [
    "from collections import deque\n",
    "\n",
    "# 노드의 개수와 간선의 개수를 입력 받기\n",
    "v, e = map(int, input().split())\n",
    "\n",
    "# 모든 노드에 대한 진입차수는 0으로 초기화\n",
    "indegree = [0] * (v + 1)\n",
    "\n",
    "# 각 노드에 연결된 간선 정보를 담기 위한 연결 리스트 초기화\n",
    "graph = [[] for i in range(v + 1)]\n",
    "\n",
    "# 방향 그래프의 모든 간선 정보를 입력 받기\n",
    "for _ in range(e):\n",
    "    a, b = map(int, input().split())\n",
    "    graph[a].append(b) # 정점 A에서 B로 이동 가능\n",
    "    # 진입 차수를 1 증가\n",
    "    indegree[b] += 1\n",
    "\n",
    "# 위상 정렬 함수\n",
    "def topology_sort():\n",
    "    result = [] # 알고리즘 수행 결과를 담을 리스트\n",
    "    q = deque() # 큐 기능을 위한 deque 라이브러리 사용\n",
    "\n",
    "    # 처음 시작할 때는 진입차수가 0인 노드를 큐에 삽입\n",
    "    for i in range(1, v + 1):\n",
    "        if indegree[i] == 0:\n",
    "            q.append(i)\n",
    "\n",
    "    # 큐가 빌 때까지 반복\n",
    "    while q:\n",
    "        # 큐에서 원소 꺼내기\n",
    "        now = q.popleft()\n",
    "        result.append(now)\n",
    "        # 해당 원소와 연결된 노드들의 진입차수에서 1 빼기\n",
    "        for i in graph[now]:\n",
    "            indegree[i] -= 1\n",
    "            # 새롭게 진입차수가 0이 되는 노드를 큐에 삽입\n",
    "            if indegree[i] == 0:\n",
    "                q.append(i)\n",
    "\n",
    "    # 위상 정렬을 수행한 결과 출력\n",
    "    for i in result:\n",
    "        print(i, end=' ')\n",
    "\n",
    "topology_sort()"
   ]
  },
  {
   "cell_type": "markdown",
   "metadata": {},
   "source": [
    "### 최종 순위"
   ]
  },
  {
   "cell_type": "code",
   "execution_count": 5,
   "metadata": {},
   "outputs": [
    {
     "name": "stdout",
     "output_type": "stream",
     "text": [
      "3\n",
      "5\n",
      "5 4 3 2 1\n",
      "2\n",
      "2 4\n",
      "3 4\n",
      "5 3 2 4 1 \n",
      "3\n",
      "2 3 1\n",
      "0\n",
      "2 3 1 \n",
      "4\n",
      "1 2 3 4\n",
      "3\n",
      "1 2\n",
      "3 4\n",
      "2 3\n",
      "IMPOSSIBLE\n"
     ]
    }
   ],
   "source": [
    "from collections import deque\n",
    "import sys\n",
    "\n",
    "#테스트케이스 수\n",
    "for t in range(int(input())): \n",
    "    #노드의 수\n",
    "    n=int(input()) \n",
    "    indegree=[0]*(n+1)\n",
    "    graph=[[False]*(n+1) for _ in range(n+1)]\n",
    "    rank=list(map(int,input().split()))\n",
    "\n",
    "    #그래프그리기\n",
    "    for i in range(n):\n",
    "        for j in range(i+1,n):\n",
    "            graph[rank[i]][rank[j]]=True\n",
    "            indegree[rank[j]]+=1\n",
    "\n",
    "    #바뀌는 순위\n",
    "    m=int(input())\n",
    "    for i in range(m):\n",
    "        a,b=map(int,input().split())\n",
    "        #간선방향 반대로\n",
    "        if graph[a][b]:\n",
    "            graph[a][b]=False\n",
    "            graph[b][a]=True\n",
    "            indegree[a]+=1\n",
    "            indegree[b]-=1\n",
    "        else:\n",
    "            graph[a][b] = True\n",
    "            graph[b][a] = False\n",
    "            indegree[a] -= 1\n",
    "            indegree[b] += 1\n",
    "\n",
    "    cycle=False\n",
    "    #하나만 있을 경우, 일관성이 없는 정보\n",
    "    flag=True \n",
    "    result=[]\n",
    "    q=deque()\n",
    "\n",
    "    #초기, 진입차수0인것 큐에 삽입\n",
    "    for i in range(1,n+1):\n",
    "        if indegree[i]==0:\n",
    "            q.append(i)\n",
    "\n",
    "    #노드의 개수만큼 반복\n",
    "    for i in range(n): \n",
    "        if len(q)==0: \n",
    "            cycle=True\n",
    "            break\n",
    "        if len(q)>=2: \n",
    "            flag=False\n",
    "            break\n",
    "        cur = q.popleft()\n",
    "        result.append(cur)\n",
    "        for i in range(1,n+1): \n",
    "            if graph[cur][i]:\n",
    "                indegree[i]-=1\n",
    "                if indegree[i]==0:\n",
    "                    q.append(i)\n",
    "\n",
    "     #사이클이 발생하면\n",
    "    if cycle:\n",
    "        print(\"IMPOSSIBLE\")\n",
    "    #일관성이 없으면, 여러 위상정렬의 경우가 나오면\n",
    "    elif not flag:\n",
    "        print(\"?\")\n",
    "    else:\n",
    "        for x in result:\n",
    "            print(x,end=' ')\n",
    "        print()"
   ]
  }
 ],
 "metadata": {
  "kernelspec": {
   "display_name": "Python 3",
   "language": "python",
   "name": "python3"
  },
  "language_info": {
   "codemirror_mode": {
    "name": "ipython",
    "version": 3
   },
   "file_extension": ".py",
   "mimetype": "text/x-python",
   "name": "python",
   "nbconvert_exporter": "python",
   "pygments_lexer": "ipython3",
   "version": "3.8.3"
  }
 },
 "nbformat": 4,
 "nbformat_minor": 4
}
