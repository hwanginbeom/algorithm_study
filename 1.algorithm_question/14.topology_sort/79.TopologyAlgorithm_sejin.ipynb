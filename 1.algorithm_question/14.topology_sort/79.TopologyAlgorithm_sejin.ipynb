{
 "cells": [
  {
   "cell_type": "code",
   "execution_count": null,
   "metadata": {},
   "outputs": [],
   "source": [
    "from collections import deque\n",
    "\n",
    "N, M = map(int, input().split())\n",
    "\n",
    "indg = [0 for _ in range(N + 1)]\n",
    "path = defaultdict(lambda: [])\n",
    "\n",
    "\n",
    "for _ in range(M):\n",
    "    singers = list(map(int, input().split()))[1:]\n",
    "    for i in range(len(singers) - 1):\n",
    "        path[singers[i]].append(singers[i+1])\n",
    "        indg[singers[i + 1]] += 1\n",
    "\n",
    "\n",
    "# 진입 차수가 0 먼저 넣기\n",
    "queue = deque()\n",
    "for i in range(1, N+1):\n",
    "    if indg[i] == 0:\n",
    "        queue.append(i)\n",
    "\n",
    "\n",
    "answer = []\n",
    "while queue:\n",
    "    s = queue.popleft()\n",
    "    answer.append(s)\n",
    "\n",
    "    for i in path[s]:\n",
    "        indg[i] -= 1\n",
    "        if indg[i] == 0:\n",
    "            queue.append(i)\n",
    "\n",
    "\n",
    "# 못 갈 경우\n",
    "if len(answer) != N:\n",
    "    print(0)\n",
    "else:\n",
    "    for i in answer:\n",
    "        print(i)"
   ]
  }
 ],
 "metadata": {
  "kernelspec": {
   "display_name": "Python 3",
   "language": "python",
   "name": "python3"
  },
  "language_info": {
   "codemirror_mode": {
    "name": "ipython",
    "version": 3
   },
   "file_extension": ".py",
   "mimetype": "text/x-python",
   "name": "python",
   "nbconvert_exporter": "python",
   "pygments_lexer": "ipython3",
   "version": "3.8.3"
  }
 },
 "nbformat": 4,
 "nbformat_minor": 4
}
