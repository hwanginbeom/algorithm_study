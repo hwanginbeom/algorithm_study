{
 "cells": [
  {
   "cell_type": "markdown",
   "metadata": {},
   "source": [
    "### Strahler 순서"
   ]
  },
  {
   "cell_type": "code",
   "execution_count": 6,
   "metadata": {},
   "outputs": [
    {
     "name": "stdout",
     "output_type": "stream",
     "text": [
      "1\n",
      "1 7 8\n",
      "1 3\n",
      "2 3\n",
      "6 4\n",
      "3 4\n",
      "3 5\n",
      "6 7\n",
      "5 7\n",
      "4 7\n",
      "1 3\n"
     ]
    }
   ],
   "source": [
    "from collections import deque\n",
    "\n",
    "# t 케이스 수\n",
    "t = int(input())\n",
    "\n",
    "for _ in range(t):\n",
    "    # k 케이스 번호, m 노드의 수, p 간선의 수\n",
    "    k, m, p = map(int, input().split())\n",
    "\n",
    "    indeg = [[0, []] for _ in range(m+1)]\n",
    "    graph = [[] for _ in range(m+1)]\n",
    "\n",
    "    for _ in range(p):\n",
    "        # a에서 b로 흐른다는 뜻\n",
    "        a, b = map(int, input().split())\n",
    "        graph[a].append(b)\n",
    "        indeg[b][0] += 1\n",
    "\n",
    "    result = []\n",
    "    q = deque()\n",
    "    for i in range(1, m+1):\n",
    "        if indeg[i][0] == 0:\n",
    "            indeg[i][1].append(1)\n",
    "            q.append(i)\n",
    "\n",
    "    # 큐가 빌 때까지 반복\n",
    "    while q:\n",
    "        # 큐에서 원소 꺼내기\n",
    "        now = q.popleft()\n",
    "        result.append(now)\n",
    "\n",
    "        # 해당 원소와 연결된 노드들의 진입차수에서 1 빼기\n",
    "        for i in graph[now]:\n",
    "            indeg[i][0] -= 1\n",
    "            # 해당 원소(now)의 strahler 순서를 추가해준다.\n",
    "            indeg[i][1].extend(indeg[now][1])\n",
    "\n",
    "            # 새롭게 진입차수가 0이 되는 노드를 큐에 삽입\n",
    "            if indeg[i][0] == 0:\n",
    "                strahler = max(indeg[i][1])\n",
    "\n",
    "                if indeg[i][1].count(strahler) == 1:\n",
    "                    indeg[i][1] = []\n",
    "                    indeg[i][1].append(strahler)\n",
    "                else:\n",
    "                    indeg[i][1] = []\n",
    "                    indeg[i][1].append(strahler + 1)\n",
    "\n",
    "                q.append(i)\n",
    "\n",
    "    print(k, end=' ')\n",
    "    print(indeg[result[-1]][1][0])"
   ]
  }
 ],
 "metadata": {
  "kernelspec": {
   "display_name": "Python 3",
   "language": "python",
   "name": "python3"
  },
  "language_info": {
   "codemirror_mode": {
    "name": "ipython",
    "version": 3
   },
   "file_extension": ".py",
   "mimetype": "text/x-python",
   "name": "python",
   "nbconvert_exporter": "python",
   "pygments_lexer": "ipython3",
   "version": "3.8.3"
  }
 },
 "nbformat": 4,
 "nbformat_minor": 4
}
