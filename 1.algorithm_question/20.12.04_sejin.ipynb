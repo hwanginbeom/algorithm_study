{
 "cells": [
  {
   "cell_type": "markdown",
   "metadata": {},
   "source": [
    "### N과 M (3)"
   ]
  },
  {
   "cell_type": "code",
   "execution_count": 3,
   "metadata": {},
   "outputs": [
    {
     "name": "stdout",
     "output_type": "stream",
     "text": [
      "3 1\n",
      "1\n",
      "2\n",
      "3\n"
     ]
    }
   ],
   "source": [
    "import itertools\n",
    "\n",
    "n, m = map(int, input().split())\n",
    "a = itertools.product(range(1,n+1), repeat=m)\n",
    "\n",
    "for i in a:\n",
    "    print(*i)"
   ]
  },
  {
   "cell_type": "markdown",
   "metadata": {},
   "source": [
    "### 연산자 끼워넣기"
   ]
  },
  {
   "cell_type": "code",
   "execution_count": 4,
   "metadata": {},
   "outputs": [
    {
     "name": "stdout",
     "output_type": "stream",
     "text": [
      "2\n",
      "5 6\n",
      "0 0 1 0\n",
      "30\n",
      "30\n"
     ]
    }
   ],
   "source": [
    "N = int(input())\n",
    "nums = list(map(int, input().split()))\n",
    "add, sub, mul, div = map(int, input().split())\n",
    "\n",
    "min_, max_ = 1e9, -1e9\n",
    "\n",
    "def dfs(i, res, add, sub, mul, div):\n",
    "    global max_, min_\n",
    "    if i == N:\n",
    "        max_ = max(res, max_)\n",
    "        min_ = min(res, min_)\n",
    "        return\n",
    "\n",
    "    else:\n",
    "        if add:\n",
    "            dfs(i+1, res+nums[i], add-1, sub, mul, div)\n",
    "        if sub:\n",
    "            dfs(i+1, res-nums[i], add, sub-1, mul, div)\n",
    "        if mul:\n",
    "            dfs(i+1, res*nums[i], add, sub, mul-1, div)\n",
    "        if div:\n",
    "            dfs(i+1, int(res/nums[i]), add, sub, mul, div-1)\n",
    "\n",
    "dfs(1, nums[0], add, sub, mul, div)\n",
    "print(max_)\n",
    "print(min_)"
   ]
  }
 ],
 "metadata": {
  "kernelspec": {
   "display_name": "Python 3",
   "language": "python",
   "name": "python3"
  },
  "language_info": {
   "codemirror_mode": {
    "name": "ipython",
    "version": 3
   },
   "file_extension": ".py",
   "mimetype": "text/x-python",
   "name": "python",
   "nbconvert_exporter": "python",
   "pygments_lexer": "ipython3",
   "version": "3.8.3"
  }
 },
 "nbformat": 4,
 "nbformat_minor": 4
}
