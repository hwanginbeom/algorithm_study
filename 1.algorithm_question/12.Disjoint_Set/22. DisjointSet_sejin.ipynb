{
 "cells": [
  {
   "cell_type": "markdown",
   "metadata": {},
   "source": [
    "### 친구 네트워크"
   ]
  },
  {
   "cell_type": "code",
   "execution_count": 1,
   "metadata": {},
   "outputs": [
    {
     "name": "stdout",
     "output_type": "stream",
     "text": [
      "2\n",
      "3\n",
      "Fred Barney\n",
      "2\n",
      "Barney Betty\n",
      "3\n",
      "Betty Wilma\n",
      "4\n",
      "3\n",
      "Fred Barney\n",
      "2\n",
      "Betty Wilma\n",
      "2\n",
      "Barney Betty\n",
      "4\n"
     ]
    }
   ],
   "source": [
    "# 특정 원소가 속한 집합을 찾기\n",
    "def find_parent(parent, x):\n",
    "    # 루트 노드를 찾을 때까지 재귀 호출\n",
    "    if parent[x] != x:\n",
    "        parent[x] = find_parent(parent, parent[x])\n",
    "    return parent[x]\n",
    "\n",
    "\n",
    "# 두 원소가 속한 집합을 합치기\n",
    "def union_parent(parent, count, a, b):\n",
    "    a = find_parent(parent, a)\n",
    "    b = find_parent(parent, b)\n",
    "\n",
    "    if a != b:\n",
    "        parent[b] = a\n",
    "        count[a] += count[b]\n",
    "\n",
    "\n",
    "#간선(Union 연산)의 개수 입력 받기\n",
    "cases = int(input())\n",
    "for i in range(cases) :\n",
    "    e = int(input())\n",
    "\n",
    "    # 부모 테이블 초기화하기\n",
    "    parent = {}\n",
    "    count = {}\n",
    "\n",
    "    data = []\n",
    "    for _ in range(e) :\n",
    "        a, b = input().split()\n",
    "        if a not in parent :\n",
    "            parent[a] = a\n",
    "            count[a] = 1\n",
    "        if b not in parent :\n",
    "            parent[b] = b\n",
    "            count[b] = 1\n",
    "\n",
    "        union_parent(parent, count, a, b)\n",
    "        print(count[find_parent(parent, a)])"
   ]
  }
 ],
 "metadata": {
  "kernelspec": {
   "display_name": "Python 3",
   "language": "python",
   "name": "python3"
  },
  "language_info": {
   "codemirror_mode": {
    "name": "ipython",
    "version": 3
   },
   "file_extension": ".py",
   "mimetype": "text/x-python",
   "name": "python",
   "nbconvert_exporter": "python",
   "pygments_lexer": "ipython3",
   "version": "3.8.3"
  }
 },
 "nbformat": 4,
 "nbformat_minor": 4
}
