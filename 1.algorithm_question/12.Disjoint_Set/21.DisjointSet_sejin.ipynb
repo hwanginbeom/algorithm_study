{
 "cells": [
  {
   "cell_type": "markdown",
   "metadata": {},
   "source": [
    "### 집합의 표현"
   ]
  },
  {
   "cell_type": "code",
   "execution_count": 3,
   "metadata": {},
   "outputs": [
    {
     "name": "stdout",
     "output_type": "stream",
     "text": [
      "7 8\n",
      "[0, 1, 2, 3, 4, 5, 6, 7]\n",
      "0 1 3\n",
      "1 1 7\n",
      "NO\n",
      "0 7 6\n",
      "1 7 1\n",
      "NO\n",
      "0 3 7\n",
      "0 4 2\n",
      "0 1 1\n",
      "1 1 1\n",
      "YES\n"
     ]
    }
   ],
   "source": [
    "# 특정 원소가 속한 집합을 찾기\n",
    "def find_parent(parent, x):\n",
    "    # 루트 노드가 아니라면, 루트 노드를 찾을 때까지 재귀적으로 호출\n",
    "    if parent[x] != x:\n",
    "        parent[x] = find_parent(parent, parent[x])\n",
    "    return parent[x]\n",
    "\n",
    "# 두 원소가 속한 집합을 합치기\n",
    "def union_parent(parent, a, b):\n",
    "    a = find_parent(parent, a)\n",
    "    b = find_parent(parent, b)\n",
    "    if a < b:\n",
    "        parent[b] = a\n",
    "    else:\n",
    "        parent[a] = b\n",
    "\n",
    "\n",
    "# 노드의 개수과 간선의 개수 입력 받기\n",
    "n, m = map(int, input().split())\n",
    "\n",
    "# 부모 테이블 초기화하기\n",
    "parent = [0] * (n + 1)\n",
    "\n",
    "\n",
    "# 부모 테이블상에서 부모를 자기 자신으로 초기화\n",
    "for i in range(1, n + 1):\n",
    "    parent[i] = i\n",
    "\n",
    "# Union 연산을 각각 수행\n",
    "for i in range(m):\n",
    "    method, a, b = map(int, input().split())\n",
    "    if method == 0 :\n",
    "        union_parent(parent, a, b)\n",
    "    else :\n",
    "        if find_parent(parent,a) == find_parent(parent,b) :\n",
    "            print('YES')\n",
    "        else :\n",
    "            print('NO')"
   ]
  },
  {
   "cell_type": "markdown",
   "metadata": {},
   "source": [
    "### 여행 가자"
   ]
  },
  {
   "cell_type": "code",
   "execution_count": 15,
   "metadata": {},
   "outputs": [
    {
     "name": "stdout",
     "output_type": "stream",
     "text": [
      "3\n",
      "3\n",
      "0 1 0\n",
      "1 0 1\n",
      "0 1 0\n",
      "1 2 3\n",
      "YES\n"
     ]
    }
   ],
   "source": [
    "import sys\n",
    "input = sys.stdin.readline\n",
    "\n",
    "# 특정 원소가 속한 집합을 찾기\n",
    "def find_parent(parent, x):\n",
    "    # 루트 노드가 아니라면, 루트 노드를 찾을 때까지 재귀적으로 호출\n",
    "    if parent[x] != x:\n",
    "        parent[x] = find_parent(parent, parent[x])\n",
    "    return parent[x]\n",
    "\n",
    "# 두 원소가 속한 집합을 합치기\n",
    "def union_parent(parent, a, b):\n",
    "    a = find_parent(parent, a)\n",
    "    b = find_parent(parent, b)\n",
    "    if a < b:\n",
    "        parent[b] = a\n",
    "    else:\n",
    "        parent[a] = b\n",
    "\n",
    "\n",
    "# 노드의 개수과 간선의 개수 입력 받기\n",
    "n = int(input())\n",
    "_ = int(input())\n",
    "\n",
    "# 부모 테이블상에서 부모를 자기 자신으로 초기화\n",
    "parent = [i for i in range(n+1)]\n",
    "\n",
    "\n",
    "for i in range(1, n+1):\n",
    "    data = list(map(int, input().split()))\n",
    "\n",
    "    for j in range(1, len(data)+1) :\n",
    "        if data[j-1] == 1 :\n",
    "            union_parent(parent, i, j)\n",
    "\n",
    "\n",
    "# Union 연산을 각각 수행\n",
    "tour = list(map(int, input().split()))\n",
    "answer = set([find_parent(parent, i) for i in tour])\n",
    "if len(answer) != 1 :\n",
    "    print('NO')\n",
    "else :\n",
    "    print('YES')"
   ]
  }
 ],
 "metadata": {
  "kernelspec": {
   "display_name": "Python 3",
   "language": "python",
   "name": "python3"
  },
  "language_info": {
   "codemirror_mode": {
    "name": "ipython",
    "version": 3
   },
   "file_extension": ".py",
   "mimetype": "text/x-python",
   "name": "python",
   "nbconvert_exporter": "python",
   "pygments_lexer": "ipython3",
   "version": "3.8.3"
  }
 },
 "nbformat": 4,
 "nbformat_minor": 4
}
