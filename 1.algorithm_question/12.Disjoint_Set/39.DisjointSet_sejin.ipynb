{
 "cells": [
  {
   "cell_type": "markdown",
   "metadata": {},
   "source": [
    "### 친구비"
   ]
  },
  {
   "cell_type": "code",
   "execution_count": null,
   "metadata": {},
   "outputs": [],
   "source": [
    "import sys\n",
    "\n",
    "# 입력부\n",
    "n, m, k = map(int, sys.stdin.readline().split())\n",
    "money = list(map(int, sys.stdin.readline().split()))\n",
    "\n",
    "# 인접리스트 생성|\n",
    "adj = [[] for _ in range(n)]\n",
    "\n",
    "ans = []\n",
    "for i in range(m):\n",
    "    a,b = map(int, sys.stdin.readline().split())\n",
    "    # 양방향 간선\n",
    "    adj[a - 1].append(b - 1)\n",
    "    adj[b - 1].append(a - 1)\n",
    "\n",
    "# 방문 여부를 확인하는 배열\n",
    "check = [False] * n\n",
    "\n",
    "# dfs_list : 친구관계에 속하는 정점을 리턴하는 함수\n",
    "def dfs_list(x, store):\n",
    "    check[x] = True\n",
    "    for i in adj[x]:\n",
    "        if check[i] == False:\n",
    "            store.append(i)\n",
    "            dfs_list(i, store)\n",
    "    return store\n",
    "\n",
    "for i in range(n):\n",
    "    # 만일 정점 i가 False라면 다른 연결 요소에 있기 때문에 dfs_list를 호출한다\n",
    "    if check[i] == False :\n",
    "        each = dfs_list(i, [i])\n",
    "        temp = 999999999999\n",
    "        # 정점 i와 친구관계인 정점들 중 가장 싼 친구비를 찾는다\n",
    "        for j in each:\n",
    "            if temp > money[j]:\n",
    "                temp = money[j]\n",
    "        # 연결요소의 최소비용을 정답배열에 추가한다\n",
    "        ans.append(temp)\n",
    "\n",
    "# 예산범위에 맞는지 확인한다\n",
    "if sum(ans) <= k:\n",
    "    print(sum(ans))\n",
    "else:\n",
    "    print('Oh no')"
   ]
  }
 ],
 "metadata": {
  "kernelspec": {
   "display_name": "Python 3",
   "language": "python",
   "name": "python3"
  },
  "language_info": {
   "codemirror_mode": {
    "name": "ipython",
    "version": 3
   },
   "file_extension": ".py",
   "mimetype": "text/x-python",
   "name": "python",
   "nbconvert_exporter": "python",
   "pygments_lexer": "ipython3",
   "version": "3.8.3"
  }
 },
 "nbformat": 4,
 "nbformat_minor": 4
}
