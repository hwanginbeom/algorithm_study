{
 "cells": [
  {
   "cell_type": "markdown",
   "metadata": {},
   "source": [
    "### 집합의 표현"
   ]
  },
  {
   "cell_type": "code",
   "execution_count": 9,
   "metadata": {},
   "outputs": [
    {
     "name": "stdout",
     "output_type": "stream",
     "text": [
      "7 8\n",
      "0 1 3\n",
      "1 1 7\n",
      "NO\n",
      "0 7 6\n",
      "1 7 1\n",
      "NO\n",
      "0 3 7\n",
      "0 4 2\n",
      "0 1 1\n",
      "1 1 1\n",
      "YES\n"
     ]
    }
   ],
   "source": [
    "def find_parent(x):\n",
    "    if parent[x] == x:\n",
    "        return x\n",
    "    parent[x] = find_parent(parent[x])\n",
    "    return parent[x]\n",
    "\n",
    "def union_parent(a, b):\n",
    "    a = find_parent(a)\n",
    "    b = find_parent(b)\n",
    "    if a < b:\n",
    "        parent[b] = a\n",
    "    else:\n",
    "        parent[a] = b\n",
    "        \n",
    "v, e = map(int, input().split())    \n",
    "parent = [i for i in range(v+1)]\n",
    "\n",
    "for i in range(e):\n",
    "    k, a, b = map(int, input().split())\n",
    "    \n",
    "    if k == 0:\n",
    "         union_parent(a, b)\n",
    "    elif k == 1:\n",
    "        if find_parent(a) == find_parent(b):\n",
    "            print('YES')\n",
    "        else:\n",
    "            print('NO')    "
   ]
  },
  {
   "cell_type": "markdown",
   "metadata": {},
   "source": [
    "### 여행가자"
   ]
  },
  {
   "cell_type": "code",
   "execution_count": 20,
   "metadata": {},
   "outputs": [
    {
     "name": "stdout",
     "output_type": "stream",
     "text": [
      "3\n",
      "3\n",
      "0 1 0\n",
      "1 0 1\n",
      "0 1 0\n",
      "1 2 3\n",
      "YES\n"
     ]
    }
   ],
   "source": [
    "INF = int(1e9)\n",
    "n = int(input())\n",
    "m = int(input())\n",
    "\n",
    "\n",
    "parent ={ i:i for i in range(n + 1)}\n",
    "\n",
    "def find_parent(x):\n",
    "    if parent[x] == x:\n",
    "        return x\n",
    "    parent[x] = find_parent(parent[x])\n",
    "    return parent[x]\n",
    "\n",
    "def union_parent(a,b):\n",
    "    a = find_parent(a)\n",
    "    b = find_parent(b)\n",
    "    \n",
    "    if a != b:\n",
    "        parent[b] = a\n",
    "        \n",
    "        \n",
    "for y in range(1, n+1):\n",
    "    maps = list(map(int, input().split()))\n",
    "    for x in range(1, len(maps)+1):\n",
    "        if maps[x-1] == 1:\n",
    "            union_parent(y,x)\n",
    "            \n",
    "tour = list(map(int, input().split()))            \n",
    "result = set([find_parent(i) for i in tour])            \n",
    "\n",
    "if len(result) !=1:\n",
    "    print('NO')\n",
    "else:\n",
    "    print('YES')\n"
   ]
  }
 ],
 "metadata": {
  "kernelspec": {
   "display_name": "Python 3",
   "language": "python",
   "name": "python3"
  },
  "language_info": {
   "codemirror_mode": {
    "name": "ipython",
    "version": 3
   },
   "file_extension": ".py",
   "mimetype": "text/x-python",
   "name": "python",
   "nbconvert_exporter": "python",
   "pygments_lexer": "ipython3",
   "version": "3.6.5"
  }
 },
 "nbformat": 4,
 "nbformat_minor": 2
}
