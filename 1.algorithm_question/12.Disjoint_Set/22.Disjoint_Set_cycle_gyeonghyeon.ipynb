{
 "cells": [
  {
   "cell_type": "markdown",
   "metadata": {},
   "source": [
    "### 친구 네트워크"
   ]
  },
  {
   "cell_type": "code",
   "execution_count": 1,
   "metadata": {},
   "outputs": [
    {
     "name": "stdout",
     "output_type": "stream",
     "text": [
      "3\n",
      "3\n",
      "3\n"
     ]
    },
    {
     "ename": "ValueError",
     "evalue": "not enough values to unpack (expected 2, got 1)",
     "output_type": "error",
     "traceback": [
      "\u001b[1;31m---------------------------------------------------------------------------\u001b[0m",
      "\u001b[1;31mValueError\u001b[0m                                Traceback (most recent call last)",
      "\u001b[1;32m<ipython-input-1-644a74c41ba3>\u001b[0m in \u001b[0;36m<module>\u001b[1;34m()\u001b[0m\n\u001b[0;32m     21\u001b[0m \u001b[1;33m\u001b[0m\u001b[0m\n\u001b[0;32m     22\u001b[0m     \u001b[1;32mfor\u001b[0m \u001b[0m_\u001b[0m \u001b[1;32min\u001b[0m \u001b[0mrange\u001b[0m\u001b[1;33m(\u001b[0m\u001b[0mf\u001b[0m\u001b[1;33m)\u001b[0m\u001b[1;33m:\u001b[0m\u001b[1;33m\u001b[0m\u001b[0m\n\u001b[1;32m---> 23\u001b[1;33m         \u001b[0mx\u001b[0m\u001b[1;33m,\u001b[0m\u001b[0my\u001b[0m \u001b[1;33m=\u001b[0m \u001b[0minput\u001b[0m\u001b[1;33m(\u001b[0m\u001b[1;33m)\u001b[0m\u001b[1;33m.\u001b[0m\u001b[0msplit\u001b[0m\u001b[1;33m(\u001b[0m\u001b[1;34m\" \"\u001b[0m\u001b[1;33m)\u001b[0m\u001b[1;33m\u001b[0m\u001b[0m\n\u001b[0m\u001b[0;32m     24\u001b[0m \u001b[1;33m\u001b[0m\u001b[0m\n\u001b[0;32m     25\u001b[0m         \u001b[1;32mif\u001b[0m \u001b[0mx\u001b[0m \u001b[1;32mnot\u001b[0m \u001b[1;32min\u001b[0m \u001b[0mparent\u001b[0m\u001b[1;33m:\u001b[0m\u001b[1;33m\u001b[0m\u001b[0m\n",
      "\u001b[1;31mValueError\u001b[0m: not enough values to unpack (expected 2, got 1)"
     ]
    }
   ],
   "source": [
    "def find_parent(x):\n",
    "    if parent[x] == x:\n",
    "        return x\n",
    "    parent[x] = find_parent(parent[x])\n",
    "    return parent[x]\n",
    "\n",
    "def union_parent2(a, b):\n",
    "    a = find_parent(a)\n",
    "    b = find_parent(b)\n",
    "    sum = cnt_dict[a] + cnt_dict[b]\n",
    "    #더 작은 쪽을 부모로 갖는다\n",
    "    if a > b:\n",
    "        parent_dict[a] = b\n",
    "        number[a] = sum\n",
    "        number[b] = number[a]\n",
    "    elif a < b:\n",
    "        parent[b] = a\n",
    "        number[b] = sum\n",
    "        number[a] = number[b]\n",
    "    return\n",
    "\n",
    "def union_parent(a, b):\n",
    "    a = find_parent(a)\n",
    "    b = find_parent(b)\n",
    "    \n",
    "    if a != b :\n",
    "        parent[b] = a\n",
    "        number[a] += number[b]\n",
    "\n",
    "t = int(input())  \n",
    "for _ in range(t):\n",
    "    parent = dict()\n",
    "    number = dict()\n",
    "\n",
    "    f = int(input())\n",
    "\n",
    "    for _ in range(f):\n",
    "        x,y = input().split()\n",
    "        \n",
    "        if x not in parent:\n",
    "            parent[x] = x\n",
    "            number[x] = 1\n",
    "        if y not in parent:\n",
    "            parent[y] = y\n",
    "            number[y] = 1\n",
    "        \n",
    "        union_parent(x,y)\n",
    "        print(numver[find_parent(x)])"
   ]
  }
 ],
 "metadata": {
  "kernelspec": {
   "display_name": "Python 3",
   "language": "python",
   "name": "python3"
  },
  "language_info": {
   "codemirror_mode": {
    "name": "ipython",
    "version": 3
   },
   "file_extension": ".py",
   "mimetype": "text/x-python",
   "name": "python",
   "nbconvert_exporter": "python",
   "pygments_lexer": "ipython3",
   "version": "3.6.5"
  }
 },
 "nbformat": 4,
 "nbformat_minor": 2
}
