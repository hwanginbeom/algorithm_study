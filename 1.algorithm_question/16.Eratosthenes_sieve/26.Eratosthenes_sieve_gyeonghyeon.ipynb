{
 "cells": [
  {
   "cell_type": "markdown",
   "metadata": {},
   "source": [
    "### 에라토스테네스의 체"
   ]
  },
  {
   "cell_type": "code",
   "execution_count": 1,
   "metadata": {},
   "outputs": [
    {
     "name": "stdout",
     "output_type": "stream",
     "text": [
      "10 7\n",
      "9\n"
     ]
    }
   ],
   "source": [
    "n, k = map(int, input().split())\n",
    "array = [True for i in range(n + 1)]\n",
    "num_list = []\n",
    "\n",
    "for i in range(2, n + 1):\n",
    "    if array[i] == True:\n",
    "        num_list.append(i)\n",
    "        j = 2\n",
    "        while i * j <= n:\n",
    "            if array[i * j] == False:\n",
    "                j += 1\n",
    "                continue\n",
    "            else:\n",
    "                array[i * j] = False\n",
    "                num_list.append((i * j))\n",
    "                j += 1\n",
    "print(num_list[k-1])"
   ]
  },
  {
   "cell_type": "code",
   "execution_count": null,
   "metadata": {},
   "outputs": [],
   "source": [
    "### "
   ]
  },
  {
   "cell_type": "code",
   "execution_count": null,
   "metadata": {},
   "outputs": [],
   "source": []
  }
 ],
 "metadata": {
  "kernelspec": {
   "display_name": "Python 3",
   "language": "python",
   "name": "python3"
  },
  "language_info": {
   "codemirror_mode": {
    "name": "ipython",
    "version": 3
   },
   "file_extension": ".py",
   "mimetype": "text/x-python",
   "name": "python",
   "nbconvert_exporter": "python",
   "pygments_lexer": "ipython3",
   "version": "3.6.5"
  }
 },
 "nbformat": 4,
 "nbformat_minor": 2
}
