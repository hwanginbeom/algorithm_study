{
 "cells": [
  {
   "cell_type": "markdown",
   "metadata": {},
   "source": [
    "## 1753번: 최단경로"
   ]
  },
  {
   "cell_type": "code",
   "execution_count": 11,
   "metadata": {},
   "outputs": [
    {
     "ename": "ValueError",
     "evalue": "not enough values to unpack (expected 2, got 0)",
     "output_type": "error",
     "traceback": [
      "\u001b[1;31m---------------------------------------------------------------------------\u001b[0m",
      "\u001b[1;31mValueError\u001b[0m                                Traceback (most recent call last)",
      "\u001b[1;32m<ipython-input-11-eb32b27f5a3f>\u001b[0m in \u001b[0;36m<module>\u001b[1;34m\u001b[0m\n\u001b[0;32m      5\u001b[0m \u001b[1;33m\u001b[0m\u001b[0m\n\u001b[0;32m      6\u001b[0m \u001b[1;31m# 노드의 개수, 간선의 개수를 입력받기\u001b[0m\u001b[1;33m\u001b[0m\u001b[1;33m\u001b[0m\u001b[1;33m\u001b[0m\u001b[0m\n\u001b[1;32m----> 7\u001b[1;33m \u001b[0mn\u001b[0m\u001b[1;33m,\u001b[0m \u001b[0mm\u001b[0m \u001b[1;33m=\u001b[0m \u001b[0mmap\u001b[0m\u001b[1;33m(\u001b[0m\u001b[0mint\u001b[0m\u001b[1;33m,\u001b[0m \u001b[0minput\u001b[0m\u001b[1;33m(\u001b[0m\u001b[1;33m)\u001b[0m\u001b[1;33m.\u001b[0m\u001b[0msplit\u001b[0m\u001b[1;33m(\u001b[0m\u001b[1;33m)\u001b[0m\u001b[1;33m)\u001b[0m\u001b[1;33m\u001b[0m\u001b[1;33m\u001b[0m\u001b[0m\n\u001b[0m\u001b[0;32m      8\u001b[0m \u001b[1;31m# 시작 노드 번호를 입력받기\u001b[0m\u001b[1;33m\u001b[0m\u001b[1;33m\u001b[0m\u001b[1;33m\u001b[0m\u001b[0m\n\u001b[0;32m      9\u001b[0m \u001b[0mstart\u001b[0m \u001b[1;33m=\u001b[0m \u001b[0mint\u001b[0m\u001b[1;33m(\u001b[0m\u001b[0minput\u001b[0m\u001b[1;33m(\u001b[0m\u001b[1;33m)\u001b[0m\u001b[1;33m)\u001b[0m\u001b[1;33m\u001b[0m\u001b[1;33m\u001b[0m\u001b[0m\n",
      "\u001b[1;31mValueError\u001b[0m: not enough values to unpack (expected 2, got 0)"
     ]
    }
   ],
   "source": [
    "import heapq\n",
    "import sys\n",
    "input = sys.stdin.readline\n",
    "INF = int(1e9) # 무한을 의미하는 값으로 10억을 설정\n",
    "\n",
    "# 노드의 개수, 간선의 개수를 입력받기\n",
    "n, m = map(int, input().split())\n",
    "# 시작 노드 번호를 입력받기\n",
    "start = int(input())\n",
    "# 각 노드에 연결되어 있는 노드에 대한 정보를 담는 리스트 만들기\n",
    "graph = [[] for i in range(n+1)]\n",
    "# 최단 거리 테이블을 모두 무한으로 초기화\n",
    "distance = [INF] * (n+1)\n",
    "\n",
    "# 모든 간선 정보를 입력받기\n",
    "for _ in range(m):\n",
    "    a, b, c = map(int, input().split())\n",
    "    # a번 노드에서 b번 노드로 가는 비용이 c라는 의미\n",
    "    graph[a].append((b,c))\n",
    "    \n",
    "def dijkstra(start):\n",
    "    q=[]\n",
    "    # 시작 노드로 가기 위한 최단 경로는 0으로 설정하며, 큐에 삽입\n",
    "    heapq.heappush(q,(0,start))\n",
    "    distance[start] = 0\n",
    "    while q: # 큐가 비어있지 않다면\n",
    "        # 가장 최단 거리가 짧은 노드에 대한 정보 꺼내기\n",
    "        dist, now = heapq.heappop(q)\n",
    "        # 현재 노드가 이미 처리된 적이 있는 노드라면 무시\n",
    "        if distance[now] < dist:\n",
    "            continue\n",
    "        # 현재 노드와 연결된 다른 인접한 노드들을 확인\n",
    "        for i in graph[now]:\n",
    "            cost = dist + i[1]\n",
    "            # 현재 노드를 거쳐서, 다른 노드로 이동하는 거리가 더 짧은 경우\n",
    "            if cost < distance[i[0]]:\n",
    "                distance[i[0]] = cost\n",
    "                heapq.heappush(q, (cost, i[0]))\n",
    "                \n",
    "# 다익스트라 알고리즘 수행\n",
    "dijkstra(start)\n",
    "\n",
    "# 모든 노드로 가기 위한 최단 거리 출력\n",
    "for i in range(1, n+1):\n",
    "    # 도달할 수 없는 경우, 무한이라고 출력\n",
    "    if distance[i] == INF:\n",
    "        print(\"무한\")\n",
    "    else: # 도달할 수 있는 경우 거리 출력\n",
    "        print(distance[i]) "
   ]
  },
  {
   "cell_type": "markdown",
   "metadata": {},
   "source": [
    "## 특정한 최단 경로"
   ]
  },
  {
   "cell_type": "code",
   "execution_count": null,
   "metadata": {},
   "outputs": [],
   "source": [
    "import heapq\n",
    "\n",
    "\n",
    "def solution2() :\n",
    "    INF = int(1e9)  # 무한을 의미하는 값으로 10억을 설정\n",
    "\n",
    "    V, E = map(int, input().split())\n",
    "    start = 1\n",
    "\n",
    "    graph = [[] for i in range(V + 1)]\n",
    "\n",
    "    for _ in range(E):\n",
    "        u, v, w = map(int, input().split())\n",
    "        graph[u].append((v, w))\n",
    "        graph[v].append((u, w))\n",
    "\n",
    "    v1, v2 = map(int, input().split())\n",
    "\n",
    "    def dijkstra(start):\n",
    "        distance = [INF] * (V + 1)\n",
    "        q = []\n",
    "\n",
    "        # 시작 노드로 가기 위한 최단 거리는 0으로 설정하여, 큐에 삽입\n",
    "        heapq.heappush(q, (0, start))\n",
    "        distance[start] = 0\n",
    "\n",
    "        while q:  # 큐가 비어있지 않다면\n",
    "            # 가장 최단 거리가 짧은 노드에 대한 정보 꺼내기\n",
    "            dist, now = heapq.heappop(q)\n",
    "\n",
    "            # 현재 노드가 이미 처리된 적이 있는 노드라면 무시\n",
    "            if distance[now] < dist:\n",
    "                continue\n",
    "\n",
    "            # 현재 노드와 연결된 다른 인접한 노드들을 확인\n",
    "            for i in graph[now]:\n",
    "                cost = dist + i[1]\n",
    "\n",
    "                # 현재 노드를 거쳐서, 다른 노드로 이동하는 거리가 더 짧은 경우\n",
    "                if cost < distance[i[0]]:\n",
    "                    distance[i[0]] = cost\n",
    "                    heapq.heappush(q, (cost, i[0]))\n",
    "\n",
    "        return distance\n",
    "\n",
    "    # 다익스트라 알고리즘을 수행\n",
    "    start = dijkstra(start)\n",
    "    v1_path = dijkstra(v1)\n",
    "    v2_path = dijkstra(v2)\n",
    "\n",
    "    cnt = min(start[v1] + v1_path[v2] + v2_path[V], start[v2] + v2_path[v1] + v1_path[V])\n",
    "\n",
    "    print(cnt if cnt < INF else -1)\n",
    "\n",
    "solution2()"
   ]
  }
 ],
 "metadata": {
  "kernelspec": {
   "display_name": "Python 3",
   "language": "python",
   "name": "python3"
  },
  "language_info": {
   "codemirror_mode": {
    "name": "ipython",
    "version": 3
   },
   "file_extension": ".py",
   "mimetype": "text/x-python",
   "name": "python",
   "nbconvert_exporter": "python",
   "pygments_lexer": "ipython3",
   "version": "3.7.6"
  }
 },
 "nbformat": 4,
 "nbformat_minor": 4
}
