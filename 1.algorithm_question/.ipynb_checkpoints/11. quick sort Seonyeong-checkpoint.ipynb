{
 "cells": [
  {
   "cell_type": "markdown",
   "metadata": {},
   "source": [
    "## 좌표 정렬하기"
   ]
  },
  {
   "cell_type": "code",
   "execution_count": 1,
   "metadata": {},
   "outputs": [
    {
     "name": "stdout",
     "output_type": "stream",
     "text": [
      "10\n",
      "1 4\n",
      "1 3\n",
      "-1 8\n",
      "5 9\n",
      "7 7\n",
      "5 8\n",
      "9 5\n",
      "4 6\n",
      "5 6\n",
      "2 4\n",
      "-1 8\n",
      "1 3\n",
      "1 4\n",
      "2 4\n",
      "4 6\n",
      "5 6\n",
      "5 8\n",
      "5 9\n",
      "7 7\n",
      "9 5\n"
     ]
    }
   ],
   "source": [
    "n = int(input())\n",
    "\n",
    "points = []\n",
    "\n",
    "for i in range(n):\n",
    "    x,y = input().split()\n",
    "    points.append((x,y))\n",
    "\n",
    "for i in range(len(points)):\n",
    "    min_key_index = i\n",
    "    for j in range(i+1, len(points)):\n",
    "        if points[min_key_index][0] == points[j][0]:\n",
    "            if points[min_key_index][1] > points[j][1]:\n",
    "                points[j], points[min_key_index] = points[min_key_index], points[j]\n",
    "        if points[min_key_index][0] > points[j][0]:\n",
    "            min_key_index = j\n",
    "    points[i], points[min_key_index] = points[min_key_index], points[i]\n",
    "\n",
    "for (x,y) in points:\n",
    "    print(x, y, sep=' ')"
   ]
  },
  {
   "cell_type": "markdown",
   "metadata": {},
   "source": [
    "## 좌표 정렬하기 2"
   ]
  },
  {
   "cell_type": "code",
   "execution_count": 4,
   "metadata": {},
   "outputs": [
    {
     "name": "stdout",
     "output_type": "stream",
     "text": [
      "5\n",
      "0 4\n",
      "1 2\n",
      "1 -1\n",
      "2 2\n",
      "3 3\n",
      "1 -1\n",
      "1 2\n",
      "2 2\n",
      "3 3\n",
      "0 4\n"
     ]
    }
   ],
   "source": [
    "n = int(input())\n",
    "\n",
    "points = []\n",
    "\n",
    "for i in range(n):\n",
    "    x,y = input().split()\n",
    "    points.append((x,y))\n",
    "\n",
    "for i in range(len(points)):\n",
    "    min_key_index = i\n",
    "    for j in range(i+1, len(points)):\n",
    "        if points[min_key_index][1] == points[j][1]:\n",
    "            if points[min_key_index][0] > points[j][0]:\n",
    "                points[j], points[min_key_index] = points[min_key_index], points[j]\n",
    "        if points[min_key_index][1] > points[j][1]:\n",
    "            min_key_index = j\n",
    "    points[i], points[min_key_index] = points[min_key_index], points[i]\n",
    "\n",
    "for (x,y) in points:\n",
    "    print(x, y, sep=' ')"
   ]
  }
 ],
 "metadata": {
  "kernelspec": {
   "display_name": "Python 3",
   "language": "python",
   "name": "python3"
  },
  "language_info": {
   "codemirror_mode": {
    "name": "ipython",
    "version": 3
   },
   "file_extension": ".py",
   "mimetype": "text/x-python",
   "name": "python",
   "nbconvert_exporter": "python",
   "pygments_lexer": "ipython3",
   "version": "3.7.6"
  }
 },
 "nbformat": 4,
 "nbformat_minor": 4
}
