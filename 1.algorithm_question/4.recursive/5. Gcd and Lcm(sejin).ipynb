{
 "cells": [
  {
   "cell_type": "markdown",
   "metadata": {},
   "source": [
    "## 재귀함수\n",
    "<br>\n",
    "- 최대공약수와 최소공배수\n",
    "<br>\n",
    "- 2020.10.30 (금)"
   ]
  },
  {
   "cell_type": "code",
   "execution_count": 13,
   "metadata": {},
   "outputs": [
    {
     "name": "stdout",
     "output_type": "stream",
     "text": [
      "24 18\n",
      "6\n",
      "72\n"
     ]
    }
   ],
   "source": [
    "# 최대공약수\n",
    "def gcd(a,b) :\n",
    "    if a % b == 0 :\n",
    "        return b\n",
    "    else :\n",
    "        return gcd(b, a%b)\n",
    "\n",
    "# 최소공배수\n",
    "def lcm(a,b) :\n",
    "    a1 = a // gcd(a,b)\n",
    "    b1 = b // gcd(a,b)\n",
    "    return a1*b1*gcd(a,b)\n",
    "\n",
    "    \n",
    "a,b = list(map(int, input().split()))\n",
    "\n",
    "print(gcd(a,b))\n",
    "print(lcm(a,b))"
   ]
  }
 ],
 "metadata": {
  "kernelspec": {
   "display_name": "Python 3",
   "language": "python",
   "name": "python3"
  },
  "language_info": {
   "codemirror_mode": {
    "name": "ipython",
    "version": 3
   },
   "file_extension": ".py",
   "mimetype": "text/x-python",
   "name": "python",
   "nbconvert_exporter": "python",
   "pygments_lexer": "ipython3",
   "version": "3.6.5"
  }
 },
 "nbformat": 4,
 "nbformat_minor": 4
}
