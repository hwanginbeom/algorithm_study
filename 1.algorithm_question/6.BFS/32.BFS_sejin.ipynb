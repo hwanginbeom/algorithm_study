{
 "cells": [
  {
   "cell_type": "markdown",
   "metadata": {},
   "source": [
    "### 토마토"
   ]
  },
  {
   "cell_type": "code",
   "execution_count": null,
   "metadata": {},
   "outputs": [],
   "source": [
    "import sys \n",
    "from collections import deque \n",
    "input = sys.stdin.readline \n",
    "m, n = map(int, input().split()) \n",
    "\n",
    "arr = [] \n",
    "deq = deque() \n",
    "visit = [[0 for i in range(m)] for j in range(n)] \n",
    "\n",
    "\n",
    "for i in range(n): \n",
    "    arr.append([*map(int, input().split())]) \n",
    "    \n",
    "for i in range(n): \n",
    "    for j in range(m): \n",
    "        if arr[i][j] == 1: \n",
    "            deq.append((i, j)) \n",
    "            visit[i][j] = 1 \n",
    "            \n",
    "            \n",
    "# 한 번 배열 전체를 순회하면서 안 익은 토마토가 있는지 확인 한다. \n",
    "# 익은 토마토는 존재하고, 안 익은 토마토가 없다면 처음부터 모든 토마토가 익은 상태이기 때문에 0을 출력한다.\n",
    "\n",
    "flag = 1 \n",
    "for i in range(n): \n",
    "    for j in range(m): \n",
    "        if arr[i][j] == 0: \n",
    "            flag = 0 \n",
    "            break \n",
    "if flag and deq: \n",
    "    print(0) \n",
    "    exit(0) \n",
    "    \n",
    "    \n",
    "# 모든 토마토가 익지 않았다면 하루(단계)를 카운트 하면서 BFS를 수행한다. \n",
    "#이 떄 모든 점을 순회하는게 아니라 익은 토마토를 기준으로, \n",
    "#해당 토마토에게 영향을 받는 부분에 대해서만 BFS를 진행한다.  \n",
    "\n",
    "d_x = [0, 0, 1, -1] \n",
    "d_y = [1, -1, 0, 0] \n",
    "ans = 0 \n",
    "while 1: \n",
    "    deq_second = deque() \n",
    "    while deq: \n",
    "        x, y = deq.popleft() \n",
    "        for i in range(4): \n",
    "            new_x = x + d_x[i] \n",
    "            new_y = y + d_y[i] \n",
    "            if not(0 <= new_x < n and 0 <= new_y < m): continue \n",
    "            if visit[new_x][new_y] or arr[new_x][new_y] != 0: continue \n",
    "            deq_second.append((new_x, new_y)) \n",
    "            visit[new_x][new_y] = 1 \n",
    "            arr[new_x][new_y] = 1 \n",
    "        deq = deq_second \n",
    "        if not deq: break \n",
    "        ans += 1 \n",
    "        \n",
    "\n",
    "#아직 익지 않은 토마토가 있는지 확인하다. \n",
    "\n",
    "for i in range(n): \n",
    "    if 0 in arr[i]: \n",
    "        print(-1) \n",
    "        exit(0) \n",
    "        \n",
    "print(ans)"
   ]
  }
 ],
 "metadata": {
  "kernelspec": {
   "display_name": "Python 3",
   "language": "python",
   "name": "python3"
  },
  "language_info": {
   "codemirror_mode": {
    "name": "ipython",
    "version": 3
   },
   "file_extension": ".py",
   "mimetype": "text/x-python",
   "name": "python",
   "nbconvert_exporter": "python",
   "pygments_lexer": "ipython3",
   "version": "3.8.3"
  }
 },
 "nbformat": 4,
 "nbformat_minor": 4
}
