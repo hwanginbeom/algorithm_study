{
 "cells": [
  {
   "cell_type": "code",
   "execution_count": null,
   "metadata": {},
   "outputs": [],
   "source": [
    "size = input()\n",
    "rows = size.split()[0]\n",
    "columns = size.split()[1]\n",
    "\n",
    "# matrix 배열\n",
    "matrix = [input() for n in range(rows)]\n",
    "# 방문경로 배열\n",
    "visited = [[0]*columns for n in range(rows)]\n",
    "# 좌/우/위/아래 이동\n",
    "dx, dy = [-1,1,0,0],[0,0,-1,1]\n",
    "\n",
    "# BFS 경로 탐색\n",
    "# queue 방식 사용\n",
    "queue = [(0,0)]\n",
    "visited[0][0] = 1\n",
    "\n",
    "while queue:\n",
    "  x,y = queue.pop(0)\n",
    "\n",
    "  if x == rows-1 and y == columns-1:\n",
    "    # 최종 경로 도착\n",
    "    print(visited[x][y])\n",
    "    break\n",
    "  \n",
    "  for i in range(4):\n",
    "    nx = x + dx[i]\n",
    "    ny = y + dy[i]\n",
    "    if 0<= nx < rows and 0 <= ny <columns:\n",
    "      if visited[nx][ny] == 0 and matrix[nx][ny] == 1:\n",
    "        visited[nx][ny] = visited[x][y] + 1\n",
    "        queue.append((nx, ny))"
   ]
  }
 ],
 "metadata": {
  "kernelspec": {
   "display_name": "Python 3",
   "language": "python",
   "name": "python3"
  },
  "language_info": {
   "codemirror_mode": {
    "name": "ipython",
    "version": 3
   },
   "file_extension": ".py",
   "mimetype": "text/x-python",
   "name": "python",
   "nbconvert_exporter": "python",
   "pygments_lexer": "ipython3",
   "version": "3.7.6"
  }
 },
 "nbformat": 4,
 "nbformat_minor": 4
}
