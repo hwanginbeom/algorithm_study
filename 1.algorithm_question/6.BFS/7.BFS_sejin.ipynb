{
 "cells": [
  {
   "cell_type": "markdown",
   "metadata": {},
   "source": [
    "## BFS\n",
    "<br>\n",
    "- 미로찾기\n",
    "<br>\n",
    "- 2020.11.03 (화)"
   ]
  },
  {
   "cell_type": "code",
   "execution_count": 1,
   "metadata": {},
   "outputs": [
    {
     "name": "stdout",
     "output_type": "stream",
     "text": [
      "4 6\n",
      "101111\n",
      "101010\n",
      "101011\n",
      "111011\n",
      "15\n"
     ]
    }
   ],
   "source": [
    "from collections import deque\n",
    " \n",
    "dx = [0, 0, 1, -1]\n",
    "dy = [1, -1, 0, 0]\n",
    " \n",
    "n, m = map(int, input().split())\n",
    "a = [list(map(int, list(input()))) for _ in range(n)]\n",
    "\n",
    "q = deque()\n",
    "check = [[False]*m for _ in range(n)]\n",
    "dist = [[0]*m for _ in range(n)]\n",
    " \n",
    "# 시작점\n",
    "q.append((0,0))\n",
    "check[0][0] = True\n",
    "dist[0][0] = 1\n",
    " \n",
    "while q:\n",
    "    x, y = q.popleft()\n",
    "    for k in range(4):\n",
    "        nx, ny = x+dx[k], y+dy[k]\n",
    "        if 0 <= nx < n and 0 <= ny < m:\n",
    "            if check[nx][ny] == False and a[nx][ny] == 1:\n",
    "                q.append((nx,ny))\n",
    "                dist[nx][ny] = dist[x][y] + 1\n",
    "                check[nx][ny] = True\n",
    " \n",
    "print(dist[n-1][m-1])"
   ]
  }
 ],
 "metadata": {
  "kernelspec": {
   "display_name": "Python 3",
   "language": "python",
   "name": "python3"
  },
  "language_info": {
   "codemirror_mode": {
    "name": "ipython",
    "version": 3
   },
   "file_extension": ".py",
   "mimetype": "text/x-python",
   "name": "python",
   "nbconvert_exporter": "python",
   "pygments_lexer": "ipython3",
   "version": "3.8.3"
  }
 },
 "nbformat": 4,
 "nbformat_minor": 4
}
