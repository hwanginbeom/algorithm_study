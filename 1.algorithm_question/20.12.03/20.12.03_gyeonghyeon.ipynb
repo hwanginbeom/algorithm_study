{
 "cells": [
  {
   "cell_type": "markdown",
   "metadata": {},
   "source": [
    "### 잃어버린 괄호"
   ]
  },
  {
   "cell_type": "code",
   "execution_count": 1,
   "metadata": {},
   "outputs": [
    {
     "name": "stdout",
     "output_type": "stream",
     "text": [
      "55-50+40\n",
      "-35\n"
     ]
    }
   ],
   "source": [
    "example = input().split('-') \n",
    "result = 0\n",
    "for i in example[0].split('+') : \n",
    "    result += int(i) \n",
    "for i in example[1:] : \n",
    "    for j in i.split('+'): \n",
    "        result -= int(j) \n",
    "print(result)"
   ]
  },
  {
   "cell_type": "markdown",
   "metadata": {},
   "source": [
    "### 동전 0"
   ]
  },
  {
   "cell_type": "code",
   "execution_count": 2,
   "metadata": {},
   "outputs": [
    {
     "name": "stdout",
     "output_type": "stream",
     "text": [
      "10 4200\n",
      "1\n",
      "5\n",
      "10\n",
      "50\n",
      "100\n",
      "500\n",
      "1000\n",
      "5000\n",
      "10000\n",
      "50000\n",
      "k + d * i 4200 i 50000\n",
      "k + d * i 4200 i 10000\n",
      "k + d * i 4200 i 5000\n",
      "k + d * i 4200 i 1000\n",
      "k + d * i 2200 i 500\n",
      "k + d * i 600 i 100\n",
      "k + d * i 300 i 50\n",
      "k + d * i 60 i 10\n",
      "k + d * i 30 i 5\n",
      "k + d * i 6 i 1\n",
      "6\n"
     ]
    }
   ],
   "source": [
    "n, k = map(int , input().split())\n",
    "array = [  int(input()) for i in range(n) ]\n",
    "d  = 0\n",
    "for i in array[::-1]:\n",
    "    print('k + d * i',k + d * i, 'i',i)\n",
    "    d, k = divmod(k + d * i, i)\n",
    "print(d)"
   ]
  }
 ],
 "metadata": {
  "kernelspec": {
   "display_name": "Python 3",
   "language": "python",
   "name": "python3"
  },
  "language_info": {
   "codemirror_mode": {
    "name": "ipython",
    "version": 3
   },
   "file_extension": ".py",
   "mimetype": "text/x-python",
   "name": "python",
   "nbconvert_exporter": "python",
   "pygments_lexer": "ipython3",
   "version": "3.6.5"
  }
 },
 "nbformat": 4,
 "nbformat_minor": 2
}
