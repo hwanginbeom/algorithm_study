{
 "cells": [
  {
   "cell_type": "markdown",
   "metadata": {},
   "source": [
    "### N과 M (3)"
   ]
  },
  {
   "cell_type": "code",
   "execution_count": 1,
   "metadata": {},
   "outputs": [
    {
     "name": "stdout",
     "output_type": "stream",
     "text": [
      "4 2\n",
      "1 1\n",
      "1 2\n",
      "1 3\n",
      "1 4\n",
      "2 1\n",
      "2 2\n",
      "2 3\n",
      "2 4\n",
      "3 1\n",
      "3 2\n",
      "3 3\n",
      "3 4\n",
      "4 1\n",
      "4 2\n",
      "4 3\n",
      "4 4\n"
     ]
    }
   ],
   "source": [
    "import itertools\n",
    "\n",
    "n, m = map(int, input().split())\n",
    "num_list = [ str(i) for i in range(1, n+1)]\n",
    "lll = list(map(' '.join, itertools.product(num_list, repeat=m)))\n",
    "for i in lll:\n",
    "    print(i)"
   ]
  },
  {
   "cell_type": "markdown",
   "metadata": {},
   "source": [
    "### 연산자 끼워넣기"
   ]
  },
  {
   "cell_type": "code",
   "execution_count": null,
   "metadata": {},
   "outputs": [],
   "source": [
    "from itertools import permutations  # 순열 함수\n",
    "\n",
    "N = int(input())\n",
    "A = list(map(int, input().split()))\n",
    "plus, minus, multiple, division = map(int, input().split())\n",
    "\n",
    "# 각각의 연산자를 모두 입력\n",
    "operation_list = []\n",
    "operation_list += [1] * plus\n",
    "operation_list += [2] * minus\n",
    "operation_list += [3] * multiple\n",
    "operation_list += [4] * division\n",
    "# 중복되지 않게 연산자 셋을 종류별로 만들어줌\n",
    "operation_set = []\n",
    "for numbers in list(permutations(operation_list)):\n",
    "    operation_set.append(numbers)\n",
    "operation_set = list(set(operation_set))  # 중복 제거\n",
    "# +, -, *, //가 나올 경우를 나누어준다\n",
    "max_answer = -1000000001\n",
    "min_answer = 1000000001\n",
    "for case in operation_set:\n",
    "    answer = A[0]  # 첫 값 대입\n",
    "\n",
    "    for i in range(N - 1):\n",
    "        if case[i] == 1:\n",
    "            answer += A[i + 1]\n",
    "        elif case[i] == 2:\n",
    "            answer -= A[i + 1]\n",
    "        elif case[i] == 3:\n",
    "            answer *= A[i + 1]\n",
    "        elif case[i] == 4:  # 나눗셈 정의를 문제에 따라줌\n",
    "            if answer < 0:\n",
    "                answer = -(-answer // A[i + 1])\n",
    "            else:\n",
    "                answer //= A[i + 1]\n",
    "    # 최댓값 최솟값일 경우\n",
    "    if answer < min_answer:\n",
    "        min_answer = answer\n",
    "    if answer > max_answer:\n",
    "        max_answer = answer\n",
    "\n",
    "print(max_answer)\n",
    "print(min_answer)\n"
   ]
  }
 ],
 "metadata": {
  "kernelspec": {
   "display_name": "Python 3",
   "language": "python",
   "name": "python3"
  },
  "language_info": {
   "codemirror_mode": {
    "name": "ipython",
    "version": 3
   },
   "file_extension": ".py",
   "mimetype": "text/x-python",
   "name": "python",
   "nbconvert_exporter": "python",
   "pygments_lexer": "ipython3",
   "version": "3.6.5"
  }
 },
 "nbformat": 4,
 "nbformat_minor": 2
}
