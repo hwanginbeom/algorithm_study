{
 "cells": [
  {
   "cell_type": "markdown",
   "metadata": {},
   "source": [
    "### 베르트랑 공준"
   ]
  },
  {
   "cell_type": "code",
   "execution_count": 54,
   "metadata": {},
   "outputs": [
    {
     "name": "stdout",
     "output_type": "stream",
     "text": [
      "1\n",
      "1\n",
      "10\n",
      "4\n",
      "13\n",
      "3\n",
      "100\n",
      "21\n",
      "1000\n",
      "135\n",
      "10000\n",
      "1033\n",
      "100000\n",
      "8392\n",
      "0\n"
     ]
    }
   ],
   "source": [
    "import math\n",
    "\n",
    "def is_prime_number(x) :\n",
    "    for i in range(2, int(math.sqrt(x)) + 1) :\n",
    "        if x % i == 0 :\n",
    "            return False\n",
    "    return True\n",
    "\n",
    "for _ in range(8) :\n",
    "    n = int(input())\n",
    "\n",
    "    result = []\n",
    "    if n == 0 :\n",
    "        break\n",
    "    else :\n",
    "        for j in range(n+1, 2*n+1) :\n",
    "            result.append(is_prime_number(j))\n",
    "    print(sum(result))\n",
    "    "
   ]
  },
  {
   "cell_type": "markdown",
   "metadata": {},
   "source": [
    "### 소수"
   ]
  },
  {
   "cell_type": "code",
   "execution_count": 55,
   "metadata": {},
   "outputs": [
    {
     "name": "stdout",
     "output_type": "stream",
     "text": [
      "60\n",
      "100\n",
      "620\n",
      "61\n"
     ]
    }
   ],
   "source": [
    "import math\n",
    "\n",
    "def is_prime_number(x) :\n",
    "    for i in range(2, int(math.sqrt(x)) + 1) :\n",
    "        if x % i == 0 :\n",
    "            return False\n",
    "    return True\n",
    "\n",
    "m = int(input())\n",
    "n = int(input())\n",
    "\n",
    "result = []\n",
    "for j in range(m, n+1) :\n",
    "    if is_prime_number(j) == True :\n",
    "        result.append(j)\n",
    "\n",
    "if result == [] :\n",
    "    print(-1)\n",
    "else :\n",
    "    print(sum(result))\n",
    "    print(min(result))"
   ]
  }
 ],
 "metadata": {
  "kernelspec": {
   "display_name": "Python 3",
   "language": "python",
   "name": "python3"
  },
  "language_info": {
   "codemirror_mode": {
    "name": "ipython",
    "version": 3
   },
   "file_extension": ".py",
   "mimetype": "text/x-python",
   "name": "python",
   "nbconvert_exporter": "python",
   "pygments_lexer": "ipython3",
   "version": "3.8.3"
  }
 },
 "nbformat": 4,
 "nbformat_minor": 4
}
