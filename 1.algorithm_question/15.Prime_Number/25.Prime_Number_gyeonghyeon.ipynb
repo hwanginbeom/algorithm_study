{
 "cells": [
  {
   "cell_type": "markdown",
   "metadata": {},
   "source": [
    "### 베르트랑 공준"
   ]
  },
  {
   "cell_type": "code",
   "execution_count": 1,
   "metadata": {},
   "outputs": [
    {
     "name": "stdout",
     "output_type": "stream",
     "text": [
      "1\n",
      "1\n",
      "10\n",
      "4\n",
      "13\n",
      "3\n",
      "0\n"
     ]
    }
   ],
   "source": [
    "N = 123456 * 2 + 1\n",
    "sieve = [True] * N\n",
    "for i in range(2, int(N**0.5)+1):\n",
    "    if sieve[i]:\n",
    "        for j in range(2*i, N, i):\n",
    "            sieve[j] = False\n",
    "\n",
    "def prime_cnt(val):\n",
    "    cnt = 0\n",
    "    for i in range(val + 1, val * 2 + 1):\n",
    "        if sieve[i]:\n",
    "            cnt += 1\n",
    "    print(cnt)\n",
    "\n",
    "while True:\n",
    "    val = int(input())\n",
    "    if val == 0:\n",
    "        break\n",
    "    prime_cnt(val)"
   ]
  },
  {
   "cell_type": "markdown",
   "metadata": {},
   "source": [
    "### 소수"
   ]
  },
  {
   "cell_type": "code",
   "execution_count": 6,
   "metadata": {},
   "outputs": [],
   "source": [
    "def is_prime_number(x):\n",
    "    for i in range(2, int(x ** 0.5) + 1):\n",
    "        if x % i == 0:\n",
    "            return False\n",
    "    return True\n",
    "\n",
    "num_list = []\n",
    "for i in range(2,10000+1):\n",
    "    if is_prime_number(i) == True:\n",
    "        num_list.append(i)\n",
    "m = int(input())\n",
    "n = int(input())\n",
    "sum_num = []\n",
    "for i in range(len(num_list)):\n",
    "    if m <= num_list[i] <= n:\n",
    "        sum_num.append(num_list[i])\n",
    "\n",
    "if len(sum_num) == 0:\n",
    "    print(-1)\n",
    "else:\n",
    "    print(sum(sum_num))\n",
    "    print(min(sum_num))"
   ]
  }
 ],
 "metadata": {
  "kernelspec": {
   "display_name": "Python 3",
   "language": "python",
   "name": "python3"
  },
  "language_info": {
   "codemirror_mode": {
    "name": "ipython",
    "version": 3
   },
   "file_extension": ".py",
   "mimetype": "text/x-python",
   "name": "python",
   "nbconvert_exporter": "python",
   "pygments_lexer": "ipython3",
   "version": "3.6.5"
  }
 },
 "nbformat": 4,
 "nbformat_minor": 2
}
