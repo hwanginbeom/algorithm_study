{
 "cells": [
  {
   "cell_type": "markdown",
   "metadata": {},
   "source": [
    "### 미확인 도착지"
   ]
  },
  {
   "cell_type": "code",
   "execution_count": 22,
   "metadata": {},
   "outputs": [
    {
     "name": "stdout",
     "output_type": "stream",
     "text": [
      "2\n",
      "5 4 2\n",
      "1 2 3\n",
      "1 2 6\n",
      "2 3 2\n",
      "3 4 4\n",
      "3 5 3\n",
      "5\n",
      "4\n",
      "[4, 5]\n",
      "[4, 5]\n",
      "6 9 2\n",
      "2 3 1\n",
      "1 2 1\n",
      "1 3 3\n",
      "2 4 4\n",
      "2 5 5\n",
      "3 4 3\n",
      "3 6 2\n",
      "4 5 4\n",
      "4 6 3\n",
      "5 6 7\n",
      "5\n",
      "6\n",
      "[6]\n",
      "[6]\n"
     ]
    }
   ],
   "source": [
    "import heapq\n",
    "INF = int(1e9)\n",
    "\n",
    " \n",
    "def dijkstra(n,graph,start):\n",
    "    distance = [INF] * (n + 1)\n",
    "    q = []\n",
    "    heapq.heappush(q, (0, start))\n",
    "    distance[start] = 0\n",
    "    while q:\n",
    "        dist, now = heapq.heappop(q)\n",
    "        if distance[now] < dist:\n",
    "                continue\n",
    "        for i in graph[now]:\n",
    "            cost = dist + graph[now][i]\n",
    "            if cost < distance[i]:\n",
    "                distance[i] = cost\n",
    "                heapq.heappush(q, (cost, i))\n",
    "    return distance\n",
    "T = int(input())\n",
    "while T:\n",
    "    n,m,t = map(int, input().split())\n",
    "    s,g,h = map(int, input().split())\n",
    "    graph = [dict() for i in range(n + 1)]    \n",
    "\n",
    "    for i in range(m):\n",
    "        a,b,d = map(int, input().split())\n",
    "        if (a,b) == (g,h) or (a,b) == (h,g):\n",
    "            graph[a][b] = graph[b][a] = 2 * d - 1\n",
    "        else:\n",
    "            graph[a][b] = graph[b][a] = 2 * d\n",
    "    target = [int(input()) for _ in range(t)]\n",
    "    result = set()\n",
    "    distance = dijkstra(n, graph, s)\n",
    "    for tt in target:\n",
    "        if distance[tt] % 2 and distance[tt] < INF: \n",
    "            result.add(tt)\n",
    "    print(*sorted(result))\n",
    "    print(sorted(result))\n",
    "    T -= 1\n",
    "            \n"
   ]
  },
  {
   "cell_type": "markdown",
   "metadata": {},
   "source": [
    "### KCM Travel"
   ]
  },
  {
   "cell_type": "code",
   "execution_count": 2,
   "metadata": {},
   "outputs": [
    {
     "name": "stdout",
     "output_type": "stream",
     "text": [
      "2\n",
      "3 100 3\n",
      "1 2 1 1\n",
      "2 3 1 1\n",
      "1 3 3 30\n",
      "2\n",
      "4 10 4\n",
      "1 2 5 3\n",
      "2 3 5 4\n",
      "3 4 1 5\n",
      "1 3 10 6\n",
      "Poor KCM\n"
     ]
    }
   ],
   "source": [
    "INF=int(1e9)\n",
    "for __ in range(int(input())):\n",
    "    n,m,k=map(int,input().split())\n",
    "    graph =[[] for _ in range(n+1)]\n",
    "    for i in range(k):\n",
    "        u,v,c,d=map(int,input().split())\n",
    "        graph[u].append((v,c,d))\n",
    "    money=[[INF]*(m+1) for _ in range(n+1)]\n",
    "    money[1][0]=0\n",
    "    for i in range(m+1):\n",
    "        for x in range(1,n+1):\n",
    "            if money[x][i]==INF:continue\n",
    "            t=money[x][i]\n",
    "            for nx,ne,nt in graph[x]:\n",
    "                if ne+i>m:continue\n",
    "                money[nx][ne+i]=min(money[nx][ne+i],t+nt)\n",
    "    k=min(money[n])\n",
    "    print([k,'Poor KCM'][k==INF])"
   ]
  }
 ],
 "metadata": {
  "kernelspec": {
   "display_name": "Python 3",
   "language": "python",
   "name": "python3"
  },
  "language_info": {
   "codemirror_mode": {
    "name": "ipython",
    "version": 3
   },
   "file_extension": ".py",
   "mimetype": "text/x-python",
   "name": "python",
   "nbconvert_exporter": "python",
   "pygments_lexer": "ipython3",
   "version": "3.6.5"
  }
 },
 "nbformat": 4,
 "nbformat_minor": 2
}
