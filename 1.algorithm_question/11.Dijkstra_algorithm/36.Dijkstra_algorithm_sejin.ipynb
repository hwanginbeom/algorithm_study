{
 "cells": [
  {
   "cell_type": "markdown",
   "metadata": {},
   "source": [
    "### 파티"
   ]
  },
  {
   "cell_type": "code",
   "execution_count": null,
   "metadata": {},
   "outputs": [],
   "source": [
    "import sys, heapq\n",
    "\n",
    "INF = sys.maxsize\n",
    "input = sys.stdin.readline\n",
    "\n",
    "def dij(x):\n",
    "    d = [INF]*n\n",
    "    heapq.heappush(heap, [0, x])\n",
    "    d[x] = 0\n",
    "    while heap:\n",
    "        w, x = heapq.heappop(heap)\n",
    "        for nw, nx in a[x]:\n",
    "            nw += w\n",
    "            if nw < d[nx]:\n",
    "                d[nx] = nw\n",
    "                heapq.heappush(heap, [nw, nx])\n",
    "    return d\n",
    "\n",
    "n, m, t = map(int, input().split())\n",
    "a = [[]*n for _ in range(n)]\n",
    "heap = []\n",
    "\n",
    "for i in range(m):\n",
    "    x, y, w = map(int, input().split())\n",
    "    a[x-1].append([w, y-1])\n",
    "\n",
    "ans = [0]*n\n",
    "for i in range(n):\n",
    "    d = dij(i)\n",
    "    ans[i] += d[t-1]\n",
    "    d = dij(t-1)\n",
    "    ans[i] += d[i]\n",
    "print(max(ans))"
   ]
  }
 ],
 "metadata": {
  "kernelspec": {
   "display_name": "Python 3",
   "language": "python",
   "name": "python3"
  },
  "language_info": {
   "codemirror_mode": {
    "name": "ipython",
    "version": 3
   },
   "file_extension": ".py",
   "mimetype": "text/x-python",
   "name": "python",
   "nbconvert_exporter": "python",
   "pygments_lexer": "ipython3",
   "version": "3.8.3"
  }
 },
 "nbformat": 4,
 "nbformat_minor": 4
}
