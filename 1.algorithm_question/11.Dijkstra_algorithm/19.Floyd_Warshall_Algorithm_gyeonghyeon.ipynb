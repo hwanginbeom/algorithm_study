{
 "cells": [
  {
   "cell_type": "markdown",
   "metadata": {},
   "source": [
    "### 플로이드"
   ]
  },
  {
   "cell_type": "code",
   "execution_count": 4,
   "metadata": {},
   "outputs": [
    {
     "name": "stdout",
     "output_type": "stream",
     "text": [
      "5\n",
      "2\n",
      "1 2 2\n",
      "1 3 3\n",
      "[[100001, 100001, 100001, 100001, 100001, 100001], [100001, 0, 2, 3, 0, 0], [100001, 0, 0, 0, 0, 0], [100001, 0, 0, 0, 0, 0], [100001, 0, 0, 0, 0, 0], [100001, 0, 0, 0, 0, 0]]\n",
      "[[100001, 100001, 100001, 100001, 100001, 100001], [100001, 0, 2, 3, 0, 0], [100001, 0, 0, 0, 0, 0], [100001, 0, 0, 0, 0, 0], [100001, 0, 0, 0, 0, 0], [100001, 0, 0, 0, 0, 0]]\n",
      "0 2 3 0 0\n",
      "0 0 0 0 0\n",
      "0 0 0 0 0\n",
      "0 0 0 0 0\n",
      "0 0 0 0 0\n"
     ]
    }
   ],
   "source": [
    "INF = int(1e9) \n",
    "\n",
    "\n",
    "n = int(input())\n",
    "m = int(input())\n",
    "\n",
    "graph = [[INF] * (n + 1) for _ in range(n + 1)]\n",
    "\n",
    "\n",
    "for a in range(1, n + 1):\n",
    "    for b in range(1, n + 1):\n",
    "        if a == b:\n",
    "            graph[a][b] = 0\n",
    "\n",
    "\n",
    "for _ in range(m):\n",
    "    a, b, c = map(int, input().split())\n",
    "    if graph[a][b] == INF:\n",
    "        graph[a][b]= c\n",
    "    elif graph[a][b] != INF and c < graph[a][b]:\n",
    "        graph[a][b] = c\n",
    "\n",
    "for k in range(1, n + 1):\n",
    "    for a in range(1, n + 1):\n",
    "        for b in range(1, n + 1):\n",
    "            graph[a][b] = min(graph[a][b], graph[a][k] + graph[k][b])\n",
    "\n",
    "for k in range(1, n + 1):\n",
    "    for a in range(1, n + 1):\n",
    "        for b in range(1, n + 1):\n",
    "            if graph[a][b] == INF:\n",
    "                graph[a][b] = 0\n",
    "            if graph[a][k] == INF:\n",
    "                graph[a][k] = 0\n",
    "            if graph[k][b] == INF:\n",
    "                graph[k][b] = 0                        \n",
    "print(graph)\n",
    "for i in range(1,n+1):\n",
    "    list_num = map(str,graph[i][1:])\n",
    "    print(' '.join(list_num))"
   ]
  },
  {
   "cell_type": "markdown",
   "metadata": {},
   "source": [
    "### 운동"
   ]
  },
  {
   "cell_type": "code",
   "execution_count": 29,
   "metadata": {},
   "outputs": [
    {
     "name": "stdout",
     "output_type": "stream",
     "text": [
      "3 4\n",
      "1 2 1\n",
      "3 2 1\n",
      "1 3 5\n",
      "2 3 2\n",
      "1 1\n",
      "1 2\n",
      "1 3\n",
      "2 1\n",
      "2 2\n",
      "2 3\n",
      "3\n",
      "3 1\n",
      "3 2\n",
      "3\n",
      "3 3\n",
      "3\n"
     ]
    }
   ],
   "source": [
    "INF = int(100000) \n",
    "\n",
    "n,m = map(int, input().split())\n",
    "\n",
    "\n",
    "graph = [[INF] * (n + 1) for _ in range(n + 1)]\n",
    "\n",
    "\n",
    "for a in range(1, n + 1):\n",
    "    for b in range(1, n + 1):\n",
    "        if a == b:\n",
    "            graph[a][b] = 0\n",
    "\n",
    "\n",
    "for _ in range(m):\n",
    "    a, b, c = map(int, input().split())\n",
    "    graph[a][b] = c\n",
    "\n",
    "\n",
    "    for a in range(1, n + 1):\n",
    "        for b in range(1, n + 1):\n",
    "            graph[a][b] = min(graph[a][b], graph[a][k] + graph[k][b])\n",
    "\n",
    "        \n",
    "small_list = INF           \n",
    "for a in range(1, n + 1):\n",
    "    for b in range(1, n + 1):\n",
    "        if (graph[a][b]  + graph[b][a])<= small_list:\n",
    "            if graph[a][b] != 0 and graph[b][a] != 0:\n",
    "                small_list = (graph[a][b]  + graph[b][a])\n",
    "            \n",
    "if small_list < INF:\n",
    "    print(small_list)\n",
    "else:\n",
    "    print(-1)\n",
    "        "
   ]
  },
  {
   "cell_type": "code",
   "execution_count": null,
   "metadata": {},
   "outputs": [],
   "source": []
  }
 ],
 "metadata": {
  "kernelspec": {
   "display_name": "Python 3",
   "language": "python",
   "name": "python3"
  },
  "language_info": {
   "codemirror_mode": {
    "name": "ipython",
    "version": 3
   },
   "file_extension": ".py",
   "mimetype": "text/x-python",
   "name": "python",
   "nbconvert_exporter": "python",
   "pygments_lexer": "ipython3",
   "version": "3.6.5"
  }
 },
 "nbformat": 4,
 "nbformat_minor": 2
}
