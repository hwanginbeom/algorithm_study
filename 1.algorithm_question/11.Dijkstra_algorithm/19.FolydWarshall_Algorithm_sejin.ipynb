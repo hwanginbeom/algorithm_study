{
 "cells": [
  {
   "cell_type": "markdown",
   "metadata": {},
   "source": [
    "### 플로이드"
   ]
  },
  {
   "cell_type": "code",
   "execution_count": 4,
   "metadata": {},
   "outputs": [
    {
     "name": "stdout",
     "output_type": "stream",
     "text": [
      "5\n",
      "14\n",
      "1 2 2\n",
      "1 3 3\n",
      "1 4 1\n",
      "1 5 10\n",
      "2 4 2\n",
      "3 4 1\n",
      "3 5 1\n",
      "4 5 3\n",
      "3 5 10\n",
      "3 1 8\n",
      "1 4 2\n",
      "5 1 7\n",
      "3 4 2\n",
      "5 2 4\n",
      "0 2 3 1 4 \n",
      "12 0 15 2 5 \n",
      "8 5 0 1 1 \n",
      "10 7 13 0 3 \n",
      "7 4 10 6 0 \n"
     ]
    }
   ],
   "source": [
    "# 무한을 의미하는 값 10억 설정\n",
    "INF = int(1e9)\n",
    "\n",
    "# 노드의 개수 및 간선의 개수 입력받기\n",
    "n = int(input())\n",
    "m = int(input())\n",
    "# 2차원 리스트 만들고 무한으로 초기화\n",
    "graph = [[INF] * (n+1) for _ in range(n+1)]\n",
    "\n",
    "# 자기 자신에서 자기 자신으로 가는 비용은 0으로 초기화\n",
    "for a in range(1, n+1) :\n",
    "    for b in range(1, n+1) :\n",
    "        if a == b :\n",
    "            graph[a][b] = 0\n",
    "            \n",
    "# 각 간선에 대한 정보를 입력 받아 그 값을 초기화\n",
    "for _ in range(m) :\n",
    "    # a에서 b로 가는 비용은 c라고 설정\n",
    "    a, b, c = map(int, input().split())\n",
    "    graph[a][b] = min(c, graph[a][b])\n",
    "\n",
    "# 점화식에 따라 플로이드 워셜 알고리즘 수행\n",
    "for k in range(1, n+1) :\n",
    "    for a in range(1, n+1) :\n",
    "        for b in range(1, n+1) :\n",
    "            graph[a][b] = min(graph[a][b], graph[a][k] + graph[k][b])\n",
    "      \n",
    "# 수행된 결과를 출력\n",
    "for a in range(1, n+1) :\n",
    "    for b in range(1, n+1) :\n",
    "        # 도달할 수 없는 경우 무한이라고 출력\n",
    "        if graph[a][b] == INF :\n",
    "            print(0, end = ' ')\n",
    "        else :\n",
    "            print(graph[a][b], end = ' ')\n",
    "    print()"
   ]
  },
  {
   "cell_type": "markdown",
   "metadata": {},
   "source": [
    "### 운동"
   ]
  },
  {
   "cell_type": "code",
   "execution_count": 13,
   "metadata": {},
   "outputs": [
    {
     "name": "stdout",
     "output_type": "stream",
     "text": [
      "3 4 \n",
      "1 2 1\n",
      "3 2 1\n",
      "1 3 5\n",
      "2 3 2\n",
      "3\n"
     ]
    }
   ],
   "source": [
    "# 무한을 의미하는 값 10억 설정\n",
    "INF = int(1e9)\n",
    "\n",
    "# 노드의 개수 및 간선의 개수 입력받기\n",
    "n, m = map(int, input().split()) \n",
    "\n",
    "# 2차원 리스트 만들고 무한으로 초기화\n",
    "graph = [[INF] * (n+1) for _ in range(n+1)]\n",
    "            \n",
    "# 각 간선에 대한 정보를 입력 받아 그 값을 초기화\n",
    "for _ in range(m) :\n",
    "    # a에서 b로 가는 비용은 c라고 설정\n",
    "    a, b, c = map(int, input().split())\n",
    "    graph[a][b] = c\n",
    "\n",
    "# 점화식에 따라 플로이드 워셜 알고리즘 수행\n",
    "for k in range(1, n+1) :\n",
    "    for a in range(1, n+1) :\n",
    "        for b in range(1, n+1) :\n",
    "            graph[a][b] = min(graph[a][b], graph[a][k] + graph[k][b])\n",
    "\n",
    "# 수행된 결과를 출력\n",
    "min_cycle = INF\n",
    "for i in range(1, n+1) :\n",
    "    min_cycle = min(min_cycle, graph[i][i])\n",
    "        \n",
    "if min_cycle == INF :\n",
    "    print(-1)\n",
    "else :\n",
    "    print(min_cycle)"
   ]
  }
 ],
 "metadata": {
  "kernelspec": {
   "display_name": "Python 3",
   "language": "python",
   "name": "python3"
  },
  "language_info": {
   "codemirror_mode": {
    "name": "ipython",
    "version": 3
   },
   "file_extension": ".py",
   "mimetype": "text/x-python",
   "name": "python",
   "nbconvert_exporter": "python",
   "pygments_lexer": "ipython3",
   "version": "3.8.3"
  }
 },
 "nbformat": 4,
 "nbformat_minor": 4
}
