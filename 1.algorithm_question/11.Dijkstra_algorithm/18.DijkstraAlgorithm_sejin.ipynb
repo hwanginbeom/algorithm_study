{
 "cells": [
  {
   "cell_type": "markdown",
   "metadata": {},
   "source": [
    "### 최단 경로"
   ]
  },
  {
   "cell_type": "code",
   "execution_count": 2,
   "metadata": {},
   "outputs": [
    {
     "name": "stdout",
     "output_type": "stream",
     "text": [
      "5 6\n",
      "1\n",
      "5 1 1\n",
      "1 2 2\n",
      "1 3 3\n",
      "2 3 4\n",
      "2 4 5\n",
      "3 4 6\n",
      "0\n",
      "2\n",
      "3\n",
      "7\n",
      "INF\n"
     ]
    }
   ],
   "source": [
    "import heapq\n",
    "\n",
    "INF = int(1e9)\n",
    "\n",
    "n,m = map(int,input().split())\n",
    "start = int(input())\n",
    "\n",
    "graph = [[] for _ in range(n+1)]\n",
    "\n",
    "\n",
    "for _ in range(m) :\n",
    "    a, b, c = map(int,input().split())\n",
    "    graph[a].append([b,c])\n",
    "\n",
    "distance = [INF] * (n+1)\n",
    "\n",
    "def dijkstra(start) :\n",
    "    q = []\n",
    "    heapq.heappush(q,(0,start))\n",
    "    distance[start] = 0\n",
    "    \n",
    "    while q :\n",
    "        dist, now = heapq.heappop(q)\n",
    "        \n",
    "        if distance[now] < dist :\n",
    "            continue\n",
    "        \n",
    "        for i in graph[now] :\n",
    "            cost = dist + i[1]\n",
    "        \n",
    "            if cost < distance[i[0]]:\n",
    "                distance[i[0]] = cost\n",
    "                heapq.heappush(q,(cost, i[0]))\n",
    "                \n",
    "dijkstra(start)\n",
    "\n",
    "for i in range(1, n+1) :\n",
    "    if distance[i] == INF :\n",
    "        print('INF')\n",
    "    else :\n",
    "        print(distance[i])"
   ]
  },
  {
   "cell_type": "markdown",
   "metadata": {},
   "source": [
    "### 특정한 최단 경로"
   ]
  },
  {
   "cell_type": "code",
   "execution_count": 3,
   "metadata": {},
   "outputs": [
    {
     "name": "stdout",
     "output_type": "stream",
     "text": [
      "4 6\n",
      "1 2 3\n",
      "2 3 3\n",
      "3 4 1\n",
      "1 3 5\n",
      "2 4 5\n",
      "1 4 4\n",
      "2 3\n",
      "7\n"
     ]
    }
   ],
   "source": [
    "import heapq\n",
    "\n",
    "INF = int(1e9)\n",
    "\n",
    "n,m = map(int,input().split())\n",
    "start = 1\n",
    "\n",
    "graph = [[] for _ in range(n+1)]\n",
    "\n",
    "for _ in range(m):\n",
    "    a, b, c = map(int,input().split())\n",
    "    graph[a].append([b,c])\n",
    "    graph[b].append([a,c])\n",
    "    \n",
    "\n",
    "start1, start2 = map(int, input().split())\n",
    "    \n",
    "def dijkstra(start):\n",
    "    \n",
    "    distance = [INF] * (n+1)\n",
    "    q = []\n",
    "    \n",
    "    heapq.heappush(q,(0,start))\n",
    "    distance[start] = 0\n",
    "    \n",
    "    while q:\n",
    "        dist, now = heapq.heappop(q)\n",
    "        \n",
    "        if distance[now] < dist :\n",
    "            continue\n",
    "        \n",
    "        for i in graph[now] :\n",
    "            cost = dist + i[1]\n",
    "        \n",
    "            if cost < distance[i[0]]:\n",
    "                distance[i[0]] = cost\n",
    "                heapq.heappush(q,(cost, i[0]))\n",
    "    return distance\n",
    "\n",
    "\n",
    "start = dijkstra(1)\n",
    "v1 = dijkstra(start1)\n",
    "v2 = dijkstra(start2)\n",
    "\n",
    "result = min(start[start1] + v1[start2] + v2[n], start[start2] + v2[start1] + v1[n])\n",
    "answer = result if result <INF else -1\n",
    "\n",
    "print(answer)"
   ]
  }
 ],
 "metadata": {
  "kernelspec": {
   "display_name": "Python 3",
   "language": "python",
   "name": "python3"
  },
  "language_info": {
   "codemirror_mode": {
    "name": "ipython",
    "version": 3
   },
   "file_extension": ".py",
   "mimetype": "text/x-python",
   "name": "python",
   "nbconvert_exporter": "python",
   "pygments_lexer": "ipython3",
   "version": "3.8.3"
  }
 },
 "nbformat": 4,
 "nbformat_minor": 4
}
