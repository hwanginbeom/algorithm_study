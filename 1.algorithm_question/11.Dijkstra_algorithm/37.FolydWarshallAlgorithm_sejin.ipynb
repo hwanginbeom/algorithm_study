{
 "cells": [
  {
   "cell_type": "markdown",
   "metadata": {},
   "source": [
    "### 저울"
   ]
  },
  {
   "cell_type": "code",
   "execution_count": 1,
   "metadata": {},
   "outputs": [
    {
     "name": "stdout",
     "output_type": "stream",
     "text": [
      "6\n",
      "5\n",
      "1 2\n",
      "2 3\n",
      "3 4\n",
      "5 4\n",
      "6 5\n",
      "2\n",
      "2\n",
      "2\n",
      "0\n",
      "3\n",
      "3\n"
     ]
    }
   ],
   "source": [
    "n, m = int(input()), int(input())\n",
    "\n",
    "a = [[0]*(n+1) for _ in range(n+1)]\n",
    "INF = int(1e9)\n",
    "\n",
    "for _ in range(m):\n",
    "    x, y = map(int, input().split())\n",
    "    a[x][y] = 1\n",
    "\n",
    "for k in range(1,n+1):\n",
    "    for i in range(1,n+1):\n",
    "        for j in range(1,n+1):\n",
    "            if a[i][k] and a[k][j]:\n",
    "                a[i][j] = 1\n",
    "\n",
    "for i in range(1,n+1):\n",
    "    cnt = 0\n",
    "    for j in range(1,n+1):\n",
    "        if not a[i][j] and not a[j][i]:\n",
    "            cnt += 1\n",
    "    print(cnt-1)"
   ]
  }
 ],
 "metadata": {
  "kernelspec": {
   "display_name": "Python 3",
   "language": "python",
   "name": "python3"
  },
  "language_info": {
   "codemirror_mode": {
    "name": "ipython",
    "version": 3
   },
   "file_extension": ".py",
   "mimetype": "text/x-python",
   "name": "python",
   "nbconvert_exporter": "python",
   "pygments_lexer": "ipython3",
   "version": "3.8.3"
  }
 },
 "nbformat": 4,
 "nbformat_minor": 4
}
