{
 "cells": [
  {
   "cell_type": "code",
   "execution_count": 1,
   "metadata": {},
   "outputs": [
    {
     "name": "stdout",
     "output_type": "stream",
     "text": [
      "7\n",
      "pop\n",
      "-1\n",
      "top\n",
      "-1\n",
      "push 123\n",
      "top\n",
      "123\n",
      "pop\n",
      "123\n",
      "top\n",
      "-1\n",
      "pop\n",
      "-1\n"
     ]
    }
   ],
   "source": [
    "n = int(input())\n",
    "\n",
    "stack = []\n",
    "\n",
    "def func(x):\n",
    "    if x[0] == 'push':\n",
    "        stack.append(x[1])\n",
    "    elif x[0] == 'pop':\n",
    "        if len(stack) > 0:\n",
    "            print(stack[-1])\n",
    "            stack.pop()\n",
    "        else:\n",
    "            print(-1)\n",
    "    elif x[0] == 'size':\n",
    "        print(len(stack))\n",
    "    elif x[0] == 'empty':\n",
    "        if len(stack) == 0:\n",
    "            print(1)\n",
    "        else:\n",
    "            print(0)\n",
    "    else:\n",
    "        if len(stack) > 0:\n",
    "            print(stack[-1])\n",
    "        else:\n",
    "            print(-1)\n",
    "\n",
    "\n",
    "for i in range(n):\n",
    "    texxt = input().split()\n",
    "    func(texxt)"
   ]
  },
  {
   "cell_type": "code",
   "execution_count": 2,
   "metadata": {},
   "outputs": [
    {
     "name": "stdout",
     "output_type": "stream",
     "text": [
      "15\n",
      "push 1\n",
      "push 2\n",
      "front\n",
      "1\n",
      "back\n",
      "2\n",
      "size\n",
      "2\n",
      "empty\n",
      "0\n",
      "pop\n",
      "1\n",
      "pop\n",
      "2\n",
      "pop\n",
      "-1\n",
      "size\n",
      "0\n",
      "empty\n",
      "1\n",
      "pop\n",
      "-1\n",
      "push 3\n",
      "empty\n",
      "0\n",
      "front\n",
      "3\n"
     ]
    }
   ],
   "source": [
    "from collections import deque\n",
    "\n",
    "\n",
    "n = int(input())\n",
    "\n",
    "queue = deque()\n",
    "\n",
    "\n",
    "def func(x):\n",
    "    if x[0] == 'push':\n",
    "        queue.append(x[1])\n",
    "    elif x[0] == 'pop':\n",
    "        if len(queue) > 0:\n",
    "            print(queue[0])\n",
    "            queue.popleft()\n",
    "        else:\n",
    "            print(-1)\n",
    "    elif x[0] == 'size':\n",
    "        print(len(queue))\n",
    "    elif x[0] == 'empty':\n",
    "        if len(queue) == 0:\n",
    "            print(1)\n",
    "        else:\n",
    "            print(0)\n",
    "    elif x[0] == 'front':\n",
    "        if len(queue) > 0:\n",
    "            print(queue[0])\n",
    "        else:\n",
    "            print(-1)\n",
    "    else:\n",
    "        if len(queue) > 0:\n",
    "            print(queue[-1])\n",
    "        else:\n",
    "            print(-1)\n",
    "\n",
    "for i in range(n):\n",
    "    texxt = input().split()\n",
    "    func(texxt)"
   ]
  }
 ],
 "metadata": {
  "kernelspec": {
   "display_name": "Python 3",
   "language": "python",
   "name": "python3"
  },
  "language_info": {
   "codemirror_mode": {
    "name": "ipython",
    "version": 3
   },
   "file_extension": ".py",
   "mimetype": "text/x-python",
   "name": "python",
   "nbconvert_exporter": "python",
   "pygments_lexer": "ipython3",
   "version": "3.6.5"
  }
 },
 "nbformat": 4,
 "nbformat_minor": 2
}
