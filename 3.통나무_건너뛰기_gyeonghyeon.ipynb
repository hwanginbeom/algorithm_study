{
 "cells": [
  {
   "cell_type": "code",
   "execution_count": 15,
   "metadata": {},
   "outputs": [
    {
     "name": "stdout",
     "output_type": "stream",
     "text": [
      "3\n",
      "7\n",
      "13 10 12 11 10 11 12\n",
      "5\n",
      "2 4 5 7 9\n",
      "8\n",
      "6 6 6 6 6 6 6 6\n",
      "1\n",
      "4\n",
      "0\n"
     ]
    }
   ],
   "source": [
    "n = int(input())\n",
    "max_list = []\n",
    "for i in range(n):\n",
    "    m = int(input())\n",
    "    namu = list(map(int,input().split()))\n",
    "    namu_asc = sorted(namu)\n",
    "    namu_desc = sorted(namu,reverse=True)\n",
    "    if m % 2 != 0:\n",
    "        namu_wan = namu_asc[::2] + namu_desc[1::2]\n",
    "    else:\n",
    "        namu_wan = namu_asc[::2] + namu_desc[::2]\n",
    "    a = []\n",
    "    for x in range(1,m):\n",
    "        b = abs(namu_wan[x-1] - namu_wan[x])\n",
    "        a.append(b)\n",
    "    max_list.append(max(a))\n",
    "for idx in range(n):\n",
    "    print(max_list[idx], end='\\n')\n",
    "    "
   ]
  }
 ],
 "metadata": {
  "kernelspec": {
   "display_name": "Python 3",
   "language": "python",
   "name": "python3"
  },
  "language_info": {
   "codemirror_mode": {
    "name": "ipython",
    "version": 3
   },
   "file_extension": ".py",
   "mimetype": "text/x-python",
   "name": "python",
   "nbconvert_exporter": "python",
   "pygments_lexer": "ipython3",
   "version": "3.6.5"
  }
 },
 "nbformat": 4,
 "nbformat_minor": 2
}
