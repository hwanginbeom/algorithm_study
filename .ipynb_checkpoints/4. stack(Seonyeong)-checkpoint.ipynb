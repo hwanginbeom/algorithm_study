{
 "cells": [
  {
   "cell_type": "code",
   "execution_count": 2,
   "metadata": {},
   "outputs": [
    {
     "name": "stdout",
     "output_type": "stream",
     "text": [
      "7\n",
      "pop\n",
      "-1\n",
      "top\n",
      "-1\n",
      "push 123\n",
      "top\n",
      "123\n",
      "pop\n",
      "123\n",
      "top\n",
      "-1\n",
      "pop\n",
      "-1\n"
     ]
    }
   ],
   "source": [
    "import sys\n",
    "input = sys.stdin.readline\n",
    "\n",
    "stack = []\n",
    "n = int(input())\n",
    "\n",
    "for i in range(n) :\n",
    "    order = input().split()\n",
    "    \n",
    "    if order[0] == 'push' and len(order) == 2 :\n",
    "        stack.append(order[1])\n",
    "    elif order[0] == 'pop':\n",
    "        if len(stack)>0:\n",
    "            print(stack[-1])\n",
    "            stack.pop()\n",
    "        else:\n",
    "            print('-1')\n",
    "    elif order[0] == 'size':\n",
    "        print(len(stack))\n",
    "    elif order[0] == 'empty':\n",
    "        if len(stack)>0:\n",
    "            print('0')\n",
    "        else:\n",
    "            print('1')\n",
    "    elif order[0] == 'top':\n",
    "        if len(stack)>0:\n",
    "            print(stack[-1])\n",
    "        else:\n",
    "            print('-1')\n",
    "    else:\n",
    "        continue\n",
    "            "
   ]
  }
 ],
 "metadata": {
  "kernelspec": {
   "display_name": "Python 3",
   "language": "python",
   "name": "python3"
  },
  "language_info": {
   "codemirror_mode": {
    "name": "ipython",
    "version": 3
   },
   "file_extension": ".py",
   "mimetype": "text/x-python",
   "name": "python",
   "nbconvert_exporter": "python",
   "pygments_lexer": "ipython3",
   "version": "3.7.6"
  }
 },
 "nbformat": 4,
 "nbformat_minor": 4
}
